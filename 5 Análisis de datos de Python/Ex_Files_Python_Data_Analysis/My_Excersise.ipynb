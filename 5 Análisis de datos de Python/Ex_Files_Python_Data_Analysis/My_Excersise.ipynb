{
 "cells": [
  {
   "cell_type": "code",
   "execution_count": null,
   "id": "7636ee90-381b-4ac9-9d82-757af5fa9a23",
   "metadata": {},
   "outputs": [],
   "source": [
    "# What does [10 + k for k in range(10) if k % 2 == 0] return?\n",
    "# R: The values returned by the range iterator are filtered by the if condition, before adding 10 to each.\n"
   ]
  },
  {
   "cell_type": "code",
   "execution_count": 1,
   "id": "3dab511e-420b-461f-8e9d-208ceb883730",
   "metadata": {},
   "outputs": [
    {
     "data": {
      "text/plain": [
       "[10, 12, 14, 16, 18]"
      ]
     },
     "execution_count": 1,
     "metadata": {},
     "output_type": "execute_result"
    }
   ],
   "source": [
    "[10 + k for k in range(10) if k % 2 == 0]"
   ]
  },
  {
   "cell_type": "code",
   "execution_count": null,
   "id": "e244bec9-f2fe-4bf9-be77-a33c1651cb90",
   "metadata": {},
   "outputs": [],
   "source": [
    "# Which values does range(5, 25, 5) iterate through?\n",
    "# R: range(start, end, step) begins at \"start\", then continues to add \"step\" until it reaches \"end\" (which is not included in the output)\n"
   ]
  },
  {
   "cell_type": "code",
   "execution_count": 18,
   "id": "e5fcf174-a763-4866-9088-99615a89afc4",
   "metadata": {},
   "outputs": [
    {
     "name": "stdout",
     "output_type": "stream",
     "text": [
      "5\n",
      "10\n",
      "15\n",
      "20\n"
     ]
    }
   ],
   "source": [
    "for amount in range(5, 25, 5):\n",
    "    print(amount)"
   ]
  },
  {
   "cell_type": "code",
   "execution_count": 19,
   "id": "92f92e7b-3d78-44a0-96a5-da02a69987d7",
   "metadata": {},
   "outputs": [],
   "source": [
    "# What is the benefit of using comprehensions?\n",
    "# R: shorter, more intuitive code that uses less memory\n",
    "# Comprehensions can be shorter, use less memory, and may also be easier to understand.\n"
   ]
  },
  {
   "cell_type": "code",
   "execution_count": null,
   "id": "5d68484e-7ec2-4037-88df-bd7d7fb229ff",
   "metadata": {},
   "outputs": [],
   "source": [
    "# Which range construct would generate the values 2,7,12, and 17?\n",
    "# R: The range starts at 2 and increments by 5, until it is greater than or equal to 18."
   ]
  },
  {
   "cell_type": "code",
   "execution_count": 20,
   "id": "36435e4d-0d60-4132-919a-20ca2273612b",
   "metadata": {},
   "outputs": [
    {
     "name": "stdout",
     "output_type": "stream",
     "text": [
      "2\n",
      "7\n",
      "12\n",
      "17\n"
     ]
    }
   ],
   "source": [
    "for amount in range(2,18,5):\n",
    "    print(amount)"
   ]
  },
  {
   "cell_type": "code",
   "execution_count": null,
   "id": "f39c7497-bdab-4984-9de1-2de8f6f96954",
   "metadata": {},
   "outputs": [],
   "source": [
    "# Which of the following is NOT a common use of tuples in Python?\n",
    "\n",
    "# R: As vectors of numbers that can be summed: for example, (1,2,3) + (4,5,6)\n",
    "# Tuples do not support arithmetical operations. For that, a numpy array or a custom-designed class can be used.\n"
   ]
  },
  {
   "cell_type": "code",
   "execution_count": null,
   "id": "d34c48f6-eaa9-4502-84a8-8a82fc831e15",
   "metadata": {},
   "outputs": [],
   "source": [
    "# What is one advantage of classes over named tuples?\n",
    "# R: You can define methods for classes.\n",
    "# You can make custom definitions of operations, such as addition. \n"
   ]
  },
  {
   "cell_type": "code",
   "execution_count": null,
   "id": "3c0702f7-0d5e-4f51-948f-7ad568f11628",
   "metadata": {},
   "outputs": [],
   "source": [
    "# What is the difference between a list and a tuple?\n",
    "# R: A tuple cannot be modified.\n",
    "# Tuples are also defined with parentheses, but lists are defined with square brackets.\n"
   ]
  },
  {
   "cell_type": "code",
   "execution_count": null,
   "id": "f4e6116e-2497-43f3-b73d-a6f28297c36b",
   "metadata": {},
   "outputs": [],
   "source": [
    "# What does dict.items(), where dict is a Python dictionary, iterate over?\n",
    "# R: All pairs (key, value) from the dictionary\n",
    "# It is keys() that iterates over keys, and values() over values.\n"
   ]
  },
  {
   "cell_type": "code",
   "execution_count": null,
   "id": "08a27741-1d04-402f-aebd-164c70cb1d38",
   "metadata": {},
   "outputs": [],
   "source": [
    "# What is required for a dictionary key to be valid?\n",
    "# R: It must be unique and hashable.\n"
   ]
  },
  {
   "cell_type": "code",
   "execution_count": null,
   "id": "b76277e1-9269-4d72-b2ea-2dc18b0d2f34",
   "metadata": {},
   "outputs": [],
   "source": [
    "# What does [\"one\", \"two\", \"three\"][-4] return?\n",
    "# R: It throws the exception IndexError: list index out of range\n",
    "# Counting from the end, index -4 does not exist in a list of length three."
   ]
  },
  {
   "cell_type": "code",
   "execution_count": 21,
   "id": "2d74c47a-0d48-423e-85cd-f50511c30e64",
   "metadata": {},
   "outputs": [
    {
     "ename": "IndexError",
     "evalue": "list index out of range",
     "output_type": "error",
     "traceback": [
      "\u001b[1;31m---------------------------------------------------------------------------\u001b[0m",
      "\u001b[1;31mIndexError\u001b[0m                                Traceback (most recent call last)",
      "Cell \u001b[1;32mIn[21], line 1\u001b[0m\n\u001b[1;32m----> 1\u001b[0m [\u001b[38;5;124m\"\u001b[39m\u001b[38;5;124mone\u001b[39m\u001b[38;5;124m\"\u001b[39m, \u001b[38;5;124m\"\u001b[39m\u001b[38;5;124mtwo\u001b[39m\u001b[38;5;124m\"\u001b[39m, \u001b[38;5;124m\"\u001b[39m\u001b[38;5;124mthree\u001b[39m\u001b[38;5;124m\"\u001b[39m][\u001b[38;5;241m-\u001b[39m\u001b[38;5;241m4\u001b[39m]\n",
      "\u001b[1;31mIndexError\u001b[0m: list index out of range"
     ]
    }
   ],
   "source": [
    "[\"one\", \"two\", \"three\"][-4]"
   ]
  },
  {
   "cell_type": "code",
   "execution_count": null,
   "id": "dd44eeb0-26d3-4ab5-b263-78d62c4df5f7",
   "metadata": {},
   "outputs": [],
   "source": [
    "## What is the difference between loading additional elements to a set as opposed to a list?\n",
    "# R: You use add for a set and append for a list. The list is ordered; the set is not.\n",
    "# `append` places an additional element at the end of an ordered list.\n"
   ]
  },
  {
   "cell_type": "code",
   "execution_count": null,
   "id": "df40482a-3771-4140-8b0c-ab2ceae66e70",
   "metadata": {},
   "outputs": [],
   "source": [
    "# What is the main difference between the slow and fast anagram methods in the example?\n",
    "# R: the use of a dictionary\n",
    "# Matches with the same signature are found using dictionary keys.\n"
   ]
  },
  {
   "cell_type": "code",
   "execution_count": null,
   "id": "47e57e50-f549-445d-983e-6d5353f2cb36",
   "metadata": {},
   "outputs": [],
   "source": [
    "# What is the result of '&&'.join(sorted(\"ping\")?"
   ]
  },
  {
   "cell_type": "code",
   "execution_count": 24,
   "id": "a4b529ca-ab58-4837-ad40-33fb76a0c187",
   "metadata": {},
   "outputs": [
    {
     "data": {
      "text/plain": [
       "'g&&i&&n&&p'"
      ]
     },
     "execution_count": 24,
     "metadata": {},
     "output_type": "execute_result"
    }
   ],
   "source": [
    "'&&'.join(sorted(\"ping\"))"
   ]
  },
  {
   "cell_type": "code",
   "execution_count": null,
   "id": "9a266fef-51c1-4e91-aca8-13ca67e61454",
   "metadata": {},
   "outputs": [],
   "source": [
    "## Numpy arrays of numerical values are generally stored _____.\n",
    "# R: as contiguous blocks of memory\n",
    "# All values have the same size in memory, and are stored one after the other (by default, row after row).\n",
    "\n"
   ]
  },
  {
   "cell_type": "code",
   "execution_count": null,
   "id": "f12a8d31-e092-4b99-9d9f-2d3e314202e1",
   "metadata": {},
   "outputs": [],
   "source": [
    "# What is the purpose of NumPy?\n",
    "# R: to enable the use of arrays and permit compatibility with FORTRAN and C\n",
    "# NumPy allows many fixed variable types useful for array definition.\n"
   ]
  },
  {
   "cell_type": "code",
   "execution_count": null,
   "id": "67752eee-5d28-41db-9e7f-13155b051ae9",
   "metadata": {},
   "outputs": [],
   "source": [
    "# Which of the following returns array([0. , 0.25, 0.5 , 0.75, 1. ])?\n",
    "# R: np.linspace(start, end, len) returns \"len\" elements, equally spaced between \"start\" and \"end\" (included).\n"
   ]
  },
  {
   "cell_type": "code",
   "execution_count": 31,
   "id": "b6531f40-d778-4fc0-86a9-f7a0a1acb3e0",
   "metadata": {},
   "outputs": [
    {
     "data": {
      "text/plain": [
       "array([0.  , 0.25, 0.5 , 0.75, 1.  ])"
      ]
     },
     "execution_count": 31,
     "metadata": {},
     "output_type": "execute_result"
    }
   ],
   "source": [
    "import numpy as np\n",
    "np.linspace(0, 1, 5)"
   ]
  },
  {
   "cell_type": "code",
   "execution_count": null,
   "id": "fbcba910-5718-4d9b-8a87-382da0c70abb",
   "metadata": {},
   "outputs": [],
   "source": [
    "# If the string \"Station To Station\" is assigned to a record array field of dtype 'U6', what happens?\n",
    "# R: The field stores the string 'Statio'.\n",
    "# Values are truncated to the length of the field.\n"
   ]
  },
  {
   "cell_type": "code",
   "execution_count": null,
   "id": "642e70e7-5fc9-47a8-83d5-100ba8670f0e",
   "metadata": {},
   "outputs": [],
   "source": [
    "# If a = np.array([0,1,3,5,7,11]), what is a[a > 3]?\n",
    "# R: The condition is true for elements 5, 7, 11, which are then selected by numpy \"fancy indexing\""
   ]
  },
  {
   "cell_type": "code",
   "execution_count": 37,
   "id": "bf972dad-8e13-4c2b-88d5-301ce96ae2ec",
   "metadata": {},
   "outputs": [
    {
     "data": {
      "text/plain": [
       "array([ 5,  7, 11])"
      ]
     },
     "execution_count": 37,
     "metadata": {},
     "output_type": "execute_result"
    }
   ],
   "source": [
    "a = np.array([0,1,3,5,7,11])\n",
    "a[a > 3]"
   ]
  },
  {
   "cell_type": "code",
   "execution_count": null,
   "id": "231f0dab-f50a-4937-ac18-b3a73ddfe361",
   "metadata": {},
   "outputs": [],
   "source": [
    "# An array has dimensions 1000,1000,1. Which specification is equivalent to array[850,750,0]?\n",
    "# array[-150,-250,0]\n",
    "# One is indexing backwards."
   ]
  },
  {
   "cell_type": "code",
   "execution_count": null,
   "id": "91e8e05f-53c6-4a89-9bbe-6c6c51bca65a",
   "metadata": {},
   "outputs": [],
   "source": [
    "# What array does np.ones((3,3)) * np.linspace(0,1,3) return?\n",
    "# R: Broadcasting matches the last dimension of the two-dimensional array with the one-dimensional array, so each column is multiplied by a different number.\n"
   ]
  },
  {
   "cell_type": "code",
   "execution_count": 36,
   "id": "3609ce7b-3434-4b9f-b21b-388c3f98aecb",
   "metadata": {},
   "outputs": [
    {
     "data": {
      "text/plain": [
       "array([[0. , 0.5, 1. ],\n",
       "       [0. , 0.5, 1. ],\n",
       "       [0. , 0.5, 1. ]])"
      ]
     },
     "execution_count": 36,
     "metadata": {},
     "output_type": "execute_result"
    }
   ],
   "source": [
    "np.ones((3,3)) * np.linspace(0,1,3)"
   ]
  },
  {
   "cell_type": "code",
   "execution_count": null,
   "id": "06711b93-0026-43bb-b247-c17396195c61",
   "metadata": {},
   "outputs": [],
   "source": [
    "# What is the advantage of using the NumPy version of mathematical functions, rather than the ordinary Python versions?\n",
    "# R: The NumPy versions can operate on all elements of an array at once.\n",
    "# You can write shorter code."
   ]
  },
  {
   "cell_type": "code",
   "execution_count": null,
   "id": "fc5426cc-07b6-49dd-a661-f120ab72a99f",
   "metadata": {},
   "outputs": [],
   "source": [
    "# How can you avoid edge or end effects when using np.correlate?\n",
    "# R: by specifying the key 'valid'\n",
    "# This eliminates the effect of missing data before and after the sequence.\n"
   ]
  },
  {
   "cell_type": "code",
   "execution_count": null,
   "id": "e56b8c85-0517-4966-bd44-6b1560736b4c",
   "metadata": {},
   "outputs": [],
   "source": [
    "# How does np.interp work?\n",
    "# R: by linear interpolation\n",
    "# It draws line segments through the existing data.\n"
   ]
  },
  {
   "cell_type": "code",
   "execution_count": null,
   "id": "0ec79b1b-2111-4865-8fd3-fe2e8a95af5b",
   "metadata": {},
   "outputs": [],
   "source": [
    "# In addition to the actual data, what information is used by np.genfromtext?\n",
    "# R: the width of each field, the name of each field, the data types, and the stripping option\n",
    "# "
   ]
  },
  {
   "cell_type": "code",
   "execution_count": null,
   "id": "41027e47-7e1b-4d2b-9a77-a6fd51e4d63c",
   "metadata": {},
   "outputs": [],
   "source": []
  }
 ],
 "metadata": {
  "kernelspec": {
   "display_name": "Python [conda env:base] *",
   "language": "python",
   "name": "conda-base-py"
  },
  "language_info": {
   "codemirror_mode": {
    "name": "ipython",
    "version": 3
   },
   "file_extension": ".py",
   "mimetype": "text/x-python",
   "name": "python",
   "nbconvert_exporter": "python",
   "pygments_lexer": "ipython3",
   "version": "3.12.7"
  }
 },
 "nbformat": 4,
 "nbformat_minor": 5
}
