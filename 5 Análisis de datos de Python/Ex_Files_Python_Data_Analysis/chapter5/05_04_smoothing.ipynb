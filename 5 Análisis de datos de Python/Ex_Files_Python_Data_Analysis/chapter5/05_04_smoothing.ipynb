{
 "cells": [
  {
   "cell_type": "markdown",
   "metadata": {},
   "source": [
    "# 05_04: Smoothing Time Series Data"
   ]
  },
  {
   "cell_type": "code",
   "execution_count": 29,
   "metadata": {},
   "outputs": [
    {
     "ename": "SyntaxError",
     "evalue": "invalid syntax (3864679057.py, line 5)",
     "output_type": "error",
     "traceback": [
      "\u001b[1;36m  Cell \u001b[1;32mIn[29], line 5\u001b[1;36m\u001b[0m\n\u001b[1;33m    conda create -n my-env\u001b[0m\n\u001b[1;37m          ^\u001b[0m\n\u001b[1;31mSyntaxError\u001b[0m\u001b[1;31m:\u001b[0m invalid syntax\n"
     ]
    }
   ],
   "source": [
    "import math\n",
    "import collections\n",
    "import urllib\n",
    "\n",
    "import numpy as np\n",
    "import pandas as pd\n",
    "import matplotlib.pyplot as pp\n",
    "\n",
    "%matplotlib inline"
   ]
  },
  {
   "cell_type": "code",
   "execution_count": 28,
   "metadata": {},
   "outputs": [],
   "source": [
    "import getweather\n",
    "\n",
    "def fillnans(array):\n",
    "    x = np.arange(len(array))\n",
    "    good = ~np.isnan(array)\n",
    "\n",
    "    return np.interp(x, x[good], array[good])"
   ]
  },
  {
   "cell_type": "code",
   "execution_count": 20,
   "metadata": {
    "scrolled": true
   },
   "outputs": [
    {
     "ename": "KeyError",
     "evalue": "\"['SNOW'] not in index\"",
     "output_type": "error",
     "traceback": [
      "\u001b[1;31m---------------------------------------------------------------------------\u001b[0m",
      "\u001b[1;31mKeyError\u001b[0m                                  Traceback (most recent call last)",
      "Cell \u001b[1;32mIn[20], line 1\u001b[0m\n\u001b[1;32m----> 1\u001b[0m hilo \u001b[38;5;241m=\u001b[39m getweather\u001b[38;5;241m.\u001b[39mgetyear(\u001b[38;5;124m'\u001b[39m\u001b[38;5;124mHILO\u001b[39m\u001b[38;5;124m'\u001b[39m, [\u001b[38;5;124m'\u001b[39m\u001b[38;5;124mTMIN\u001b[39m\u001b[38;5;124m'\u001b[39m,\u001b[38;5;124m'\u001b[39m\u001b[38;5;124mTMAX\u001b[39m\u001b[38;5;124m'\u001b[39m], \u001b[38;5;241m2000\u001b[39m)\n",
      "File \u001b[1;32m~\\Desktop\\5 Análisis de datos de Python\\Ex_Files_Python_Data_Analysis\\chapter5\\getweather.py:173\u001b[0m, in \u001b[0;36mgetyear\u001b[1;34m(station_name, elements, year)\u001b[0m\n\u001b[0;32m    164\u001b[0m \u001b[38;5;28;01mdef\u001b[39;00m \u001b[38;5;21mgetyear\u001b[39m(station_name, elements, year):\n\u001b[0;32m    165\u001b[0m \u001b[38;5;250m    \u001b[39m\u001b[38;5;124;03m\"\"\"Make a NumPy record array of length 365, containing weather data\u001b[39;00m\n\u001b[0;32m    166\u001b[0m \u001b[38;5;124;03m    at station_name for the list of requested elements (TMIN/TMAX/PRCP/SNOW),\u001b[39;00m\n\u001b[0;32m    167\u001b[0m \u001b[38;5;124;03m    restricted to year.\u001b[39;00m\n\u001b[1;32m   (...)\u001b[0m\n\u001b[0;32m    170\u001b[0m \u001b[38;5;124;03m    with station_name, but give precedence to HCN and GSN stations.\u001b[39;00m\n\u001b[0;32m    171\u001b[0m \u001b[38;5;124;03m    \"\"\"\u001b[39;00m\n\u001b[1;32m--> 173\u001b[0m     alldata \u001b[38;5;241m=\u001b[39m getdata(station_name)\n\u001b[0;32m    175\u001b[0m     \u001b[38;5;66;03m# select data by year, and get rid of the extra day in leap years\u001b[39;00m\n\u001b[0;32m    176\u001b[0m     \u001b[38;5;66;03m# then pick out the \"element\" column\u001b[39;00m\n\u001b[0;32m    177\u001b[0m     yeardata \u001b[38;5;241m=\u001b[39m alldata[(alldata\u001b[38;5;241m.\u001b[39mindex\u001b[38;5;241m.\u001b[39myear \u001b[38;5;241m==\u001b[39m year) \u001b[38;5;241m&\u001b[39m (alldata\u001b[38;5;241m.\u001b[39mindex\u001b[38;5;241m.\u001b[39mdayofyear \u001b[38;5;241m<\u001b[39m \u001b[38;5;241m366\u001b[39m)]\n",
      "File \u001b[1;32m~\\Desktop\\5 Análisis de datos de Python\\Ex_Files_Python_Data_Analysis\\chapter5\\getweather.py:154\u001b[0m, in \u001b[0;36mgetdata\u001b[1;34m(station_name)\u001b[0m\n\u001b[0;32m    152\u001b[0m pw \u001b[38;5;241m=\u001b[39m pw\u001b[38;5;241m.\u001b[39mpivot(index\u001b[38;5;241m=\u001b[39m\u001b[38;5;124m'\u001b[39m\u001b[38;5;124mdate\u001b[39m\u001b[38;5;124m'\u001b[39m, columns\u001b[38;5;241m=\u001b[39m\u001b[38;5;124m'\u001b[39m\u001b[38;5;124melement\u001b[39m\u001b[38;5;124m'\u001b[39m)[\u001b[38;5;124m'\u001b[39m\u001b[38;5;124mvalue\u001b[39m\u001b[38;5;124m'\u001b[39m]\n\u001b[0;32m    153\u001b[0m pw\u001b[38;5;241m.\u001b[39mcolumns\u001b[38;5;241m.\u001b[39mname \u001b[38;5;241m=\u001b[39m \u001b[38;5;28;01mNone\u001b[39;00m    \n\u001b[1;32m--> 154\u001b[0m pw \u001b[38;5;241m=\u001b[39m pw[[\u001b[38;5;124m'\u001b[39m\u001b[38;5;124mTMIN\u001b[39m\u001b[38;5;124m'\u001b[39m,\u001b[38;5;124m'\u001b[39m\u001b[38;5;124mTMAX\u001b[39m\u001b[38;5;124m'\u001b[39m,\u001b[38;5;124m'\u001b[39m\u001b[38;5;124mPRCP\u001b[39m\u001b[38;5;124m'\u001b[39m,\u001b[38;5;124m'\u001b[39m\u001b[38;5;124mSNOW\u001b[39m\u001b[38;5;124m'\u001b[39m]]\n\u001b[0;32m    156\u001b[0m \u001b[38;5;66;03m# last, convert temperatures to degrees\u001b[39;00m\n\u001b[0;32m    157\u001b[0m pw[\u001b[38;5;124m'\u001b[39m\u001b[38;5;124mTMIN\u001b[39m\u001b[38;5;124m'\u001b[39m] \u001b[38;5;241m/\u001b[39m\u001b[38;5;241m=\u001b[39m \u001b[38;5;241m10.0\u001b[39m\n",
      "File \u001b[1;32mF:\\Users\\Luis\\anaconda3\\Lib\\site-packages\\pandas\\core\\frame.py:4108\u001b[0m, in \u001b[0;36mDataFrame.__getitem__\u001b[1;34m(self, key)\u001b[0m\n\u001b[0;32m   4106\u001b[0m     \u001b[38;5;28;01mif\u001b[39;00m is_iterator(key):\n\u001b[0;32m   4107\u001b[0m         key \u001b[38;5;241m=\u001b[39m \u001b[38;5;28mlist\u001b[39m(key)\n\u001b[1;32m-> 4108\u001b[0m     indexer \u001b[38;5;241m=\u001b[39m \u001b[38;5;28mself\u001b[39m\u001b[38;5;241m.\u001b[39mcolumns\u001b[38;5;241m.\u001b[39m_get_indexer_strict(key, \u001b[38;5;124m\"\u001b[39m\u001b[38;5;124mcolumns\u001b[39m\u001b[38;5;124m\"\u001b[39m)[\u001b[38;5;241m1\u001b[39m]\n\u001b[0;32m   4110\u001b[0m \u001b[38;5;66;03m# take() does not accept boolean indexers\u001b[39;00m\n\u001b[0;32m   4111\u001b[0m \u001b[38;5;28;01mif\u001b[39;00m \u001b[38;5;28mgetattr\u001b[39m(indexer, \u001b[38;5;124m\"\u001b[39m\u001b[38;5;124mdtype\u001b[39m\u001b[38;5;124m\"\u001b[39m, \u001b[38;5;28;01mNone\u001b[39;00m) \u001b[38;5;241m==\u001b[39m \u001b[38;5;28mbool\u001b[39m:\n",
      "File \u001b[1;32mF:\\Users\\Luis\\anaconda3\\Lib\\site-packages\\pandas\\core\\indexes\\base.py:6200\u001b[0m, in \u001b[0;36mIndex._get_indexer_strict\u001b[1;34m(self, key, axis_name)\u001b[0m\n\u001b[0;32m   6197\u001b[0m \u001b[38;5;28;01melse\u001b[39;00m:\n\u001b[0;32m   6198\u001b[0m     keyarr, indexer, new_indexer \u001b[38;5;241m=\u001b[39m \u001b[38;5;28mself\u001b[39m\u001b[38;5;241m.\u001b[39m_reindex_non_unique(keyarr)\n\u001b[1;32m-> 6200\u001b[0m \u001b[38;5;28mself\u001b[39m\u001b[38;5;241m.\u001b[39m_raise_if_missing(keyarr, indexer, axis_name)\n\u001b[0;32m   6202\u001b[0m keyarr \u001b[38;5;241m=\u001b[39m \u001b[38;5;28mself\u001b[39m\u001b[38;5;241m.\u001b[39mtake(indexer)\n\u001b[0;32m   6203\u001b[0m \u001b[38;5;28;01mif\u001b[39;00m \u001b[38;5;28misinstance\u001b[39m(key, Index):\n\u001b[0;32m   6204\u001b[0m     \u001b[38;5;66;03m# GH 42790 - Preserve name from an Index\u001b[39;00m\n",
      "File \u001b[1;32mF:\\Users\\Luis\\anaconda3\\Lib\\site-packages\\pandas\\core\\indexes\\base.py:6252\u001b[0m, in \u001b[0;36mIndex._raise_if_missing\u001b[1;34m(self, key, indexer, axis_name)\u001b[0m\n\u001b[0;32m   6249\u001b[0m     \u001b[38;5;28;01mraise\u001b[39;00m \u001b[38;5;167;01mKeyError\u001b[39;00m(\u001b[38;5;124mf\u001b[39m\u001b[38;5;124m\"\u001b[39m\u001b[38;5;124mNone of [\u001b[39m\u001b[38;5;132;01m{\u001b[39;00mkey\u001b[38;5;132;01m}\u001b[39;00m\u001b[38;5;124m] are in the [\u001b[39m\u001b[38;5;132;01m{\u001b[39;00maxis_name\u001b[38;5;132;01m}\u001b[39;00m\u001b[38;5;124m]\u001b[39m\u001b[38;5;124m\"\u001b[39m)\n\u001b[0;32m   6251\u001b[0m not_found \u001b[38;5;241m=\u001b[39m \u001b[38;5;28mlist\u001b[39m(ensure_index(key)[missing_mask\u001b[38;5;241m.\u001b[39mnonzero()[\u001b[38;5;241m0\u001b[39m]]\u001b[38;5;241m.\u001b[39munique())\n\u001b[1;32m-> 6252\u001b[0m \u001b[38;5;28;01mraise\u001b[39;00m \u001b[38;5;167;01mKeyError\u001b[39;00m(\u001b[38;5;124mf\u001b[39m\u001b[38;5;124m\"\u001b[39m\u001b[38;5;132;01m{\u001b[39;00mnot_found\u001b[38;5;132;01m}\u001b[39;00m\u001b[38;5;124m not in index\u001b[39m\u001b[38;5;124m\"\u001b[39m)\n",
      "\u001b[1;31mKeyError\u001b[0m: \"['SNOW'] not in index\""
     ]
    }
   ],
   "source": [
    "hilo = getweather.getyear('HILO', ['TMIN','TMAX'], 2000)"
   ]
  },
  {
   "cell_type": "code",
   "execution_count": 6,
   "metadata": {},
   "outputs": [
    {
     "ename": "NameError",
     "evalue": "name 'hilo' is not defined",
     "output_type": "error",
     "traceback": [
      "\u001b[1;31m---------------------------------------------------------------------------\u001b[0m",
      "\u001b[1;31mNameError\u001b[0m                                 Traceback (most recent call last)",
      "Cell \u001b[1;32mIn[6], line 1\u001b[0m\n\u001b[1;32m----> 1\u001b[0m hilo[\u001b[38;5;124m'\u001b[39m\u001b[38;5;124mTMIN\u001b[39m\u001b[38;5;124m'\u001b[39m], hilo[\u001b[38;5;124m'\u001b[39m\u001b[38;5;124mTMAX\u001b[39m\u001b[38;5;124m'\u001b[39m] \u001b[38;5;241m=\u001b[39m fillnans(hilo[\u001b[38;5;124m'\u001b[39m\u001b[38;5;124mTMIN\u001b[39m\u001b[38;5;124m'\u001b[39m]), fillnans(hilo[\u001b[38;5;124m'\u001b[39m\u001b[38;5;124mTMAX\u001b[39m\u001b[38;5;124m'\u001b[39m])\n",
      "\u001b[1;31mNameError\u001b[0m: name 'hilo' is not defined"
     ]
    }
   ],
   "source": [
    "hilo['TMIN'], hilo['TMAX'] = fillnans(hilo['TMIN']), fillnans(hilo['TMAX'])"
   ]
  },
  {
   "cell_type": "code",
   "execution_count": 13,
   "metadata": {},
   "outputs": [
    {
     "ename": "NameError",
     "evalue": "name 'hilo' is not defined",
     "output_type": "error",
     "traceback": [
      "\u001b[1;31m---------------------------------------------------------------------------\u001b[0m",
      "\u001b[1;31mNameError\u001b[0m                                 Traceback (most recent call last)",
      "Cell \u001b[1;32mIn[13], line 1\u001b[0m\n\u001b[1;32m----> 1\u001b[0m np\u001b[38;5;241m.\u001b[39mmean(hilo[\u001b[38;5;124m'\u001b[39m\u001b[38;5;124mTMIN\u001b[39m\u001b[38;5;124m'\u001b[39m]), np\u001b[38;5;241m.\u001b[39mmin(hilo[\u001b[38;5;124m'\u001b[39m\u001b[38;5;124mTMIN\u001b[39m\u001b[38;5;124m'\u001b[39m]), np\u001b[38;5;241m.\u001b[39mmax(hilo[\u001b[38;5;124m'\u001b[39m\u001b[38;5;124mTMIN\u001b[39m\u001b[38;5;124m'\u001b[39m])\n",
      "\u001b[1;31mNameError\u001b[0m: name 'hilo' is not defined"
     ]
    }
   ],
   "source": [
    "np.mean(hilo['TMIN']), np.min(hilo['TMIN']), np.max(hilo['TMIN'])"
   ]
  },
  {
   "cell_type": "code",
   "execution_count": 15,
   "metadata": {},
   "outputs": [
    {
     "ename": "NameError",
     "evalue": "name 'hilo' is not defined",
     "output_type": "error",
     "traceback": [
      "\u001b[1;31m---------------------------------------------------------------------------\u001b[0m",
      "\u001b[1;31mNameError\u001b[0m                                 Traceback (most recent call last)",
      "Cell \u001b[1;32mIn[15], line 1\u001b[0m\n\u001b[1;32m----> 1\u001b[0m pp\u001b[38;5;241m.\u001b[39mplot(hilo[\u001b[38;5;124m'\u001b[39m\u001b[38;5;124mTMIN\u001b[39m\u001b[38;5;124m'\u001b[39m])\n\u001b[0;32m      3\u001b[0m \u001b[38;5;66;03m# plot horizontal lines at mean, min, and max of TMIN data\u001b[39;00m\n\u001b[0;32m      4\u001b[0m \u001b[38;5;28;01mfor\u001b[39;00m value \u001b[38;5;129;01min\u001b[39;00m [np\u001b[38;5;241m.\u001b[39mmean(hilo[\u001b[38;5;124m'\u001b[39m\u001b[38;5;124mTMIN\u001b[39m\u001b[38;5;124m'\u001b[39m]), np\u001b[38;5;241m.\u001b[39mmin(hilo[\u001b[38;5;124m'\u001b[39m\u001b[38;5;124mTMIN\u001b[39m\u001b[38;5;124m'\u001b[39m]), np\u001b[38;5;241m.\u001b[39mmax(hilo[\u001b[38;5;124m'\u001b[39m\u001b[38;5;124mTMIN\u001b[39m\u001b[38;5;124m'\u001b[39m])]:\n",
      "\u001b[1;31mNameError\u001b[0m: name 'hilo' is not defined"
     ]
    }
   ],
   "source": [
    "pp.plot(hilo['TMIN'])\n",
    "\n",
    "# plot horizontal lines at mean, min, and max of TMIN data\n",
    "for value in [np.mean(hilo['TMIN']), np.min(hilo['TMIN']), np.max(hilo['TMIN'])]:\n",
    "    pp.axhline(value, linestyle=':')"
   ]
  },
  {
   "cell_type": "code",
   "execution_count": null,
   "metadata": {},
   "outputs": [],
   "source": [
    "mean, err = np.mean(hilo['TMIN']), math.sqrt(np.var(hilo['TMIN']))"
   ]
  },
  {
   "cell_type": "code",
   "execution_count": 14,
   "metadata": {},
   "outputs": [
    {
     "ename": "NameError",
     "evalue": "name 'hilo' is not defined",
     "output_type": "error",
     "traceback": [
      "\u001b[1;31m---------------------------------------------------------------------------\u001b[0m",
      "\u001b[1;31mNameError\u001b[0m                                 Traceback (most recent call last)",
      "Cell \u001b[1;32mIn[14], line 1\u001b[0m\n\u001b[1;32m----> 1\u001b[0m pp\u001b[38;5;241m.\u001b[39mplot(hilo[\u001b[38;5;124m'\u001b[39m\u001b[38;5;124mTMIN\u001b[39m\u001b[38;5;124m'\u001b[39m])\n\u001b[0;32m      3\u001b[0m \u001b[38;5;66;03m# plot horizontal lines at mean, mean - std error, and mean + std error\u001b[39;00m\n\u001b[0;32m      4\u001b[0m \u001b[38;5;28;01mfor\u001b[39;00m value \u001b[38;5;129;01min\u001b[39;00m [mean, mean \u001b[38;5;241m-\u001b[39m err, mean \u001b[38;5;241m+\u001b[39m err]:\n",
      "\u001b[1;31mNameError\u001b[0m: name 'hilo' is not defined"
     ]
    }
   ],
   "source": [
    "pp.plot(hilo['TMIN'])\n",
    "\n",
    "# plot horizontal lines at mean, mean - std error, and mean + std error\n",
    "for value in [mean, mean - err, mean + err]:\n",
    "    pp.axhline(value, linestyle=':')"
   ]
  },
  {
   "cell_type": "code",
   "execution_count": null,
   "metadata": {},
   "outputs": [],
   "source": [
    "rain = getweather.getyear('HILO', ['PRCP'], 2000)['PRCP']"
   ]
  },
  {
   "cell_type": "code",
   "execution_count": null,
   "metadata": {},
   "outputs": [],
   "source": [
    "pp.plot(rain)"
   ]
  },
  {
   "cell_type": "code",
   "execution_count": null,
   "metadata": {},
   "outputs": [],
   "source": [
    "# show the effects of correlating a sparse vector\n",
    "# with a triangular mask\n",
    "\n",
    "x = np.array([0,0,0,0,1,0,0,0,0,0,1,0,0,0])\n",
    "\n",
    "mask = np.array([0.05,0.2,0.5,0.2,0.05])\n",
    "y = np.correlate(x, mask, 'same')\n",
    "\n",
    "pp.plot(x, 'o')\n",
    "\n",
    "pp.plot(y, 'x')"
   ]
  },
  {
   "cell_type": "code",
   "execution_count": null,
   "metadata": {},
   "outputs": [],
   "source": [
    "np.ones(10) / 10"
   ]
  },
  {
   "cell_type": "code",
   "execution_count": null,
   "metadata": {},
   "outputs": [],
   "source": [
    "# TMIN data, smoothed with uniform mask of length 10;\n",
    "# perform partial correlation on boundaries (mode = \"same\")\n",
    "\n",
    "pp.plot(hilo['TMIN'], '.', ms=3)\n",
    "pp.plot(np.correlate(hilo['TMIN'], np.ones(10)/10, 'same'))"
   ]
  },
  {
   "cell_type": "code",
   "execution_count": null,
   "metadata": {},
   "outputs": [],
   "source": [
    "# TMIN data, smoothed with uniform mask of length 10;\n",
    "# drop boundary values that cannot be fully correlated (mode = \"valid\")\n",
    "\n",
    "pp.plot(hilo['TMIN'], '.', ms=3)\n",
    "pp.plot(np.correlate(hilo['TMIN'], np.ones(10)/10, 'valid'))"
   ]
  },
  {
   "cell_type": "code",
   "execution_count": null,
   "metadata": {},
   "outputs": [],
   "source": [
    "# smooth any array\n",
    "\n",
    "def smooth(array, window=10, mode='valid'):\n",
    "    return np.correlate(array, np.ones(window)/window, mode)"
   ]
  },
  {
   "cell_type": "code",
   "execution_count": null,
   "metadata": {},
   "outputs": [],
   "source": [
    "pp.plot(hilo['TMIN'], '.', ms=3)\n",
    "pp.plot(smooth(hilo['TMIN'], 10))\n",
    "\n",
    "pp.plot(hilo['TMAX'], '.', ms=3)\n",
    "pp.plot(smooth(hilo['TMAX'], 10))"
   ]
  },
  {
   "cell_type": "code",
   "execution_count": null,
   "metadata": {},
   "outputs": [],
   "source": [
    "# load TMIN and TMAX data for a station and year; fill NaNs;\n",
    "# plot unsmoothed data as dots, smoothed data as lines,\n",
    "# dropping boundary values and adjusting x axis consistently\n",
    "\n",
    "def plotsmooth(station, year):\n",
    "    stationdata = getweather.getyear(station, ['TMIN','TMAX'], year)\n",
    "\n",
    "    for obs in ['TMIN','TMAX']:   \n",
    "        stationdata[obs] = fillnans(stationdata[obs])\n",
    "    \n",
    "        # thinner points\n",
    "        pp.plot(stationdata[obs], '.', ms=1)\n",
    "        pp.plot(range(10,356), smooth(stationdata[obs], 20))\n",
    "    \n",
    "    pp.title(station)\n",
    "    pp.axis(xmin=1, xmax=365, ymin=-10, ymax=45)"
   ]
  },
  {
   "cell_type": "code",
   "execution_count": null,
   "metadata": {},
   "outputs": [],
   "source": [
    "plotsmooth('HILO', 2000)\n",
    "plotsmooth('HILO', 2001)\n",
    "plotsmooth('HILO', 2002)\n",
    "\n",
    "pp.axis(ymin=15,ymax=30)"
   ]
  },
  {
   "cell_type": "code",
   "execution_count": null,
   "metadata": {},
   "outputs": [],
   "source": [
    "# plot four cities in a two-by-two grid\n",
    "\n",
    "pp.figure(figsize=(12,9))\n",
    "\n",
    "for i, city in enumerate(['PASADENA','NEW YORK','SAN DIEGO','MINNEAPOLIS']):\n",
    "    pp.subplot(2,2,i+1)\n",
    "    plotsmooth(city, 2000)"
   ]
  }
 ],
 "metadata": {
  "kernelspec": {
   "display_name": "base",
   "language": "python",
   "name": "python3"
  },
  "language_info": {
   "codemirror_mode": {
    "name": "ipython",
    "version": 3
   },
   "file_extension": ".py",
   "mimetype": "text/x-python",
   "name": "python",
   "nbconvert_exporter": "python",
   "pygments_lexer": "ipython3",
   "version": "3.12.7"
  }
 },
 "nbformat": 4,
 "nbformat_minor": 4
}
