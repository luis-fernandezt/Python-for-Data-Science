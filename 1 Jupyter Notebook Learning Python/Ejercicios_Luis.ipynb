{
 "cells": [
  {
   "cell_type": "code",
   "execution_count": 1,
   "id": "80103c03-3be1-494d-8c75-358bcc5df144",
   "metadata": {},
   "outputs": [],
   "source": [
    "import pandas as pd"
   ]
  },
  {
   "cell_type": "code",
   "execution_count": 2,
   "id": "9588bb16-eaa4-43e6-9972-0707cb10c426",
   "metadata": {},
   "outputs": [],
   "source": [
    "us_babies = pd.read_csv(\"us_baby_names.csv\")"
   ]
  },
  {
   "cell_type": "code",
   "execution_count": 3,
   "id": "1b438642-7a82-489e-a526-54ce0fadfe61",
   "metadata": {},
   "outputs": [
    {
     "data": {
      "text/html": [
       "<div>\n",
       "<style scoped>\n",
       "    .dataframe tbody tr th:only-of-type {\n",
       "        vertical-align: middle;\n",
       "    }\n",
       "\n",
       "    .dataframe tbody tr th {\n",
       "        vertical-align: top;\n",
       "    }\n",
       "\n",
       "    .dataframe thead th {\n",
       "        text-align: right;\n",
       "    }\n",
       "</style>\n",
       "<table border=\"1\" class=\"dataframe\">\n",
       "  <thead>\n",
       "    <tr style=\"text-align: right;\">\n",
       "      <th></th>\n",
       "      <th>Id</th>\n",
       "      <th>Name</th>\n",
       "      <th>Year</th>\n",
       "      <th>Gender</th>\n",
       "      <th>Count</th>\n",
       "    </tr>\n",
       "  </thead>\n",
       "  <tbody>\n",
       "    <tr>\n",
       "      <th>0</th>\n",
       "      <td>1</td>\n",
       "      <td>Mary</td>\n",
       "      <td>1880</td>\n",
       "      <td>F</td>\n",
       "      <td>7065</td>\n",
       "    </tr>\n",
       "    <tr>\n",
       "      <th>1</th>\n",
       "      <td>2</td>\n",
       "      <td>Anna</td>\n",
       "      <td>1880</td>\n",
       "      <td>F</td>\n",
       "      <td>2604</td>\n",
       "    </tr>\n",
       "    <tr>\n",
       "      <th>2</th>\n",
       "      <td>3</td>\n",
       "      <td>Emma</td>\n",
       "      <td>1880</td>\n",
       "      <td>F</td>\n",
       "      <td>2003</td>\n",
       "    </tr>\n",
       "    <tr>\n",
       "      <th>3</th>\n",
       "      <td>4</td>\n",
       "      <td>Elizabeth</td>\n",
       "      <td>1880</td>\n",
       "      <td>F</td>\n",
       "      <td>1939</td>\n",
       "    </tr>\n",
       "    <tr>\n",
       "      <th>4</th>\n",
       "      <td>5</td>\n",
       "      <td>Minnie</td>\n",
       "      <td>1880</td>\n",
       "      <td>F</td>\n",
       "      <td>1746</td>\n",
       "    </tr>\n",
       "    <tr>\n",
       "      <th>...</th>\n",
       "      <td>...</td>\n",
       "      <td>...</td>\n",
       "      <td>...</td>\n",
       "      <td>...</td>\n",
       "      <td>...</td>\n",
       "    </tr>\n",
       "    <tr>\n",
       "      <th>1825428</th>\n",
       "      <td>1825429</td>\n",
       "      <td>Zykeem</td>\n",
       "      <td>2014</td>\n",
       "      <td>M</td>\n",
       "      <td>5</td>\n",
       "    </tr>\n",
       "    <tr>\n",
       "      <th>1825429</th>\n",
       "      <td>1825430</td>\n",
       "      <td>Zymeer</td>\n",
       "      <td>2014</td>\n",
       "      <td>M</td>\n",
       "      <td>5</td>\n",
       "    </tr>\n",
       "    <tr>\n",
       "      <th>1825430</th>\n",
       "      <td>1825431</td>\n",
       "      <td>Zymiere</td>\n",
       "      <td>2014</td>\n",
       "      <td>M</td>\n",
       "      <td>5</td>\n",
       "    </tr>\n",
       "    <tr>\n",
       "      <th>1825431</th>\n",
       "      <td>1825432</td>\n",
       "      <td>Zyran</td>\n",
       "      <td>2014</td>\n",
       "      <td>M</td>\n",
       "      <td>5</td>\n",
       "    </tr>\n",
       "    <tr>\n",
       "      <th>1825432</th>\n",
       "      <td>1825433</td>\n",
       "      <td>Zyrin</td>\n",
       "      <td>2014</td>\n",
       "      <td>M</td>\n",
       "      <td>5</td>\n",
       "    </tr>\n",
       "  </tbody>\n",
       "</table>\n",
       "<p>1825433 rows × 5 columns</p>\n",
       "</div>"
      ],
      "text/plain": [
       "              Id       Name  Year Gender  Count\n",
       "0              1       Mary  1880      F   7065\n",
       "1              2       Anna  1880      F   2604\n",
       "2              3       Emma  1880      F   2003\n",
       "3              4  Elizabeth  1880      F   1939\n",
       "4              5     Minnie  1880      F   1746\n",
       "...          ...        ...   ...    ...    ...\n",
       "1825428  1825429     Zykeem  2014      M      5\n",
       "1825429  1825430     Zymeer  2014      M      5\n",
       "1825430  1825431    Zymiere  2014      M      5\n",
       "1825431  1825432      Zyran  2014      M      5\n",
       "1825432  1825433      Zyrin  2014      M      5\n",
       "\n",
       "[1825433 rows x 5 columns]"
      ]
     },
     "execution_count": 3,
     "metadata": {},
     "output_type": "execute_result"
    }
   ],
   "source": [
    "us_babies"
   ]
  },
  {
   "cell_type": "code",
   "execution_count": 4,
   "id": "26d01d4a-a777-419f-bd90-08df1e1b8c77",
   "metadata": {},
   "outputs": [],
   "source": [
    "us_babies_2014 = us_babies.loc[us_babies[\"Year\"] == 2014, :]"
   ]
  },
  {
   "cell_type": "code",
   "execution_count": 5,
   "id": "573aa7eb-0339-4cb1-8ef7-9b29319a48d3",
   "metadata": {},
   "outputs": [],
   "source": [
    "us_babies_2014 = us_babies.loc[us_babies[\"Year\"] == 2014, :]"
   ]
  },
  {
   "cell_type": "code",
   "execution_count": 6,
   "id": "a3a665d7-e80c-4fc8-b221-cdcb5eff5b63",
   "metadata": {},
   "outputs": [],
   "source": [
    "sorted_us_2014 = us_babies_2014.sort_values(\"Count\", ascending = False)"
   ]
  },
  {
   "cell_type": "code",
   "execution_count": 7,
   "id": "8dc2b3a6-0cdb-4756-9fe3-9d71ee22c278",
   "metadata": {},
   "outputs": [
    {
     "data": {
      "text/html": [
       "<div>\n",
       "<style scoped>\n",
       "    .dataframe tbody tr th:only-of-type {\n",
       "        vertical-align: middle;\n",
       "    }\n",
       "\n",
       "    .dataframe tbody tr th {\n",
       "        vertical-align: top;\n",
       "    }\n",
       "\n",
       "    .dataframe thead th {\n",
       "        text-align: right;\n",
       "    }\n",
       "</style>\n",
       "<table border=\"1\" class=\"dataframe\">\n",
       "  <thead>\n",
       "    <tr style=\"text-align: right;\">\n",
       "      <th></th>\n",
       "      <th>Id</th>\n",
       "      <th>Name</th>\n",
       "      <th>Year</th>\n",
       "      <th>Gender</th>\n",
       "      <th>Count</th>\n",
       "    </tr>\n",
       "  </thead>\n",
       "  <tbody>\n",
       "    <tr>\n",
       "      <th>1792389</th>\n",
       "      <td>1792390</td>\n",
       "      <td>Emma</td>\n",
       "      <td>2014</td>\n",
       "      <td>F</td>\n",
       "      <td>20799</td>\n",
       "    </tr>\n",
       "    <tr>\n",
       "      <th>1792390</th>\n",
       "      <td>1792391</td>\n",
       "      <td>Olivia</td>\n",
       "      <td>2014</td>\n",
       "      <td>F</td>\n",
       "      <td>19674</td>\n",
       "    </tr>\n",
       "    <tr>\n",
       "      <th>1811456</th>\n",
       "      <td>1811457</td>\n",
       "      <td>Noah</td>\n",
       "      <td>2014</td>\n",
       "      <td>M</td>\n",
       "      <td>19144</td>\n",
       "    </tr>\n",
       "    <tr>\n",
       "      <th>1792391</th>\n",
       "      <td>1792392</td>\n",
       "      <td>Sophia</td>\n",
       "      <td>2014</td>\n",
       "      <td>F</td>\n",
       "      <td>18490</td>\n",
       "    </tr>\n",
       "    <tr>\n",
       "      <th>1811457</th>\n",
       "      <td>1811458</td>\n",
       "      <td>Liam</td>\n",
       "      <td>2014</td>\n",
       "      <td>M</td>\n",
       "      <td>18342</td>\n",
       "    </tr>\n",
       "  </tbody>\n",
       "</table>\n",
       "</div>"
      ],
      "text/plain": [
       "              Id    Name  Year Gender  Count\n",
       "1792389  1792390    Emma  2014      F  20799\n",
       "1792390  1792391  Olivia  2014      F  19674\n",
       "1811456  1811457    Noah  2014      M  19144\n",
       "1792391  1792392  Sophia  2014      F  18490\n",
       "1811457  1811458    Liam  2014      M  18342"
      ]
     },
     "execution_count": 7,
     "metadata": {},
     "output_type": "execute_result"
    }
   ],
   "source": [
    "sorted_us_2014.iloc[0:5]"
   ]
  },
  {
   "cell_type": "code",
   "execution_count": 8,
   "id": "e66250f2-c46e-4aad-b20c-4b8596530edf",
   "metadata": {},
   "outputs": [],
   "source": [
    "import pandas as pd"
   ]
  },
  {
   "cell_type": "code",
   "execution_count": 9,
   "id": "7662cc53-a96d-45e5-813f-d38970eda507",
   "metadata": {},
   "outputs": [],
   "source": [
    "states_babies = pd.read_csv(\"state_baby_names.csv\")"
   ]
  },
  {
   "cell_type": "code",
   "execution_count": 10,
   "id": "90f93298-4d53-466e-863e-a43abf0cf625",
   "metadata": {},
   "outputs": [
    {
     "data": {
      "text/html": [
       "<div>\n",
       "<style scoped>\n",
       "    .dataframe tbody tr th:only-of-type {\n",
       "        vertical-align: middle;\n",
       "    }\n",
       "\n",
       "    .dataframe tbody tr th {\n",
       "        vertical-align: top;\n",
       "    }\n",
       "\n",
       "    .dataframe thead th {\n",
       "        text-align: right;\n",
       "    }\n",
       "</style>\n",
       "<table border=\"1\" class=\"dataframe\">\n",
       "  <thead>\n",
       "    <tr style=\"text-align: right;\">\n",
       "      <th></th>\n",
       "      <th>Id</th>\n",
       "      <th>Name</th>\n",
       "      <th>Year</th>\n",
       "      <th>Gender</th>\n",
       "      <th>State</th>\n",
       "      <th>Count</th>\n",
       "    </tr>\n",
       "  </thead>\n",
       "  <tbody>\n",
       "    <tr>\n",
       "      <th>0</th>\n",
       "      <td>1</td>\n",
       "      <td>Mary</td>\n",
       "      <td>1910</td>\n",
       "      <td>F</td>\n",
       "      <td>AK</td>\n",
       "      <td>14</td>\n",
       "    </tr>\n",
       "    <tr>\n",
       "      <th>1</th>\n",
       "      <td>2</td>\n",
       "      <td>Annie</td>\n",
       "      <td>1910</td>\n",
       "      <td>F</td>\n",
       "      <td>AK</td>\n",
       "      <td>12</td>\n",
       "    </tr>\n",
       "    <tr>\n",
       "      <th>2</th>\n",
       "      <td>3</td>\n",
       "      <td>Anna</td>\n",
       "      <td>1910</td>\n",
       "      <td>F</td>\n",
       "      <td>AK</td>\n",
       "      <td>10</td>\n",
       "    </tr>\n",
       "    <tr>\n",
       "      <th>3</th>\n",
       "      <td>4</td>\n",
       "      <td>Margaret</td>\n",
       "      <td>1910</td>\n",
       "      <td>F</td>\n",
       "      <td>AK</td>\n",
       "      <td>8</td>\n",
       "    </tr>\n",
       "    <tr>\n",
       "      <th>4</th>\n",
       "      <td>5</td>\n",
       "      <td>Helen</td>\n",
       "      <td>1910</td>\n",
       "      <td>F</td>\n",
       "      <td>AK</td>\n",
       "      <td>7</td>\n",
       "    </tr>\n",
       "  </tbody>\n",
       "</table>\n",
       "</div>"
      ],
      "text/plain": [
       "   Id      Name  Year Gender State  Count\n",
       "0   1      Mary  1910      F    AK     14\n",
       "1   2     Annie  1910      F    AK     12\n",
       "2   3      Anna  1910      F    AK     10\n",
       "3   4  Margaret  1910      F    AK      8\n",
       "4   5     Helen  1910      F    AK      7"
      ]
     },
     "execution_count": 10,
     "metadata": {},
     "output_type": "execute_result"
    }
   ],
   "source": [
    "states_babies.head()"
   ]
  },
  {
   "cell_type": "code",
   "execution_count": 11,
   "id": "e6c445fe-a626-4bf3-a014-d25cf3206301",
   "metadata": {},
   "outputs": [],
   "source": [
    "states_babies_2014 = states_babies.loc[states_babies[\"Year\"] == 2014, :]"
   ]
  },
  {
   "cell_type": "code",
   "execution_count": 12,
   "id": "7fa8df53-2e60-49e4-b4dd-db63b6d2ee21",
   "metadata": {},
   "outputs": [
    {
     "data": {
      "text/html": [
       "<div>\n",
       "<style scoped>\n",
       "    .dataframe tbody tr th:only-of-type {\n",
       "        vertical-align: middle;\n",
       "    }\n",
       "\n",
       "    .dataframe tbody tr th {\n",
       "        vertical-align: top;\n",
       "    }\n",
       "\n",
       "    .dataframe thead th {\n",
       "        text-align: right;\n",
       "    }\n",
       "</style>\n",
       "<table border=\"1\" class=\"dataframe\">\n",
       "  <thead>\n",
       "    <tr style=\"text-align: right;\">\n",
       "      <th></th>\n",
       "      <th>Id</th>\n",
       "      <th>Name</th>\n",
       "      <th>Year</th>\n",
       "      <th>Gender</th>\n",
       "      <th>State</th>\n",
       "      <th>Count</th>\n",
       "    </tr>\n",
       "  </thead>\n",
       "  <tbody>\n",
       "    <tr>\n",
       "      <th>13522</th>\n",
       "      <td>13523</td>\n",
       "      <td>Emma</td>\n",
       "      <td>2014</td>\n",
       "      <td>F</td>\n",
       "      <td>AK</td>\n",
       "      <td>50</td>\n",
       "    </tr>\n",
       "    <tr>\n",
       "      <th>13523</th>\n",
       "      <td>13524</td>\n",
       "      <td>Olivia</td>\n",
       "      <td>2014</td>\n",
       "      <td>F</td>\n",
       "      <td>AK</td>\n",
       "      <td>47</td>\n",
       "    </tr>\n",
       "    <tr>\n",
       "      <th>13524</th>\n",
       "      <td>13525</td>\n",
       "      <td>Sophia</td>\n",
       "      <td>2014</td>\n",
       "      <td>F</td>\n",
       "      <td>AK</td>\n",
       "      <td>43</td>\n",
       "    </tr>\n",
       "    <tr>\n",
       "      <th>13525</th>\n",
       "      <td>13526</td>\n",
       "      <td>Aurora</td>\n",
       "      <td>2014</td>\n",
       "      <td>F</td>\n",
       "      <td>AK</td>\n",
       "      <td>35</td>\n",
       "    </tr>\n",
       "    <tr>\n",
       "      <th>13526</th>\n",
       "      <td>13527</td>\n",
       "      <td>Isabella</td>\n",
       "      <td>2014</td>\n",
       "      <td>F</td>\n",
       "      <td>AK</td>\n",
       "      <td>33</td>\n",
       "    </tr>\n",
       "  </tbody>\n",
       "</table>\n",
       "</div>"
      ],
      "text/plain": [
       "          Id      Name  Year Gender State  Count\n",
       "13522  13523      Emma  2014      F    AK     50\n",
       "13523  13524    Olivia  2014      F    AK     47\n",
       "13524  13525    Sophia  2014      F    AK     43\n",
       "13525  13526    Aurora  2014      F    AK     35\n",
       "13526  13527  Isabella  2014      F    AK     33"
      ]
     },
     "execution_count": 12,
     "metadata": {},
     "output_type": "execute_result"
    }
   ],
   "source": [
    "states_babies_2014.head()"
   ]
  },
  {
   "cell_type": "code",
   "execution_count": 13,
   "id": "9dff1217-cd2c-45fd-a0b0-7902e33107fc",
   "metadata": {},
   "outputs": [],
   "source": [
    "ca_babies_2014 = states_babies_2014.loc[states_babies_2014[\"State\"] == \"CA\", :]"
   ]
  },
  {
   "cell_type": "code",
   "execution_count": 14,
   "id": "7a588758-e404-4c28-b935-5d56d629939d",
   "metadata": {},
   "outputs": [],
   "source": [
    "sorted_ca_2014 = ca_babies_2014.sort_values(\"Count\", ascending = False)"
   ]
  },
  {
   "cell_type": "code",
   "execution_count": 15,
   "id": "ce9df04a-d4a0-463b-85ae-941b3206bbb7",
   "metadata": {},
   "outputs": [
    {
     "data": {
      "text/html": [
       "<div>\n",
       "<style scoped>\n",
       "    .dataframe tbody tr th:only-of-type {\n",
       "        vertical-align: middle;\n",
       "    }\n",
       "\n",
       "    .dataframe tbody tr th {\n",
       "        vertical-align: top;\n",
       "    }\n",
       "\n",
       "    .dataframe thead th {\n",
       "        text-align: right;\n",
       "    }\n",
       "</style>\n",
       "<table border=\"1\" class=\"dataframe\">\n",
       "  <thead>\n",
       "    <tr style=\"text-align: right;\">\n",
       "      <th></th>\n",
       "      <th>Id</th>\n",
       "      <th>Name</th>\n",
       "      <th>Year</th>\n",
       "      <th>Gender</th>\n",
       "      <th>State</th>\n",
       "      <th>Count</th>\n",
       "    </tr>\n",
       "  </thead>\n",
       "  <tbody>\n",
       "    <tr>\n",
       "      <th>561495</th>\n",
       "      <td>561496</td>\n",
       "      <td>Sophia</td>\n",
       "      <td>2014</td>\n",
       "      <td>F</td>\n",
       "      <td>CA</td>\n",
       "      <td>3162</td>\n",
       "    </tr>\n",
       "    <tr>\n",
       "      <th>707311</th>\n",
       "      <td>707312</td>\n",
       "      <td>Noah</td>\n",
       "      <td>2014</td>\n",
       "      <td>M</td>\n",
       "      <td>CA</td>\n",
       "      <td>2761</td>\n",
       "    </tr>\n",
       "    <tr>\n",
       "      <th>561496</th>\n",
       "      <td>561497</td>\n",
       "      <td>Isabella</td>\n",
       "      <td>2014</td>\n",
       "      <td>F</td>\n",
       "      <td>CA</td>\n",
       "      <td>2705</td>\n",
       "    </tr>\n",
       "    <tr>\n",
       "      <th>707312</th>\n",
       "      <td>707313</td>\n",
       "      <td>Jacob</td>\n",
       "      <td>2014</td>\n",
       "      <td>M</td>\n",
       "      <td>CA</td>\n",
       "      <td>2692</td>\n",
       "    </tr>\n",
       "    <tr>\n",
       "      <th>561497</th>\n",
       "      <td>561498</td>\n",
       "      <td>Emma</td>\n",
       "      <td>2014</td>\n",
       "      <td>F</td>\n",
       "      <td>CA</td>\n",
       "      <td>2662</td>\n",
       "    </tr>\n",
       "  </tbody>\n",
       "</table>\n",
       "</div>"
      ],
      "text/plain": [
       "            Id      Name  Year Gender State  Count\n",
       "561495  561496    Sophia  2014      F    CA   3162\n",
       "707311  707312      Noah  2014      M    CA   2761\n",
       "561496  561497  Isabella  2014      F    CA   2705\n",
       "707312  707313     Jacob  2014      M    CA   2692\n",
       "561497  561498      Emma  2014      F    CA   2662"
      ]
     },
     "execution_count": 15,
     "metadata": {},
     "output_type": "execute_result"
    }
   ],
   "source": [
    "sorted_ca_2014.head()"
   ]
  },
  {
   "cell_type": "code",
   "execution_count": 16,
   "id": "9bcb00eb-6cd3-4962-b24d-64d965ef4c7c",
   "metadata": {},
   "outputs": [
    {
     "data": {
      "text/html": [
       "<div>\n",
       "<style scoped>\n",
       "    .dataframe tbody tr th:only-of-type {\n",
       "        vertical-align: middle;\n",
       "    }\n",
       "\n",
       "    .dataframe tbody tr th {\n",
       "        vertical-align: top;\n",
       "    }\n",
       "\n",
       "    .dataframe thead th {\n",
       "        text-align: right;\n",
       "    }\n",
       "</style>\n",
       "<table border=\"1\" class=\"dataframe\">\n",
       "  <thead>\n",
       "    <tr style=\"text-align: right;\">\n",
       "      <th></th>\n",
       "      <th>Id</th>\n",
       "      <th>Name</th>\n",
       "      <th>Year</th>\n",
       "      <th>Gender</th>\n",
       "      <th>State</th>\n",
       "      <th>Count</th>\n",
       "    </tr>\n",
       "  </thead>\n",
       "  <tbody>\n",
       "    <tr>\n",
       "      <th>561495</th>\n",
       "      <td>561496</td>\n",
       "      <td>Sophia</td>\n",
       "      <td>2014</td>\n",
       "      <td>F</td>\n",
       "      <td>CA</td>\n",
       "      <td>3162</td>\n",
       "    </tr>\n",
       "    <tr>\n",
       "      <th>707311</th>\n",
       "      <td>707312</td>\n",
       "      <td>Noah</td>\n",
       "      <td>2014</td>\n",
       "      <td>M</td>\n",
       "      <td>CA</td>\n",
       "      <td>2761</td>\n",
       "    </tr>\n",
       "    <tr>\n",
       "      <th>561496</th>\n",
       "      <td>561497</td>\n",
       "      <td>Isabella</td>\n",
       "      <td>2014</td>\n",
       "      <td>F</td>\n",
       "      <td>CA</td>\n",
       "      <td>2705</td>\n",
       "    </tr>\n",
       "    <tr>\n",
       "      <th>707312</th>\n",
       "      <td>707313</td>\n",
       "      <td>Jacob</td>\n",
       "      <td>2014</td>\n",
       "      <td>M</td>\n",
       "      <td>CA</td>\n",
       "      <td>2692</td>\n",
       "    </tr>\n",
       "    <tr>\n",
       "      <th>561497</th>\n",
       "      <td>561498</td>\n",
       "      <td>Emma</td>\n",
       "      <td>2014</td>\n",
       "      <td>F</td>\n",
       "      <td>CA</td>\n",
       "      <td>2662</td>\n",
       "    </tr>\n",
       "  </tbody>\n",
       "</table>\n",
       "</div>"
      ],
      "text/plain": [
       "            Id      Name  Year Gender State  Count\n",
       "561495  561496    Sophia  2014      F    CA   3162\n",
       "707311  707312      Noah  2014      M    CA   2761\n",
       "561496  561497  Isabella  2014      F    CA   2705\n",
       "707312  707313     Jacob  2014      M    CA   2692\n",
       "561497  561498      Emma  2014      F    CA   2662"
      ]
     },
     "execution_count": 16,
     "metadata": {},
     "output_type": "execute_result"
    }
   ],
   "source": [
    "sorted_ca_2014[0:5]"
   ]
  },
  {
   "cell_type": "code",
   "execution_count": 17,
   "id": "5cf1b0ad-f39c-4cc7-a0f9-50da39aae89f",
   "metadata": {},
   "outputs": [],
   "source": [
    "ca_babies = states_babies.loc[states_babies[\"State\"] == \"CA\", :]"
   ]
  },
  {
   "cell_type": "code",
   "execution_count": 18,
   "id": "0aaa42a2-2e30-4778-9e33-9e933e0e04cb",
   "metadata": {},
   "outputs": [
    {
     "data": {
      "text/html": [
       "<div>\n",
       "<style scoped>\n",
       "    .dataframe tbody tr th:only-of-type {\n",
       "        vertical-align: middle;\n",
       "    }\n",
       "\n",
       "    .dataframe tbody tr th {\n",
       "        vertical-align: top;\n",
       "    }\n",
       "\n",
       "    .dataframe thead th {\n",
       "        text-align: right;\n",
       "    }\n",
       "</style>\n",
       "<table border=\"1\" class=\"dataframe\">\n",
       "  <thead>\n",
       "    <tr style=\"text-align: right;\">\n",
       "      <th></th>\n",
       "      <th>Id</th>\n",
       "      <th>Name</th>\n",
       "      <th>Year</th>\n",
       "      <th>Gender</th>\n",
       "      <th>State</th>\n",
       "      <th>Count</th>\n",
       "    </tr>\n",
       "  </thead>\n",
       "  <tbody>\n",
       "    <tr>\n",
       "      <th>356017</th>\n",
       "      <td>356018</td>\n",
       "      <td>Mary</td>\n",
       "      <td>1910</td>\n",
       "      <td>F</td>\n",
       "      <td>CA</td>\n",
       "      <td>295</td>\n",
       "    </tr>\n",
       "    <tr>\n",
       "      <th>356018</th>\n",
       "      <td>356019</td>\n",
       "      <td>Helen</td>\n",
       "      <td>1910</td>\n",
       "      <td>F</td>\n",
       "      <td>CA</td>\n",
       "      <td>239</td>\n",
       "    </tr>\n",
       "    <tr>\n",
       "      <th>356019</th>\n",
       "      <td>356020</td>\n",
       "      <td>Dorothy</td>\n",
       "      <td>1910</td>\n",
       "      <td>F</td>\n",
       "      <td>CA</td>\n",
       "      <td>220</td>\n",
       "    </tr>\n",
       "    <tr>\n",
       "      <th>356020</th>\n",
       "      <td>356021</td>\n",
       "      <td>Margaret</td>\n",
       "      <td>1910</td>\n",
       "      <td>F</td>\n",
       "      <td>CA</td>\n",
       "      <td>163</td>\n",
       "    </tr>\n",
       "    <tr>\n",
       "      <th>356021</th>\n",
       "      <td>356022</td>\n",
       "      <td>Frances</td>\n",
       "      <td>1910</td>\n",
       "      <td>F</td>\n",
       "      <td>CA</td>\n",
       "      <td>134</td>\n",
       "    </tr>\n",
       "  </tbody>\n",
       "</table>\n",
       "</div>"
      ],
      "text/plain": [
       "            Id      Name  Year Gender State  Count\n",
       "356017  356018      Mary  1910      F    CA    295\n",
       "356018  356019     Helen  1910      F    CA    239\n",
       "356019  356020   Dorothy  1910      F    CA    220\n",
       "356020  356021  Margaret  1910      F    CA    163\n",
       "356021  356022   Frances  1910      F    CA    134"
      ]
     },
     "execution_count": 18,
     "metadata": {},
     "output_type": "execute_result"
    }
   ],
   "source": [
    "ca_babies.head()"
   ]
  },
  {
   "cell_type": "code",
   "execution_count": 19,
   "id": "9fa5544f-7aad-4c73-b488-29fe08bea7cb",
   "metadata": {},
   "outputs": [],
   "source": [
    "def popular(s):\n",
    "    \"\"\"Receives s, a Pandas Series, containing baby names in order of highest count to lowest count.\n",
    "    Returns the most popular name in s.\"\"\"\n",
    "    return s.iloc[0]"
   ]
  },
  {
   "cell_type": "code",
   "execution_count": 20,
   "id": "a43ff0e7-799d-4864-a31e-8ff04b8fe46a",
   "metadata": {},
   "outputs": [
    {
     "data": {
      "text/html": [
       "<div>\n",
       "<style scoped>\n",
       "    .dataframe tbody tr th:only-of-type {\n",
       "        vertical-align: middle;\n",
       "    }\n",
       "\n",
       "    .dataframe tbody tr th {\n",
       "        vertical-align: top;\n",
       "    }\n",
       "\n",
       "    .dataframe thead th {\n",
       "        text-align: right;\n",
       "    }\n",
       "</style>\n",
       "<table border=\"1\" class=\"dataframe\">\n",
       "  <thead>\n",
       "    <tr style=\"text-align: right;\">\n",
       "      <th></th>\n",
       "      <th></th>\n",
       "      <th>Id</th>\n",
       "      <th>Name</th>\n",
       "      <th>State</th>\n",
       "      <th>Count</th>\n",
       "    </tr>\n",
       "    <tr>\n",
       "      <th>Year</th>\n",
       "      <th>Gender</th>\n",
       "      <th></th>\n",
       "      <th></th>\n",
       "      <th></th>\n",
       "      <th></th>\n",
       "    </tr>\n",
       "  </thead>\n",
       "  <tbody>\n",
       "    <tr>\n",
       "      <th rowspan=\"2\" valign=\"top\">1910</th>\n",
       "      <th>F</th>\n",
       "      <td>356018</td>\n",
       "      <td>Mary</td>\n",
       "      <td>CA</td>\n",
       "      <td>295</td>\n",
       "    </tr>\n",
       "    <tr>\n",
       "      <th>M</th>\n",
       "      <td>565480</td>\n",
       "      <td>John</td>\n",
       "      <td>CA</td>\n",
       "      <td>237</td>\n",
       "    </tr>\n",
       "    <tr>\n",
       "      <th rowspan=\"2\" valign=\"top\">1911</th>\n",
       "      <th>F</th>\n",
       "      <td>356251</td>\n",
       "      <td>Mary</td>\n",
       "      <td>CA</td>\n",
       "      <td>390</td>\n",
       "    </tr>\n",
       "    <tr>\n",
       "      <th>M</th>\n",
       "      <td>565610</td>\n",
       "      <td>John</td>\n",
       "      <td>CA</td>\n",
       "      <td>214</td>\n",
       "    </tr>\n",
       "    <tr>\n",
       "      <th>1912</th>\n",
       "      <th>F</th>\n",
       "      <td>356502</td>\n",
       "      <td>Mary</td>\n",
       "      <td>CA</td>\n",
       "      <td>534</td>\n",
       "    </tr>\n",
       "    <tr>\n",
       "      <th>...</th>\n",
       "      <th>...</th>\n",
       "      <td>...</td>\n",
       "      <td>...</td>\n",
       "      <td>...</td>\n",
       "      <td>...</td>\n",
       "    </tr>\n",
       "    <tr>\n",
       "      <th>2012</th>\n",
       "      <th>M</th>\n",
       "      <td>701517</td>\n",
       "      <td>Jacob</td>\n",
       "      <td>CA</td>\n",
       "      <td>2971</td>\n",
       "    </tr>\n",
       "    <tr>\n",
       "      <th rowspan=\"2\" valign=\"top\">2013</th>\n",
       "      <th>F</th>\n",
       "      <td>557545</td>\n",
       "      <td>Sophia</td>\n",
       "      <td>CA</td>\n",
       "      <td>3451</td>\n",
       "    </tr>\n",
       "    <tr>\n",
       "      <th>M</th>\n",
       "      <td>704421</td>\n",
       "      <td>Jacob</td>\n",
       "      <td>CA</td>\n",
       "      <td>2879</td>\n",
       "    </tr>\n",
       "    <tr>\n",
       "      <th rowspan=\"2\" valign=\"top\">2014</th>\n",
       "      <th>F</th>\n",
       "      <td>561496</td>\n",
       "      <td>Sophia</td>\n",
       "      <td>CA</td>\n",
       "      <td>3162</td>\n",
       "    </tr>\n",
       "    <tr>\n",
       "      <th>M</th>\n",
       "      <td>707312</td>\n",
       "      <td>Noah</td>\n",
       "      <td>CA</td>\n",
       "      <td>2761</td>\n",
       "    </tr>\n",
       "  </tbody>\n",
       "</table>\n",
       "<p>210 rows × 4 columns</p>\n",
       "</div>"
      ],
      "text/plain": [
       "                 Id    Name State  Count\n",
       "Year Gender                             \n",
       "1910 F       356018    Mary    CA    295\n",
       "     M       565480    John    CA    237\n",
       "1911 F       356251    Mary    CA    390\n",
       "     M       565610    John    CA    214\n",
       "1912 F       356502    Mary    CA    534\n",
       "...             ...     ...   ...    ...\n",
       "2012 M       701517   Jacob    CA   2971\n",
       "2013 F       557545  Sophia    CA   3451\n",
       "     M       704421   Jacob    CA   2879\n",
       "2014 F       561496  Sophia    CA   3162\n",
       "     M       707312    Noah    CA   2761\n",
       "\n",
       "[210 rows x 4 columns]"
      ]
     },
     "execution_count": 20,
     "metadata": {},
     "output_type": "execute_result"
    }
   ],
   "source": [
    "ca_babies.sort_values(\"Count\", ascending = False).groupby([\"Year\",\"Gender\"]).agg(popular)"
   ]
  },
  {
   "cell_type": "code",
   "execution_count": 21,
   "id": "c20b2837-60bb-49ed-a9aa-1df68ec0b697",
   "metadata": {},
   "outputs": [],
   "source": [
    "ca_name = ca_babies.loc[us_babies[\"Name\"] == \"Katie\", :]"
   ]
  },
  {
   "cell_type": "code",
   "execution_count": 22,
   "id": "f9c0401f-9398-47ef-b43c-db059d0b12f4",
   "metadata": {},
   "outputs": [
    {
     "data": {
      "text/html": [
       "<div>\n",
       "<style scoped>\n",
       "    .dataframe tbody tr th:only-of-type {\n",
       "        vertical-align: middle;\n",
       "    }\n",
       "\n",
       "    .dataframe tbody tr th {\n",
       "        vertical-align: top;\n",
       "    }\n",
       "\n",
       "    .dataframe thead th {\n",
       "        text-align: right;\n",
       "    }\n",
       "</style>\n",
       "<table border=\"1\" class=\"dataframe\">\n",
       "  <thead>\n",
       "    <tr style=\"text-align: right;\">\n",
       "      <th></th>\n",
       "      <th>Id</th>\n",
       "      <th>Name</th>\n",
       "      <th>Year</th>\n",
       "      <th>Gender</th>\n",
       "      <th>State</th>\n",
       "      <th>Count</th>\n",
       "    </tr>\n",
       "  </thead>\n",
       "  <tbody>\n",
       "    <tr>\n",
       "      <th>357622</th>\n",
       "      <td>357623</td>\n",
       "      <td>Carol</td>\n",
       "      <td>1915</td>\n",
       "      <td>F</td>\n",
       "      <td>CA</td>\n",
       "      <td>38</td>\n",
       "    </tr>\n",
       "    <tr>\n",
       "      <th>365621</th>\n",
       "      <td>365622</td>\n",
       "      <td>Marlene</td>\n",
       "      <td>1928</td>\n",
       "      <td>F</td>\n",
       "      <td>CA</td>\n",
       "      <td>8</td>\n",
       "    </tr>\n",
       "    <tr>\n",
       "      <th>366544</th>\n",
       "      <td>366545</td>\n",
       "      <td>Lupe</td>\n",
       "      <td>1930</td>\n",
       "      <td>F</td>\n",
       "      <td>CA</td>\n",
       "      <td>154</td>\n",
       "    </tr>\n",
       "    <tr>\n",
       "      <th>375508</th>\n",
       "      <td>375509</td>\n",
       "      <td>Luann</td>\n",
       "      <td>1942</td>\n",
       "      <td>F</td>\n",
       "      <td>CA</td>\n",
       "      <td>6</td>\n",
       "    </tr>\n",
       "    <tr>\n",
       "      <th>384112</th>\n",
       "      <td>384113</td>\n",
       "      <td>Pamala</td>\n",
       "      <td>1950</td>\n",
       "      <td>F</td>\n",
       "      <td>CA</td>\n",
       "      <td>16</td>\n",
       "    </tr>\n",
       "    <tr>\n",
       "      <th>384611</th>\n",
       "      <td>384612</td>\n",
       "      <td>Roslyn</td>\n",
       "      <td>1950</td>\n",
       "      <td>F</td>\n",
       "      <td>CA</td>\n",
       "      <td>6</td>\n",
       "    </tr>\n",
       "    <tr>\n",
       "      <th>394042</th>\n",
       "      <td>394043</td>\n",
       "      <td>Lela</td>\n",
       "      <td>1957</td>\n",
       "      <td>F</td>\n",
       "      <td>CA</td>\n",
       "      <td>14</td>\n",
       "    </tr>\n",
       "    <tr>\n",
       "      <th>403457</th>\n",
       "      <td>403458</td>\n",
       "      <td>Kathrin</td>\n",
       "      <td>1962</td>\n",
       "      <td>F</td>\n",
       "      <td>CA</td>\n",
       "      <td>5</td>\n",
       "    </tr>\n",
       "    <tr>\n",
       "      <th>412612</th>\n",
       "      <td>412613</td>\n",
       "      <td>San</td>\n",
       "      <td>1967</td>\n",
       "      <td>F</td>\n",
       "      <td>CA</td>\n",
       "      <td>6</td>\n",
       "    </tr>\n",
       "    <tr>\n",
       "      <th>420444</th>\n",
       "      <td>420445</td>\n",
       "      <td>Petrina</td>\n",
       "      <td>1971</td>\n",
       "      <td>F</td>\n",
       "      <td>CA</td>\n",
       "      <td>9</td>\n",
       "    </tr>\n",
       "    <tr>\n",
       "      <th>421648</th>\n",
       "      <td>421649</td>\n",
       "      <td>Jacquelyn</td>\n",
       "      <td>1972</td>\n",
       "      <td>F</td>\n",
       "      <td>CA</td>\n",
       "      <td>51</td>\n",
       "    </tr>\n",
       "    <tr>\n",
       "      <th>431374</th>\n",
       "      <td>431375</td>\n",
       "      <td>Sherice</td>\n",
       "      <td>1976</td>\n",
       "      <td>F</td>\n",
       "      <td>CA</td>\n",
       "      <td>7</td>\n",
       "    </tr>\n",
       "    <tr>\n",
       "      <th>441729</th>\n",
       "      <td>441730</td>\n",
       "      <td>Saida</td>\n",
       "      <td>1980</td>\n",
       "      <td>F</td>\n",
       "      <td>CA</td>\n",
       "      <td>5</td>\n",
       "    </tr>\n",
       "    <tr>\n",
       "      <th>451959</th>\n",
       "      <td>451960</td>\n",
       "      <td>Karis</td>\n",
       "      <td>1984</td>\n",
       "      <td>F</td>\n",
       "      <td>CA</td>\n",
       "      <td>7</td>\n",
       "    </tr>\n",
       "    <tr>\n",
       "      <th>462272</th>\n",
       "      <td>462273</td>\n",
       "      <td>Chantel</td>\n",
       "      <td>1988</td>\n",
       "      <td>F</td>\n",
       "      <td>CA</td>\n",
       "      <td>66</td>\n",
       "    </tr>\n",
       "    <tr>\n",
       "      <th>472566</th>\n",
       "      <td>472567</td>\n",
       "      <td>Marisa</td>\n",
       "      <td>1991</td>\n",
       "      <td>F</td>\n",
       "      <td>CA</td>\n",
       "      <td>230</td>\n",
       "    </tr>\n",
       "    <tr>\n",
       "      <th>483062</th>\n",
       "      <td>483063</td>\n",
       "      <td>Breyanna</td>\n",
       "      <td>1993</td>\n",
       "      <td>F</td>\n",
       "      <td>CA</td>\n",
       "      <td>5</td>\n",
       "    </tr>\n",
       "    <tr>\n",
       "      <th>493709</th>\n",
       "      <td>493710</td>\n",
       "      <td>Julyssa</td>\n",
       "      <td>1996</td>\n",
       "      <td>F</td>\n",
       "      <td>CA</td>\n",
       "      <td>6</td>\n",
       "    </tr>\n",
       "    <tr>\n",
       "      <th>504558</th>\n",
       "      <td>504559</td>\n",
       "      <td>Alayjah</td>\n",
       "      <td>1999</td>\n",
       "      <td>F</td>\n",
       "      <td>CA</td>\n",
       "      <td>5</td>\n",
       "    </tr>\n",
       "    <tr>\n",
       "      <th>515536</th>\n",
       "      <td>515537</td>\n",
       "      <td>Berlyn</td>\n",
       "      <td>2002</td>\n",
       "      <td>F</td>\n",
       "      <td>CA</td>\n",
       "      <td>6</td>\n",
       "    </tr>\n",
       "    <tr>\n",
       "      <th>526657</th>\n",
       "      <td>526658</td>\n",
       "      <td>Scarlette</td>\n",
       "      <td>2005</td>\n",
       "      <td>F</td>\n",
       "      <td>CA</td>\n",
       "      <td>10</td>\n",
       "    </tr>\n",
       "    <tr>\n",
       "      <th>538000</th>\n",
       "      <td>538001</td>\n",
       "      <td>Casandra</td>\n",
       "      <td>2008</td>\n",
       "      <td>F</td>\n",
       "      <td>CA</td>\n",
       "      <td>33</td>\n",
       "    </tr>\n",
       "    <tr>\n",
       "      <th>549541</th>\n",
       "      <td>549542</td>\n",
       "      <td>Michelle</td>\n",
       "      <td>2011</td>\n",
       "      <td>F</td>\n",
       "      <td>CA</td>\n",
       "      <td>502</td>\n",
       "    </tr>\n",
       "    <tr>\n",
       "      <th>561045</th>\n",
       "      <td>561046</td>\n",
       "      <td>Brilynn</td>\n",
       "      <td>2013</td>\n",
       "      <td>F</td>\n",
       "      <td>CA</td>\n",
       "      <td>5</td>\n",
       "    </tr>\n",
       "    <tr>\n",
       "      <th>572828</th>\n",
       "      <td>572829</td>\n",
       "      <td>Rodney</td>\n",
       "      <td>1927</td>\n",
       "      <td>M</td>\n",
       "      <td>CA</td>\n",
       "      <td>35</td>\n",
       "    </tr>\n",
       "    <tr>\n",
       "      <th>584761</th>\n",
       "      <td>584762</td>\n",
       "      <td>Jamie</td>\n",
       "      <td>1946</td>\n",
       "      <td>M</td>\n",
       "      <td>CA</td>\n",
       "      <td>6</td>\n",
       "    </tr>\n",
       "    <tr>\n",
       "      <th>596949</th>\n",
       "      <td>596950</td>\n",
       "      <td>Rolf</td>\n",
       "      <td>1959</td>\n",
       "      <td>M</td>\n",
       "      <td>CA</td>\n",
       "      <td>8</td>\n",
       "    </tr>\n",
       "    <tr>\n",
       "      <th>609156</th>\n",
       "      <td>609157</td>\n",
       "      <td>Larry</td>\n",
       "      <td>1970</td>\n",
       "      <td>M</td>\n",
       "      <td>CA</td>\n",
       "      <td>577</td>\n",
       "    </tr>\n",
       "    <tr>\n",
       "      <th>621454</th>\n",
       "      <td>621455</td>\n",
       "      <td>Veronica</td>\n",
       "      <td>1978</td>\n",
       "      <td>M</td>\n",
       "      <td>CA</td>\n",
       "      <td>8</td>\n",
       "    </tr>\n",
       "    <tr>\n",
       "      <th>633865</th>\n",
       "      <td>633866</td>\n",
       "      <td>Nicky</td>\n",
       "      <td>1985</td>\n",
       "      <td>M</td>\n",
       "      <td>CA</td>\n",
       "      <td>8</td>\n",
       "    </tr>\n",
       "    <tr>\n",
       "      <th>645812</th>\n",
       "      <td>645813</td>\n",
       "      <td>Westly</td>\n",
       "      <td>1990</td>\n",
       "      <td>M</td>\n",
       "      <td>CA</td>\n",
       "      <td>5</td>\n",
       "    </tr>\n",
       "    <tr>\n",
       "      <th>657981</th>\n",
       "      <td>657982</td>\n",
       "      <td>Dalvin</td>\n",
       "      <td>1995</td>\n",
       "      <td>M</td>\n",
       "      <td>CA</td>\n",
       "      <td>6</td>\n",
       "    </tr>\n",
       "    <tr>\n",
       "      <th>670364</th>\n",
       "      <td>670365</td>\n",
       "      <td>Hugh</td>\n",
       "      <td>2000</td>\n",
       "      <td>M</td>\n",
       "      <td>CA</td>\n",
       "      <td>6</td>\n",
       "    </tr>\n",
       "    <tr>\n",
       "      <th>683219</th>\n",
       "      <td>683220</td>\n",
       "      <td>Samual</td>\n",
       "      <td>2005</td>\n",
       "      <td>M</td>\n",
       "      <td>CA</td>\n",
       "      <td>8</td>\n",
       "    </tr>\n",
       "    <tr>\n",
       "      <th>696949</th>\n",
       "      <td>696950</td>\n",
       "      <td>Alexavier</td>\n",
       "      <td>2010</td>\n",
       "      <td>M</td>\n",
       "      <td>CA</td>\n",
       "      <td>15</td>\n",
       "    </tr>\n",
       "  </tbody>\n",
       "</table>\n",
       "</div>"
      ],
      "text/plain": [
       "            Id       Name  Year Gender State  Count\n",
       "357622  357623      Carol  1915      F    CA     38\n",
       "365621  365622    Marlene  1928      F    CA      8\n",
       "366544  366545       Lupe  1930      F    CA    154\n",
       "375508  375509      Luann  1942      F    CA      6\n",
       "384112  384113     Pamala  1950      F    CA     16\n",
       "384611  384612     Roslyn  1950      F    CA      6\n",
       "394042  394043       Lela  1957      F    CA     14\n",
       "403457  403458    Kathrin  1962      F    CA      5\n",
       "412612  412613        San  1967      F    CA      6\n",
       "420444  420445    Petrina  1971      F    CA      9\n",
       "421648  421649  Jacquelyn  1972      F    CA     51\n",
       "431374  431375    Sherice  1976      F    CA      7\n",
       "441729  441730      Saida  1980      F    CA      5\n",
       "451959  451960      Karis  1984      F    CA      7\n",
       "462272  462273    Chantel  1988      F    CA     66\n",
       "472566  472567     Marisa  1991      F    CA    230\n",
       "483062  483063   Breyanna  1993      F    CA      5\n",
       "493709  493710    Julyssa  1996      F    CA      6\n",
       "504558  504559    Alayjah  1999      F    CA      5\n",
       "515536  515537     Berlyn  2002      F    CA      6\n",
       "526657  526658  Scarlette  2005      F    CA     10\n",
       "538000  538001   Casandra  2008      F    CA     33\n",
       "549541  549542   Michelle  2011      F    CA    502\n",
       "561045  561046    Brilynn  2013      F    CA      5\n",
       "572828  572829     Rodney  1927      M    CA     35\n",
       "584761  584762      Jamie  1946      M    CA      6\n",
       "596949  596950       Rolf  1959      M    CA      8\n",
       "609156  609157      Larry  1970      M    CA    577\n",
       "621454  621455   Veronica  1978      M    CA      8\n",
       "633865  633866      Nicky  1985      M    CA      8\n",
       "645812  645813     Westly  1990      M    CA      5\n",
       "657981  657982     Dalvin  1995      M    CA      6\n",
       "670364  670365       Hugh  2000      M    CA      6\n",
       "683219  683220     Samual  2005      M    CA      8\n",
       "696949  696950  Alexavier  2010      M    CA     15"
      ]
     },
     "execution_count": 22,
     "metadata": {},
     "output_type": "execute_result"
    }
   ],
   "source": [
    "ca_name"
   ]
  },
  {
   "cell_type": "code",
   "execution_count": 23,
   "id": "16be03b5-d845-49ef-820b-0b6cb29e44e9",
   "metadata": {},
   "outputs": [
    {
     "data": {
      "image/png": "[encoded data removed]",
      "text/plain": [
       "<Figure size 640x480 with 1 Axes>"
      ]
     },
     "metadata": {},
     "output_type": "display_data"
    }
   ],
   "source": [
    "ca_name.plot.barh(x = \"Year\", y = \"Count\");"
   ]
  },
  {
   "cell_type": "code",
   "execution_count": 24,
   "id": "2d995603-9e93-495f-8f5a-cba76a482343",
   "metadata": {},
   "outputs": [],
   "source": [
    "import pandas as pd"
   ]
  },
  {
   "cell_type": "code",
   "execution_count": 25,
   "id": "7e650b49-921b-4638-b606-5a68b4aea426",
   "metadata": {},
   "outputs": [],
   "source": [
    "# Load netflix dataset into a pandas dataframe\n",
    "\n",
    "netflix_data = pd.read_csv(\"netflix_data.csv\")"
   ]
  },
  {
   "cell_type": "code",
   "execution_count": 26,
   "id": "216f9d08-c079-401a-a289-9ec368c8d36b",
   "metadata": {},
   "outputs": [
    {
     "data": {
      "text/plain": [
       "(7787, 11)"
      ]
     },
     "execution_count": 26,
     "metadata": {},
     "output_type": "execute_result"
    }
   ],
   "source": [
    "# Get the shape of the dataframe (number of rows, number of columns)\n",
    "\n",
    "netflix_data.shape"
   ]
  },
  {
   "cell_type": "code",
   "execution_count": 27,
   "id": "73ba8577-a3c9-4127-bf8c-9b93c6e9ac85",
   "metadata": {},
   "outputs": [
    {
     "data": {
      "text/html": [
       "<div>\n",
       "<style scoped>\n",
       "    .dataframe tbody tr th:only-of-type {\n",
       "        vertical-align: middle;\n",
       "    }\n",
       "\n",
       "    .dataframe tbody tr th {\n",
       "        vertical-align: top;\n",
       "    }\n",
       "\n",
       "    .dataframe thead th {\n",
       "        text-align: right;\n",
       "    }\n",
       "</style>\n",
       "<table border=\"1\" class=\"dataframe\">\n",
       "  <thead>\n",
       "    <tr style=\"text-align: right;\">\n",
       "      <th></th>\n",
       "      <th>show_id</th>\n",
       "      <th>type</th>\n",
       "      <th>title</th>\n",
       "      <th>cast</th>\n",
       "      <th>country</th>\n",
       "      <th>date_added</th>\n",
       "      <th>release_year</th>\n",
       "      <th>rating</th>\n",
       "      <th>duration</th>\n",
       "      <th>genres</th>\n",
       "    </tr>\n",
       "    <tr>\n",
       "      <th>director</th>\n",
       "      <th></th>\n",
       "      <th></th>\n",
       "      <th></th>\n",
       "      <th></th>\n",
       "      <th></th>\n",
       "      <th></th>\n",
       "      <th></th>\n",
       "      <th></th>\n",
       "      <th></th>\n",
       "      <th></th>\n",
       "    </tr>\n",
       "  </thead>\n",
       "  <tbody>\n",
       "    <tr>\n",
       "      <th>A. L. Vijay</th>\n",
       "      <td>2</td>\n",
       "      <td>2</td>\n",
       "      <td>2</td>\n",
       "      <td>2</td>\n",
       "      <td>2</td>\n",
       "      <td>2</td>\n",
       "      <td>2</td>\n",
       "      <td>2</td>\n",
       "      <td>2</td>\n",
       "      <td>2</td>\n",
       "    </tr>\n",
       "    <tr>\n",
       "      <th>A. Raajdheep</th>\n",
       "      <td>1</td>\n",
       "      <td>1</td>\n",
       "      <td>1</td>\n",
       "      <td>1</td>\n",
       "      <td>1</td>\n",
       "      <td>1</td>\n",
       "      <td>1</td>\n",
       "      <td>1</td>\n",
       "      <td>1</td>\n",
       "      <td>1</td>\n",
       "    </tr>\n",
       "    <tr>\n",
       "      <th>A. Salaam</th>\n",
       "      <td>1</td>\n",
       "      <td>1</td>\n",
       "      <td>1</td>\n",
       "      <td>1</td>\n",
       "      <td>1</td>\n",
       "      <td>1</td>\n",
       "      <td>1</td>\n",
       "      <td>1</td>\n",
       "      <td>1</td>\n",
       "      <td>1</td>\n",
       "    </tr>\n",
       "    <tr>\n",
       "      <th>A.R. Murugadoss</th>\n",
       "      <td>2</td>\n",
       "      <td>2</td>\n",
       "      <td>2</td>\n",
       "      <td>2</td>\n",
       "      <td>1</td>\n",
       "      <td>2</td>\n",
       "      <td>2</td>\n",
       "      <td>2</td>\n",
       "      <td>2</td>\n",
       "      <td>2</td>\n",
       "    </tr>\n",
       "    <tr>\n",
       "      <th>Aadish Keluskar</th>\n",
       "      <td>1</td>\n",
       "      <td>1</td>\n",
       "      <td>1</td>\n",
       "      <td>1</td>\n",
       "      <td>1</td>\n",
       "      <td>1</td>\n",
       "      <td>1</td>\n",
       "      <td>1</td>\n",
       "      <td>1</td>\n",
       "      <td>1</td>\n",
       "    </tr>\n",
       "  </tbody>\n",
       "</table>\n",
       "</div>"
      ],
      "text/plain": [
       "                 show_id  type  title  cast  country  date_added  \\\n",
       "director                                                           \n",
       "A. L. Vijay            2     2      2     2        2           2   \n",
       "A. Raajdheep           1     1      1     1        1           1   \n",
       "A. Salaam              1     1      1     1        1           1   \n",
       "A.R. Murugadoss        2     2      2     2        1           2   \n",
       "Aadish Keluskar        1     1      1     1        1           1   \n",
       "\n",
       "                 release_year  rating  duration  genres  \n",
       "director                                                 \n",
       "A. L. Vijay                 2       2         2       2  \n",
       "A. Raajdheep                1       1         1       1  \n",
       "A. Salaam                   1       1         1       1  \n",
       "A.R. Murugadoss             2       2         2       2  \n",
       "Aadish Keluskar             1       1         1       1  "
      ]
     },
     "execution_count": 27,
     "metadata": {},
     "output_type": "execute_result"
    }
   ],
   "source": [
    "# Group by \"director\" and get the first few rows \n",
    "\n",
    "netflix_data.groupby(\"director\").count().head()"
   ]
  },
  {
   "cell_type": "code",
   "execution_count": 28,
   "id": "4fac8a46-e929-484b-9068-0da45f06c459",
   "metadata": {},
   "outputs": [
    {
     "data": {
      "text/plain": [
       "4298    1925\n",
       "4402    1942\n",
       "5688    1942\n",
       "7423    1943\n",
       "7353    1943\n",
       "        ... \n",
       "4562    2021\n",
       "1937    2021\n",
       "6087    2021\n",
       "7384    2021\n",
       "3528    2021\n",
       "Name: release_year, Length: 7787, dtype: int64"
      ]
     },
     "execution_count": 28,
     "metadata": {},
     "output_type": "execute_result"
    }
   ],
   "source": [
    "# Sort values in \"release_year\"\n",
    "# To get the release years in ascending order\n",
    "\n",
    "netflix_data[\"release_year\"].sort_values()"
   ]
  },
  {
   "cell_type": "code",
   "execution_count": 29,
   "id": "cc94c72c-6d14-4cce-918c-cde976138ab2",
   "metadata": {},
   "outputs": [
    {
     "data": {
      "text/plain": [
       "show_id            0\n",
       "type               0\n",
       "title              0\n",
       "director        2389\n",
       "cast             718\n",
       "country          507\n",
       "date_added        10\n",
       "release_year       0\n",
       "rating             7\n",
       "duration           0\n",
       "genres             0\n",
       "dtype: int64"
      ]
     },
     "execution_count": 29,
     "metadata": {},
     "output_type": "execute_result"
    }
   ],
   "source": [
    "# Get number of missing values in each column of the dataframe\n",
    "\n",
    "netflix_data.isna().sum()"
   ]
  },
  {
   "cell_type": "code",
   "execution_count": 30,
   "id": "68645322-ba55-4439-ada6-0b0857b61bcd",
   "metadata": {
    "scrolled": true
   },
   "outputs": [
    {
     "data": {
      "text/plain": [
       "3631"
      ]
     },
     "execution_count": 30,
     "metadata": {},
     "output_type": "execute_result"
    }
   ],
   "source": [
    "# Get total number of rows that contain missing values\n",
    "netflix_data.isna().sum().sum()"
   ]
  },
  {
   "cell_type": "code",
   "execution_count": 31,
   "id": "23c608bf-d519-4276-b6fa-9668be7c19ef",
   "metadata": {},
   "outputs": [
    {
     "data": {
      "text/plain": [
       "3631"
      ]
     },
     "execution_count": 31,
     "metadata": {},
     "output_type": "execute_result"
    }
   ],
   "source": [
    "netflix_data.isna().sum().sum()"
   ]
  },
  {
   "cell_type": "code",
   "execution_count": 32,
   "id": "3d55cb6f-6f3e-4b46-b83d-b9d5e6a08dbc",
   "metadata": {},
   "outputs": [
    {
     "data": {
      "text/plain": [
       "7787"
      ]
     },
     "execution_count": 32,
     "metadata": {},
     "output_type": "execute_result"
    }
   ],
   "source": [
    "netflix_data.shape[0]"
   ]
  },
  {
   "cell_type": "code",
   "execution_count": 33,
   "id": "c8bbe25a-89fe-4c32-9059-21f45791b620",
   "metadata": {},
   "outputs": [
    {
     "data": {
      "text/plain": [
       "46.628997046359316"
      ]
     },
     "execution_count": 33,
     "metadata": {},
     "output_type": "execute_result"
    }
   ],
   "source": [
    "# Percentage of rows with missing values\n",
    "\n",
    "(netflix_data.isna().sum().sum() / netflix_data.shape[0]) * 100"
   ]
  },
  {
   "cell_type": "code",
   "execution_count": 34,
   "id": "fbbe90de-ca7a-4e5b-86a4-53857e1bb7b6",
   "metadata": {},
   "outputs": [
    {
     "data": {
      "text/plain": [
       "46.628997046359316"
      ]
     },
     "execution_count": 34,
     "metadata": {},
     "output_type": "execute_result"
    }
   ],
   "source": [
    "(3631/7787)*100"
   ]
  },
  {
   "cell_type": "code",
   "execution_count": 35,
   "id": "483c69e8-ccbd-4f01-b9b5-3dc8a4dd3f92",
   "metadata": {},
   "outputs": [],
   "source": [
    "# Drop rows containing missing values \n",
    "netflix_data = netflix_data.dropna()"
   ]
  },
  {
   "cell_type": "code",
   "execution_count": 36,
   "id": "3041efbe-d576-4585-a300-dd0f6c0ed73a",
   "metadata": {},
   "outputs": [
    {
     "data": {
      "text/plain": [
       "(4808, 11)"
      ]
     },
     "execution_count": 36,
     "metadata": {},
     "output_type": "execute_result"
    }
   ],
   "source": [
    "netflix_data.shape"
   ]
  },
  {
   "cell_type": "code",
   "execution_count": 37,
   "id": "569eeb58-b842-4213-8f82-c47a9603801a",
   "metadata": {},
   "outputs": [
    {
     "data": {
      "text/plain": [
       "1       False\n",
       "2       False\n",
       "3       False\n",
       "5       False\n",
       "6       False\n",
       "        ...  \n",
       "7778    False\n",
       "7781    False\n",
       "7784    False\n",
       "7785    False\n",
       "7786    False\n",
       "Length: 4808, dtype: bool"
      ]
     },
     "execution_count": 37,
     "metadata": {},
     "output_type": "execute_result"
    }
   ],
   "source": [
    "# Investigate for duplicates\n",
    "netflix_data.duplicated()"
   ]
  },
  {
   "cell_type": "code",
   "execution_count": 38,
   "id": "ca2a5c27-a89e-44f6-a372-898ebedbcc55",
   "metadata": {},
   "outputs": [
    {
     "data": {
      "text/plain": [
       "0"
      ]
     },
     "execution_count": 38,
     "metadata": {},
     "output_type": "execute_result"
    }
   ],
   "source": [
    "# Investigate for duplicates\n",
    "netflix_data.duplicated().sum()"
   ]
  },
  {
   "cell_type": "code",
   "execution_count": 39,
   "id": "829aad00-875b-4ec4-af46-28180448106d",
   "metadata": {},
   "outputs": [
    {
     "data": {
      "text/plain": [
       "dtype('O')"
      ]
     },
     "execution_count": 39,
     "metadata": {},
     "output_type": "execute_result"
    }
   ],
   "source": [
    "# Get the data type of \"date_added\" column\n",
    "netflix_data[\"date_added\"].dtype"
   ]
  },
  {
   "cell_type": "code",
   "execution_count": 40,
   "id": "6b32d255-1d88-4cec-97a6-7d1a18b0d26f",
   "metadata": {},
   "outputs": [
    {
     "data": {
      "text/plain": [
       "str"
      ]
     },
     "execution_count": 40,
     "metadata": {},
     "output_type": "execute_result"
    }
   ],
   "source": [
    "# Get the data type of first entry in \"date_added\" column\n",
    "type(netflix_data[\"date_added\"].iloc[0])"
   ]
  },
  {
   "cell_type": "code",
   "execution_count": 41,
   "id": "c6d8284a-1b05-4b60-a94a-f382c9e72bee",
   "metadata": {},
   "outputs": [
    {
     "name": "stderr",
     "output_type": "stream",
     "text": [
      "C:\\Users\\Luis\\AppData\\Local\\Temp\\ipykernel_14648\\167767429.py:2: UserWarning: Could not infer format, so each element will be parsed individually, falling back to `dateutil`. To ensure parsing is consistent and as-expected, please specify a format.\n",
      "  netflix_data[\"date_added\"] = pd.to_datetime(netflix_data[\"date_added\"])\n"
     ]
    }
   ],
   "source": [
    "# Convert the \"date_added\" column to datetime format\n",
    "netflix_data[\"date_added\"] = pd.to_datetime(netflix_data[\"date_added\"])"
   ]
  },
  {
   "cell_type": "code",
   "execution_count": 42,
   "id": "217461e4-72df-4de1-ad54-e3f8b3c15e43",
   "metadata": {},
   "outputs": [
    {
     "data": {
      "text/plain": [
       "1      2017-12-15\n",
       "2      2019-01-05\n",
       "3      2016-03-01\n",
       "5      2019-02-25\n",
       "6      2021-01-01\n",
       "          ...    \n",
       "7778   2019-06-21\n",
       "7781   2019-10-01\n",
       "7784   2016-08-26\n",
       "7785   2019-03-08\n",
       "7786   2016-12-06\n",
       "Name: date_added, Length: 4808, dtype: datetime64[ns]"
      ]
     },
     "execution_count": 42,
     "metadata": {},
     "output_type": "execute_result"
    }
   ],
   "source": [
    "# Display \"date_added\" column after converting to datetime format\n",
    "netflix_data[\"date_added\"]"
   ]
  },
  {
   "cell_type": "code",
   "execution_count": 43,
   "id": "d7f7e80a-568b-4894-93ff-804b3bdab578",
   "metadata": {},
   "outputs": [
    {
     "data": {
      "text/plain": [
       "dtype('int64')"
      ]
     },
     "execution_count": 43,
     "metadata": {},
     "output_type": "execute_result"
    }
   ],
   "source": [
    "# Get the data type of the \"release_year\" column\n",
    "netflix_data[\"release_year\"].dtype"
   ]
  },
  {
   "cell_type": "code",
   "execution_count": 44,
   "id": "7800c29b-9ffa-4b15-94fa-76cc1906c71b",
   "metadata": {},
   "outputs": [],
   "source": [
    "### 7 USO DE VISUALIZACIÓN DE DATOS ###"
   ]
  },
  {
   "cell_type": "code",
   "execution_count": 45,
   "id": "17634ee0-a400-440d-a007-ac382ba22c69",
   "metadata": {},
   "outputs": [],
   "source": [
    "# import necessary Python libraries\n",
    "import pandas as pd"
   ]
  },
  {
   "cell_type": "code",
   "execution_count": 46,
   "id": "6c28a63f-d47b-4a76-af04-653a5019da0e",
   "metadata": {},
   "outputs": [],
   "source": [
    "# load the data from the csv file into a dataframe \n",
    "listings = pd.read_csv(\"Airbnb_NYC_2019.csv\")"
   ]
  },
  {
   "cell_type": "code",
   "execution_count": 47,
   "id": "6786bdd0-721b-4a97-91bf-aad6993972bf",
   "metadata": {},
   "outputs": [
    {
     "data": {
      "text/html": [
       "<div>\n",
       "<style scoped>\n",
       "    .dataframe tbody tr th:only-of-type {\n",
       "        vertical-align: middle;\n",
       "    }\n",
       "\n",
       "    .dataframe tbody tr th {\n",
       "        vertical-align: top;\n",
       "    }\n",
       "\n",
       "    .dataframe thead th {\n",
       "        text-align: right;\n",
       "    }\n",
       "</style>\n",
       "<table border=\"1\" class=\"dataframe\">\n",
       "  <thead>\n",
       "    <tr style=\"text-align: right;\">\n",
       "      <th></th>\n",
       "      <th>id</th>\n",
       "      <th>name</th>\n",
       "      <th>host_id</th>\n",
       "      <th>host_name</th>\n",
       "      <th>neighbourhood_group</th>\n",
       "      <th>neighbourhood</th>\n",
       "      <th>latitude</th>\n",
       "      <th>longitude</th>\n",
       "      <th>room_type</th>\n",
       "      <th>price</th>\n",
       "      <th>minimum_nights</th>\n",
       "      <th>number_of_reviews</th>\n",
       "      <th>last_review</th>\n",
       "      <th>reviews_per_month</th>\n",
       "      <th>calculated_host_listings_count</th>\n",
       "      <th>availability_365</th>\n",
       "    </tr>\n",
       "  </thead>\n",
       "  <tbody>\n",
       "    <tr>\n",
       "      <th>0</th>\n",
       "      <td>2539</td>\n",
       "      <td>Clean &amp; quiet apt home by the park</td>\n",
       "      <td>2787</td>\n",
       "      <td>John</td>\n",
       "      <td>Brooklyn</td>\n",
       "      <td>Kensington</td>\n",
       "      <td>40.64749</td>\n",
       "      <td>-73.97237</td>\n",
       "      <td>Private room</td>\n",
       "      <td>149</td>\n",
       "      <td>1</td>\n",
       "      <td>9</td>\n",
       "      <td>2018-10-19</td>\n",
       "      <td>0.21</td>\n",
       "      <td>6</td>\n",
       "      <td>365</td>\n",
       "    </tr>\n",
       "    <tr>\n",
       "      <th>1</th>\n",
       "      <td>2595</td>\n",
       "      <td>Skylit Midtown Castle</td>\n",
       "      <td>2845</td>\n",
       "      <td>Jennifer</td>\n",
       "      <td>Manhattan</td>\n",
       "      <td>Midtown</td>\n",
       "      <td>40.75362</td>\n",
       "      <td>-73.98377</td>\n",
       "      <td>Entire home/apt</td>\n",
       "      <td>225</td>\n",
       "      <td>1</td>\n",
       "      <td>45</td>\n",
       "      <td>2019-05-21</td>\n",
       "      <td>0.38</td>\n",
       "      <td>2</td>\n",
       "      <td>355</td>\n",
       "    </tr>\n",
       "    <tr>\n",
       "      <th>2</th>\n",
       "      <td>3647</td>\n",
       "      <td>THE VILLAGE OF HARLEM....NEW YORK !</td>\n",
       "      <td>4632</td>\n",
       "      <td>Elisabeth</td>\n",
       "      <td>Manhattan</td>\n",
       "      <td>Harlem</td>\n",
       "      <td>40.80902</td>\n",
       "      <td>-73.94190</td>\n",
       "      <td>Private room</td>\n",
       "      <td>150</td>\n",
       "      <td>3</td>\n",
       "      <td>0</td>\n",
       "      <td>NaN</td>\n",
       "      <td>NaN</td>\n",
       "      <td>1</td>\n",
       "      <td>365</td>\n",
       "    </tr>\n",
       "    <tr>\n",
       "      <th>3</th>\n",
       "      <td>3831</td>\n",
       "      <td>Cozy Entire Floor of Brownstone</td>\n",
       "      <td>4869</td>\n",
       "      <td>LisaRoxanne</td>\n",
       "      <td>Brooklyn</td>\n",
       "      <td>Clinton Hill</td>\n",
       "      <td>40.68514</td>\n",
       "      <td>-73.95976</td>\n",
       "      <td>Entire home/apt</td>\n",
       "      <td>89</td>\n",
       "      <td>1</td>\n",
       "      <td>270</td>\n",
       "      <td>2019-07-05</td>\n",
       "      <td>4.64</td>\n",
       "      <td>1</td>\n",
       "      <td>194</td>\n",
       "    </tr>\n",
       "    <tr>\n",
       "      <th>4</th>\n",
       "      <td>5022</td>\n",
       "      <td>Entire Apt: Spacious Studio/Loft by central park</td>\n",
       "      <td>7192</td>\n",
       "      <td>Laura</td>\n",
       "      <td>Manhattan</td>\n",
       "      <td>East Harlem</td>\n",
       "      <td>40.79851</td>\n",
       "      <td>-73.94399</td>\n",
       "      <td>Entire home/apt</td>\n",
       "      <td>80</td>\n",
       "      <td>10</td>\n",
       "      <td>9</td>\n",
       "      <td>2018-11-19</td>\n",
       "      <td>0.10</td>\n",
       "      <td>1</td>\n",
       "      <td>0</td>\n",
       "    </tr>\n",
       "    <tr>\n",
       "      <th>...</th>\n",
       "      <td>...</td>\n",
       "      <td>...</td>\n",
       "      <td>...</td>\n",
       "      <td>...</td>\n",
       "      <td>...</td>\n",
       "      <td>...</td>\n",
       "      <td>...</td>\n",
       "      <td>...</td>\n",
       "      <td>...</td>\n",
       "      <td>...</td>\n",
       "      <td>...</td>\n",
       "      <td>...</td>\n",
       "      <td>...</td>\n",
       "      <td>...</td>\n",
       "      <td>...</td>\n",
       "      <td>...</td>\n",
       "    </tr>\n",
       "    <tr>\n",
       "      <th>48890</th>\n",
       "      <td>36484665</td>\n",
       "      <td>Charming one bedroom - newly renovated rowhouse</td>\n",
       "      <td>8232441</td>\n",
       "      <td>Sabrina</td>\n",
       "      <td>Brooklyn</td>\n",
       "      <td>Bedford-Stuyvesant</td>\n",
       "      <td>40.67853</td>\n",
       "      <td>-73.94995</td>\n",
       "      <td>Private room</td>\n",
       "      <td>70</td>\n",
       "      <td>2</td>\n",
       "      <td>0</td>\n",
       "      <td>NaN</td>\n",
       "      <td>NaN</td>\n",
       "      <td>2</td>\n",
       "      <td>9</td>\n",
       "    </tr>\n",
       "    <tr>\n",
       "      <th>48891</th>\n",
       "      <td>36485057</td>\n",
       "      <td>Affordable room in Bushwick/East Williamsburg</td>\n",
       "      <td>6570630</td>\n",
       "      <td>Marisol</td>\n",
       "      <td>Brooklyn</td>\n",
       "      <td>Bushwick</td>\n",
       "      <td>40.70184</td>\n",
       "      <td>-73.93317</td>\n",
       "      <td>Private room</td>\n",
       "      <td>40</td>\n",
       "      <td>4</td>\n",
       "      <td>0</td>\n",
       "      <td>NaN</td>\n",
       "      <td>NaN</td>\n",
       "      <td>2</td>\n",
       "      <td>36</td>\n",
       "    </tr>\n",
       "    <tr>\n",
       "      <th>48892</th>\n",
       "      <td>36485431</td>\n",
       "      <td>Sunny Studio at Historical Neighborhood</td>\n",
       "      <td>23492952</td>\n",
       "      <td>Ilgar &amp; Aysel</td>\n",
       "      <td>Manhattan</td>\n",
       "      <td>Harlem</td>\n",
       "      <td>40.81475</td>\n",
       "      <td>-73.94867</td>\n",
       "      <td>Entire home/apt</td>\n",
       "      <td>115</td>\n",
       "      <td>10</td>\n",
       "      <td>0</td>\n",
       "      <td>NaN</td>\n",
       "      <td>NaN</td>\n",
       "      <td>1</td>\n",
       "      <td>27</td>\n",
       "    </tr>\n",
       "    <tr>\n",
       "      <th>48893</th>\n",
       "      <td>36485609</td>\n",
       "      <td>43rd St. Time Square-cozy single bed</td>\n",
       "      <td>30985759</td>\n",
       "      <td>Taz</td>\n",
       "      <td>Manhattan</td>\n",
       "      <td>Hell's Kitchen</td>\n",
       "      <td>40.75751</td>\n",
       "      <td>-73.99112</td>\n",
       "      <td>Shared room</td>\n",
       "      <td>55</td>\n",
       "      <td>1</td>\n",
       "      <td>0</td>\n",
       "      <td>NaN</td>\n",
       "      <td>NaN</td>\n",
       "      <td>6</td>\n",
       "      <td>2</td>\n",
       "    </tr>\n",
       "    <tr>\n",
       "      <th>48894</th>\n",
       "      <td>36487245</td>\n",
       "      <td>Trendy duplex in the very heart of Hell's Kitchen</td>\n",
       "      <td>68119814</td>\n",
       "      <td>Christophe</td>\n",
       "      <td>Manhattan</td>\n",
       "      <td>Hell's Kitchen</td>\n",
       "      <td>40.76404</td>\n",
       "      <td>-73.98933</td>\n",
       "      <td>Private room</td>\n",
       "      <td>90</td>\n",
       "      <td>7</td>\n",
       "      <td>0</td>\n",
       "      <td>NaN</td>\n",
       "      <td>NaN</td>\n",
       "      <td>1</td>\n",
       "      <td>23</td>\n",
       "    </tr>\n",
       "  </tbody>\n",
       "</table>\n",
       "<p>48895 rows × 16 columns</p>\n",
       "</div>"
      ],
      "text/plain": [
       "             id                                               name   host_id  \\\n",
       "0          2539                 Clean & quiet apt home by the park      2787   \n",
       "1          2595                              Skylit Midtown Castle      2845   \n",
       "2          3647                THE VILLAGE OF HARLEM....NEW YORK !      4632   \n",
       "3          3831                    Cozy Entire Floor of Brownstone      4869   \n",
       "4          5022   Entire Apt: Spacious Studio/Loft by central park      7192   \n",
       "...         ...                                                ...       ...   \n",
       "48890  36484665    Charming one bedroom - newly renovated rowhouse   8232441   \n",
       "48891  36485057      Affordable room in Bushwick/East Williamsburg   6570630   \n",
       "48892  36485431            Sunny Studio at Historical Neighborhood  23492952   \n",
       "48893  36485609               43rd St. Time Square-cozy single bed  30985759   \n",
       "48894  36487245  Trendy duplex in the very heart of Hell's Kitchen  68119814   \n",
       "\n",
       "           host_name neighbourhood_group       neighbourhood  latitude  \\\n",
       "0               John            Brooklyn          Kensington  40.64749   \n",
       "1           Jennifer           Manhattan             Midtown  40.75362   \n",
       "2          Elisabeth           Manhattan              Harlem  40.80902   \n",
       "3        LisaRoxanne            Brooklyn        Clinton Hill  40.68514   \n",
       "4              Laura           Manhattan         East Harlem  40.79851   \n",
       "...              ...                 ...                 ...       ...   \n",
       "48890        Sabrina            Brooklyn  Bedford-Stuyvesant  40.67853   \n",
       "48891        Marisol            Brooklyn            Bushwick  40.70184   \n",
       "48892  Ilgar & Aysel           Manhattan              Harlem  40.81475   \n",
       "48893            Taz           Manhattan      Hell's Kitchen  40.75751   \n",
       "48894     Christophe           Manhattan      Hell's Kitchen  40.76404   \n",
       "\n",
       "       longitude        room_type  price  minimum_nights  number_of_reviews  \\\n",
       "0      -73.97237     Private room    149               1                  9   \n",
       "1      -73.98377  Entire home/apt    225               1                 45   \n",
       "2      -73.94190     Private room    150               3                  0   \n",
       "3      -73.95976  Entire home/apt     89               1                270   \n",
       "4      -73.94399  Entire home/apt     80              10                  9   \n",
       "...          ...              ...    ...             ...                ...   \n",
       "48890  -73.94995     Private room     70               2                  0   \n",
       "48891  -73.93317     Private room     40               4                  0   \n",
       "48892  -73.94867  Entire home/apt    115              10                  0   \n",
       "48893  -73.99112      Shared room     55               1                  0   \n",
       "48894  -73.98933     Private room     90               7                  0   \n",
       "\n",
       "      last_review  reviews_per_month  calculated_host_listings_count  \\\n",
       "0      2018-10-19               0.21                               6   \n",
       "1      2019-05-21               0.38                               2   \n",
       "2             NaN                NaN                               1   \n",
       "3      2019-07-05               4.64                               1   \n",
       "4      2018-11-19               0.10                               1   \n",
       "...           ...                ...                             ...   \n",
       "48890         NaN                NaN                               2   \n",
       "48891         NaN                NaN                               2   \n",
       "48892         NaN                NaN                               1   \n",
       "48893         NaN                NaN                               6   \n",
       "48894         NaN                NaN                               1   \n",
       "\n",
       "       availability_365  \n",
       "0                   365  \n",
       "1                   355  \n",
       "2                   365  \n",
       "3                   194  \n",
       "4                     0  \n",
       "...                 ...  \n",
       "48890                 9  \n",
       "48891                36  \n",
       "48892                27  \n",
       "48893                 2  \n",
       "48894                23  \n",
       "\n",
       "[48895 rows x 16 columns]"
      ]
     },
     "execution_count": 47,
     "metadata": {},
     "output_type": "execute_result"
    }
   ],
   "source": [
    "# display the dataframe\n",
    "listings"
   ]
  },
  {
   "cell_type": "code",
   "execution_count": 48,
   "id": "537ccea1-78b4-4784-a7bf-0ab641e2eb74",
   "metadata": {},
   "outputs": [],
   "source": [
    "import seaborn as sns\n",
    "import matplotlib.pyplot as plt"
   ]
  },
  {
   "cell_type": "code",
   "execution_count": 49,
   "id": "3d909631-9cf2-4838-b394-e1e3c81244a7",
   "metadata": {
    "scrolled": true
   },
   "outputs": [
    {
     "data": {
      "image/png": "[encoded data removed]",
      "text/plain": [
       "<Figure size 640x480 with 1 Axes>"
      ]
     },
     "metadata": {},
     "output_type": "display_data"
    }
   ],
   "source": [
    "# create a count plot that displays the count of Airbnb listings in each neighbourhood group of New York City\n",
    "# display the plot on the screen\n",
    "sns.countplot(x = \"neighbourhood_group\", data = listings)\n",
    "plt.show()"
   ]
  },
  {
   "cell_type": "code",
   "execution_count": 50,
   "id": "4b1c038a-751e-41b1-af70-f8992713c70b",
   "metadata": {},
   "outputs": [
    {
     "data": {
      "image/png": "[encoded data removed]",
      "text/plain": [
       "<Figure size 640x480 with 1 Axes>"
      ]
     },
     "metadata": {},
     "output_type": "display_data"
    }
   ],
   "source": [
    "# create a bar plot that displays the average price of Airbnb listings in each neighborhood group of New York City\n",
    "# display the plot on the screen\n",
    "sns.barplot(x = \"neighbourhood_group\", y = \"price\", data = listings)\n",
    "plt.show()"
   ]
  },
  {
   "cell_type": "code",
   "execution_count": 51,
   "id": "bee4eb66-a8ef-4d6d-aa77-3b14d4a7688a",
   "metadata": {
    "scrolled": true
   },
   "outputs": [
    {
     "name": "stderr",
     "output_type": "stream",
     "text": [
      "C:\\Users\\Luis\\AppData\\Local\\Temp\\ipykernel_14648\\1707426982.py:1: FutureWarning: \n",
      "\n",
      "The `ci` parameter is deprecated. Use `errorbar=('ci', False)` for the same effect.\n",
      "\n",
      "  sns.barplot(x = \"neighbourhood_group\", y = \"price\", data = listings, ci = False)\n"
     ]
    },
    {
     "data": {
      "image/png": "[encoded data removed]",
      "text/plain": [
       "<Figure size 640x480 with 1 Axes>"
      ]
     },
     "metadata": {},
     "output_type": "display_data"
    }
   ],
   "source": [
    "sns.barplot(x = \"neighbourhood_group\", y = \"price\", data = listings, ci = False)\n",
    "plt.show()"
   ]
  },
  {
   "cell_type": "code",
   "execution_count": 52,
   "id": "87642434-696c-42a8-ac13-b19a0e0b2092",
   "metadata": {},
   "outputs": [],
   "source": [
    "import numpy as np"
   ]
  },
  {
   "cell_type": "code",
   "execution_count": 53,
   "id": "9dbdceaf-b90b-4bf9-abd8-1c8b4e87d815",
   "metadata": {},
   "outputs": [
    {
     "data": {
      "image/png": "[encoded data removed]",
      "text/plain": [
       "<Figure size 640x480 with 1 Axes>"
      ]
     },
     "metadata": {},
     "output_type": "display_data"
    }
   ],
   "source": [
    "# create a histogram that displays the distribution of listing prices\n",
    "# specify the x-axis label\n",
    "# display the plot on the screen\n",
    "\n",
    "plt.hist(listings[\"price\"])\n",
    "plt.xlabel(\"price (in US dollars)\")\n",
    "plt.show()"
   ]
  },
  {
   "cell_type": "code",
   "execution_count": 54,
   "id": "99c4e931-97b6-4f09-a747-f9911e9018e0",
   "metadata": {},
   "outputs": [
    {
     "data": {
      "image/png": "[encoded data removed]",
      "text/plain": [
       "<Figure size 640x480 with 1 Axes>"
      ]
     },
     "metadata": {},
     "output_type": "display_data"
    }
   ],
   "source": [
    "# create a histogram that displays the distribution of listing prices and specify the bins parameter\n",
    "# specify the x-axis label\n",
    "# display the plot on the screen\n",
    "plt.hist(listings[\"price\"], bins = np.arange(0, 1100, 40))\n",
    "plt.xlabel(\"price (in US dollars)\")\n",
    "plt.show()"
   ]
  },
  {
   "cell_type": "code",
   "execution_count": 55,
   "id": "9d1c1d64-15fc-4bce-bba3-8d44c27f7e7d",
   "metadata": {},
   "outputs": [
    {
     "data": {
      "image/png": "[encoded data removed]",
      "text/plain": [
       "<Figure size 640x480 with 1 Axes>"
      ]
     },
     "metadata": {},
     "output_type": "display_data"
    }
   ],
   "source": [
    "# create a scatter plot to compare the prices of Airbnb listings and the number of reviews for those listings\n",
    "# specify the x-axis label\n",
    "# specify the y-axis label\n",
    "# display the plot on the screen\n",
    "\n",
    "plt.scatter(x = listings[\"price\"], y = listings[\"number_of_reviews\"])\n",
    "plt.xlabel(\"price\")\n",
    "plt.ylabel(\"number of reviews\")\n",
    "plt.show()"
   ]
  },
  {
   "cell_type": "code",
   "execution_count": 56,
   "id": "0a1ddc39-aeb4-4c3e-bb20-076e72f7e217",
   "metadata": {},
   "outputs": [
    {
     "data": {
      "image/png": "[encoded data removed]",
      "text/plain": [
       "<Figure size 640x480 with 1 Axes>"
      ]
     },
     "metadata": {},
     "output_type": "display_data"
    }
   ],
   "source": [
    "# create a scatter plot to compare the prices of Airbnb listings and the number of reviews for those listings\n",
    "# specify the x-axis label\n",
    "# specify the y-axis label\n",
    "# set limits for the x-axis \n",
    "# display the plot on the screen\n",
    "\n",
    "plt.scatter(x = listings[\"price\"], y = listings[\"number_of_reviews\"])\n",
    "plt.xlabel(\"price\")\n",
    "plt.ylabel(\"number of reviews\")\n",
    "plt.xlim(0, 1100)\n",
    "plt.show()"
   ]
  },
  {
   "cell_type": "code",
   "execution_count": 57,
   "id": "548c40e6-a51c-4e89-8c55-5ef374d11c7b",
   "metadata": {},
   "outputs": [
    {
     "data": {
      "image/png": "[encoded data removed]",
      "text/plain": [
       "<Figure size 640x480 with 1 Axes>"
      ]
     },
     "metadata": {},
     "output_type": "display_data"
    }
   ],
   "source": [
    "# create a scatter plot to compare the prices of Airbnb listings and the number of reviews for those listings and specify the s parameter (which represents the size of the points)\n",
    "# specify the x-axis label\n",
    "# specify the y-axis label\n",
    "# set limits for the x-axis \n",
    "# display the plot on the screen\n",
    "\n",
    "plt.scatter(x = listings[\"price\"], y = listings[\"number_of_reviews\"], s = 5)\n",
    "plt.xlabel(\"price\")\n",
    "plt.ylabel(\"number of reviews\")\n",
    "plt.xlim(0, 1100)\n",
    "plt.show()"
   ]
  },
  {
   "cell_type": "code",
   "execution_count": null,
   "id": "3734fed1-d1e0-48c1-a6e2-ad2ef8f5219d",
   "metadata": {},
   "outputs": [],
   "source": [
    "### 8 INFERENCIAS ###\n",
    "\n",
    "#  H0 : El promedio de crecimiento de los paltos es el mismo que si no se recibiera fertilizantes\n",
    "#  H1 : En promedio los paltos crecen mas rapido cuando reciben fertilizante\n"
   ]
  },
  {
   "cell_type": "code",
   "execution_count": 58,
   "id": "6cacbc2e-7129-4296-a8dd-db34134b93cb",
   "metadata": {},
   "outputs": [],
   "source": [
    "import pandas as pd\n",
    "import matplotlib.pyplot as plt\n",
    "import seaborn as sns\n",
    "import numpy as np"
   ]
  },
  {
   "cell_type": "code",
   "execution_count": 59,
   "id": "9c929a5d-c163-4c99-b205-5de82b75cd1a",
   "metadata": {},
   "outputs": [],
   "source": [
    "avocado_info = pd.read_csv(\"avocado_info.csv\")"
   ]
  },
  {
   "cell_type": "code",
   "execution_count": 60,
   "id": "8006cab1-3fa9-40cd-830b-70db86cacf7b",
   "metadata": {},
   "outputs": [
    {
     "data": {
      "text/html": [
       "<div>\n",
       "<style scoped>\n",
       "    .dataframe tbody tr th:only-of-type {\n",
       "        vertical-align: middle;\n",
       "    }\n",
       "\n",
       "    .dataframe tbody tr th {\n",
       "        vertical-align: top;\n",
       "    }\n",
       "\n",
       "    .dataframe thead th {\n",
       "        text-align: right;\n",
       "    }\n",
       "</style>\n",
       "<table border=\"1\" class=\"dataframe\">\n",
       "  <thead>\n",
       "    <tr style=\"text-align: right;\">\n",
       "      <th></th>\n",
       "      <th>Growth Duration</th>\n",
       "      <th>Fertilizer</th>\n",
       "    </tr>\n",
       "  </thead>\n",
       "  <tbody>\n",
       "    <tr>\n",
       "      <th>0</th>\n",
       "      <td>98</td>\n",
       "      <td>True</td>\n",
       "    </tr>\n",
       "    <tr>\n",
       "      <th>1</th>\n",
       "      <td>108</td>\n",
       "      <td>False</td>\n",
       "    </tr>\n",
       "    <tr>\n",
       "      <th>2</th>\n",
       "      <td>129</td>\n",
       "      <td>False</td>\n",
       "    </tr>\n",
       "    <tr>\n",
       "      <th>3</th>\n",
       "      <td>116</td>\n",
       "      <td>False</td>\n",
       "    </tr>\n",
       "    <tr>\n",
       "      <th>4</th>\n",
       "      <td>111</td>\n",
       "      <td>False</td>\n",
       "    </tr>\n",
       "  </tbody>\n",
       "</table>\n",
       "</div>"
      ],
      "text/plain": [
       "   Growth Duration  Fertilizer\n",
       "0               98        True\n",
       "1              108       False\n",
       "2              129       False\n",
       "3              116       False\n",
       "4              111       False"
      ]
     },
     "execution_count": 60,
     "metadata": {},
     "output_type": "execute_result"
    }
   ],
   "source": [
    "avocado_info.head()"
   ]
  },
  {
   "cell_type": "code",
   "execution_count": 61,
   "id": "3478f078-9296-45bc-a36f-1014381e0f18",
   "metadata": {},
   "outputs": [
    {
     "data": {
      "image/png": "[encoded data removed]",
      "text/plain": [
       "<Figure size 640x480 with 1 Axes>"
      ]
     },
     "metadata": {},
     "output_type": "display_data"
    }
   ],
   "source": [
    "sns.histplot(data = avocado_info, x = \"Growth Duration\", hue = \"Fertilizer\")\n",
    "plt.legend([\"Fertilized\", \"Not Fertilized\"])\n",
    "plt.show()"
   ]
  },
  {
   "cell_type": "code",
   "execution_count": 62,
   "id": "2b0dc23f-3e57-41fe-bedd-204c6a3fffa0",
   "metadata": {},
   "outputs": [],
   "source": [
    "fertilized = avocado_info.loc[avocado_info[\"Fertilizer\"] == True]\n",
    "not_fertilized = avocado_info.loc[avocado_info[\"Fertilizer\"] == False]"
   ]
  },
  {
   "cell_type": "code",
   "execution_count": 63,
   "id": "d6f4c3b2-41c0-472d-91cc-14190f450f29",
   "metadata": {},
   "outputs": [
    {
     "data": {
      "text/plain": [
       "-9.266142572024918"
      ]
     },
     "execution_count": 63,
     "metadata": {},
     "output_type": "execute_result"
    }
   ],
   "source": [
    "#La diferencia entre el promedio de la duración del crecimiento de paltos fertilizados menos no fertilizados\n",
    "\n",
    "observed_test_stat = np.mean(fertilized[\"Growth Duration\"]) - np.mean(not_fertilized[\"Growth Duration\"])\n",
    "observed_test_stat"
   ]
  },
  {
   "cell_type": "code",
   "execution_count": 64,
   "id": "450a2283-7ad0-4306-bbbf-6aac339efa02",
   "metadata": {},
   "outputs": [
    {
     "data": {
      "text/plain": [
       "113.81917211328977"
      ]
     },
     "execution_count": 64,
     "metadata": {},
     "output_type": "execute_result"
    }
   ],
   "source": [
    "np.mean(fertilized[\"Growth Duration\"])"
   ]
  },
  {
   "cell_type": "code",
   "execution_count": 65,
   "id": "d2a24652-7a12-4658-86d7-63bd01b7bfe1",
   "metadata": {},
   "outputs": [
    {
     "data": {
      "text/plain": [
       "123.08531468531469"
      ]
     },
     "execution_count": 65,
     "metadata": {},
     "output_type": "execute_result"
    }
   ],
   "source": [
    "np.mean(not_fertilized[\"Growth Duration\"])"
   ]
  },
  {
   "cell_type": "code",
   "execution_count": 66,
   "id": "c1da6f5f-0dfd-4faa-aa3f-f08d3eb5a0cb",
   "metadata": {},
   "outputs": [
    {
     "data": {
      "text/plain": [
       "696     120\n",
       "932      72\n",
       "895     110\n",
       "907     127\n",
       "42      118\n",
       "       ... \n",
       "400     122\n",
       "1089    140\n",
       "292     106\n",
       "203      87\n",
       "610     116\n",
       "Name: Growth Duration, Length: 1174, dtype: int64"
      ]
     },
     "execution_count": 66,
     "metadata": {},
     "output_type": "execute_result"
    }
   ],
   "source": [
    "avocado_info[\"Growth Duration\"].sample(frac = 1)"
   ]
  },
  {
   "cell_type": "code",
   "execution_count": 67,
   "id": "471088cd-b194-4ee6-8114-11c14f09f63b",
   "metadata": {},
   "outputs": [
    {
     "data": {
      "text/html": [
       "<div>\n",
       "<style scoped>\n",
       "    .dataframe tbody tr th:only-of-type {\n",
       "        vertical-align: middle;\n",
       "    }\n",
       "\n",
       "    .dataframe tbody tr th {\n",
       "        vertical-align: top;\n",
       "    }\n",
       "\n",
       "    .dataframe thead th {\n",
       "        text-align: right;\n",
       "    }\n",
       "</style>\n",
       "<table border=\"1\" class=\"dataframe\">\n",
       "  <thead>\n",
       "    <tr style=\"text-align: right;\">\n",
       "      <th></th>\n",
       "      <th>index</th>\n",
       "      <th>Growth Duration</th>\n",
       "    </tr>\n",
       "  </thead>\n",
       "  <tbody>\n",
       "    <tr>\n",
       "      <th>0</th>\n",
       "      <td>454</td>\n",
       "      <td>143</td>\n",
       "    </tr>\n",
       "    <tr>\n",
       "      <th>1</th>\n",
       "      <td>103</td>\n",
       "      <td>108</td>\n",
       "    </tr>\n",
       "    <tr>\n",
       "      <th>2</th>\n",
       "      <td>954</td>\n",
       "      <td>142</td>\n",
       "    </tr>\n",
       "    <tr>\n",
       "      <th>3</th>\n",
       "      <td>494</td>\n",
       "      <td>140</td>\n",
       "    </tr>\n",
       "    <tr>\n",
       "      <th>4</th>\n",
       "      <td>128</td>\n",
       "      <td>117</td>\n",
       "    </tr>\n",
       "    <tr>\n",
       "      <th>...</th>\n",
       "      <td>...</td>\n",
       "      <td>...</td>\n",
       "    </tr>\n",
       "    <tr>\n",
       "      <th>1169</th>\n",
       "      <td>1041</td>\n",
       "      <td>96</td>\n",
       "    </tr>\n",
       "    <tr>\n",
       "      <th>1170</th>\n",
       "      <td>137</td>\n",
       "      <td>146</td>\n",
       "    </tr>\n",
       "    <tr>\n",
       "      <th>1171</th>\n",
       "      <td>1106</td>\n",
       "      <td>169</td>\n",
       "    </tr>\n",
       "    <tr>\n",
       "      <th>1172</th>\n",
       "      <td>889</td>\n",
       "      <td>102</td>\n",
       "    </tr>\n",
       "    <tr>\n",
       "      <th>1173</th>\n",
       "      <td>299</td>\n",
       "      <td>127</td>\n",
       "    </tr>\n",
       "  </tbody>\n",
       "</table>\n",
       "<p>1174 rows × 2 columns</p>\n",
       "</div>"
      ],
      "text/plain": [
       "      index  Growth Duration\n",
       "0       454              143\n",
       "1       103              108\n",
       "2       954              142\n",
       "3       494              140\n",
       "4       128              117\n",
       "...     ...              ...\n",
       "1169   1041               96\n",
       "1170    137              146\n",
       "1171   1106              169\n",
       "1172    889              102\n",
       "1173    299              127\n",
       "\n",
       "[1174 rows x 2 columns]"
      ]
     },
     "execution_count": 67,
     "metadata": {},
     "output_type": "execute_result"
    }
   ],
   "source": [
    "avocado_info[\"Growth Duration\"].sample(frac = 1).reset_index()"
   ]
  },
  {
   "cell_type": "code",
   "execution_count": 68,
   "id": "e2d91ebe-0d74-4dbd-9eb5-3a7dbbe2acd2",
   "metadata": {},
   "outputs": [
    {
     "data": {
      "text/plain": [
       "0       102\n",
       "1       106\n",
       "2        97\n",
       "3       125\n",
       "4       132\n",
       "       ... \n",
       "1169    127\n",
       "1170    126\n",
       "1171    124\n",
       "1172    147\n",
       "1173    154\n",
       "Name: Growth Duration, Length: 1174, dtype: int64"
      ]
     },
     "execution_count": 68,
     "metadata": {},
     "output_type": "execute_result"
    }
   ],
   "source": [
    "avocado_info[\"Growth Duration\"].sample(frac = 1).reset_index(drop = True)"
   ]
  },
  {
   "cell_type": "code",
   "execution_count": 69,
   "id": "9e314059-cfbd-4184-92e2-c91ac463eb50",
   "metadata": {},
   "outputs": [],
   "source": [
    "#Prueba de permutacion"
   ]
  },
  {
   "cell_type": "code",
   "execution_count": 70,
   "id": "116694ad-d18e-4561-806a-76d97dcd7b3a",
   "metadata": {},
   "outputs": [],
   "source": [
    "def perm(data):\n",
    "    return data.sample(frac = 1).reset_index(drop = True)"
   ]
  },
  {
   "cell_type": "code",
   "execution_count": 71,
   "id": "45727e11-c584-4674-9783-1930f98caaf0",
   "metadata": {},
   "outputs": [],
   "source": [
    "sim_test_stat = np.array([])\n",
    "\n",
    "reps = 10000\n",
    "\n",
    "for i in range(reps):\n",
    "\n",
    "    perm_info = perm(avocado_info[\"Growth Duration\"])\n",
    "\n",
    "    df = pd.DataFrame({\"Permuted Duration\": perm_info, \"Fertilizer\": avocado_info[\"Fertilizer\"]})\n",
    "\n",
    "    fertilized = df.loc[df[\"Fertilizer\"] == True, \"Permuted Duration\"]\n",
    "\n",
    "    not_fertilized = df.loc[df[\"Fertilizer\"] == False, \"Permuted Duration\"]\n",
    "\n",
    "    stat = np.mean(fertilized) - np.mean(not_fertilized)\n",
    "\n",
    "    sim_test_stat = np.append(sim_test_stat, stat)"
   ]
  },
  {
   "cell_type": "code",
   "execution_count": 72,
   "id": "7f44abad-cbdc-49cf-ac86-be560c916b28",
   "metadata": {},
   "outputs": [
    {
     "data": {
      "text/plain": [
       "array([-0.10480369,  1.85552966, -0.41244725, ...,  1.46560934,\n",
       "       -0.88106708, -0.54838277])"
      ]
     },
     "execution_count": 72,
     "metadata": {},
     "output_type": "execute_result"
    }
   ],
   "source": [
    "sim_test_stat"
   ]
  },
  {
   "cell_type": "code",
   "execution_count": 73,
   "id": "2583958e-9204-4c0f-85bb-b04dcf68f760",
   "metadata": {},
   "outputs": [
    {
     "data": {
      "image/png": "[encoded data removed]",
      "text/plain": [
       "<Figure size 640x480 with 1 Axes>"
      ]
     },
     "metadata": {},
     "output_type": "display_data"
    }
   ],
   "source": [
    "sns.histplot(sim_test_stat)\n",
    "plt.show()"
   ]
  },
  {
   "cell_type": "code",
   "execution_count": 74,
   "id": "90f1b441-b51c-49e7-a85f-1a1190a4c8a2",
   "metadata": {},
   "outputs": [
    {
     "data": {
      "text/plain": [
       "(-2.07238097414567, 2.213254719137069)"
      ]
     },
     "execution_count": 74,
     "metadata": {},
     "output_type": "execute_result"
    }
   ],
   "source": [
    "(np.percentile(sim_test_stat, 2.5), np.percentile(sim_test_stat, 97.5))"
   ]
  },
  {
   "cell_type": "code",
   "execution_count": 75,
   "id": "f43168b7-0f60-4ccb-86e2-575aac88150b",
   "metadata": {},
   "outputs": [
    {
     "data": {
      "text/plain": [
       "-9.266142572024918"
      ]
     },
     "execution_count": 75,
     "metadata": {},
     "output_type": "execute_result"
    }
   ],
   "source": [
    "# Calculando el p-value para evaluar hipotesis\n",
    "\n",
    "observed_test_stat"
   ]
  },
  {
   "cell_type": "code",
   "execution_count": 76,
   "id": "e6521888-1b37-4ded-8f11-44c002caf809",
   "metadata": {
    "scrolled": true
   },
   "outputs": [
    {
     "data": {
      "text/plain": [
       "array([False, False, False, ..., False, False, False])"
      ]
     },
     "execution_count": 76,
     "metadata": {},
     "output_type": "execute_result"
    }
   ],
   "source": [
    "sim_test_stat <= observed_test_stat"
   ]
  },
  {
   "cell_type": "code",
   "execution_count": 77,
   "id": "11135523-166c-4155-b85d-d7e77cbfc05b",
   "metadata": {},
   "outputs": [
    {
     "data": {
      "text/plain": [
       "array([-0.10480369,  1.85552966, -0.41244725, ...,  1.46560934,\n",
       "       -0.88106708, -0.54838277])"
      ]
     },
     "execution_count": 77,
     "metadata": {},
     "output_type": "execute_result"
    }
   ],
   "source": [
    "sim_test_stat"
   ]
  },
  {
   "cell_type": "code",
   "execution_count": 78,
   "id": "55901709-fe67-41e6-b178-cda94bc7db9b",
   "metadata": {},
   "outputs": [],
   "source": [
    "p_value = np.count_nonzero(sim_test_stat <= observed_test_stat) / reps"
   ]
  },
  {
   "cell_type": "code",
   "execution_count": 79,
   "id": "64f52609-d2af-4a5d-a15b-38ac6a1742f0",
   "metadata": {},
   "outputs": [
    {
     "data": {
      "text/plain": [
       "0.0"
      ]
     },
     "execution_count": 79,
     "metadata": {},
     "output_type": "execute_result"
    }
   ],
   "source": [
    "p_value"
   ]
  },
  {
   "cell_type": "code",
   "execution_count": 80,
   "id": "291b3ab4-0c91-410d-9642-eeb8d5d3c634",
   "metadata": {},
   "outputs": [],
   "source": [
    "### ... se quechaza H0"
   ]
  },
  {
   "cell_type": "code",
   "execution_count": 81,
   "id": "18930fea-4e16-4840-8ae0-def9b6cbe3cf",
   "metadata": {},
   "outputs": [],
   "source": [
    "## Bootstrapping\n",
    "## El bootstrapping es un procedimiento estadístico que remuestrea un único conjunto de datos para crear múltiples muestras simuladas\n",
    "\n",
    "## Genera intervalos de confianza"
   ]
  },
  {
   "cell_type": "code",
   "execution_count": 82,
   "id": "a9473a3d-1f17-42ea-8854-2ee3d5e6e9f1",
   "metadata": {},
   "outputs": [],
   "source": [
    "import pandas as pd\n",
    "import matplotlib.pyplot as plt\n",
    "import seaborn as sns\n",
    "import numpy as np"
   ]
  },
  {
   "cell_type": "code",
   "execution_count": 83,
   "id": "133164a3-0e46-42e7-85e7-242b11be95e7",
   "metadata": {},
   "outputs": [],
   "source": [
    "avocado_info = pd.read_csv(\"avocado_info.csv\")"
   ]
  },
  {
   "cell_type": "code",
   "execution_count": 84,
   "id": "4086ad26-853f-4f37-9f1b-6084df602e89",
   "metadata": {},
   "outputs": [
    {
     "data": {
      "text/html": [
       "<div>\n",
       "<style scoped>\n",
       "    .dataframe tbody tr th:only-of-type {\n",
       "        vertical-align: middle;\n",
       "    }\n",
       "\n",
       "    .dataframe tbody tr th {\n",
       "        vertical-align: top;\n",
       "    }\n",
       "\n",
       "    .dataframe thead th {\n",
       "        text-align: right;\n",
       "    }\n",
       "</style>\n",
       "<table border=\"1\" class=\"dataframe\">\n",
       "  <thead>\n",
       "    <tr style=\"text-align: right;\">\n",
       "      <th></th>\n",
       "      <th>Growth Duration</th>\n",
       "      <th>Fertilizer</th>\n",
       "    </tr>\n",
       "  </thead>\n",
       "  <tbody>\n",
       "    <tr>\n",
       "      <th>0</th>\n",
       "      <td>98</td>\n",
       "      <td>True</td>\n",
       "    </tr>\n",
       "    <tr>\n",
       "      <th>1</th>\n",
       "      <td>108</td>\n",
       "      <td>False</td>\n",
       "    </tr>\n",
       "    <tr>\n",
       "      <th>2</th>\n",
       "      <td>129</td>\n",
       "      <td>False</td>\n",
       "    </tr>\n",
       "    <tr>\n",
       "      <th>3</th>\n",
       "      <td>116</td>\n",
       "      <td>False</td>\n",
       "    </tr>\n",
       "    <tr>\n",
       "      <th>4</th>\n",
       "      <td>111</td>\n",
       "      <td>False</td>\n",
       "    </tr>\n",
       "  </tbody>\n",
       "</table>\n",
       "</div>"
      ],
      "text/plain": [
       "   Growth Duration  Fertilizer\n",
       "0               98        True\n",
       "1              108       False\n",
       "2              129       False\n",
       "3              116       False\n",
       "4              111       False"
      ]
     },
     "execution_count": 84,
     "metadata": {},
     "output_type": "execute_result"
    }
   ],
   "source": [
    "avocado_info.head()"
   ]
  },
  {
   "cell_type": "code",
   "execution_count": 85,
   "id": "1460c92a-3669-4de7-89df-9abf5dbb1cfb",
   "metadata": {},
   "outputs": [],
   "source": [
    "fertilized = avocado_info.loc[avocado_info[\"Fertilizer\"] == True, \"Growth Duration\"]\n",
    "not_fertilized = avocado_info.loc[avocado_info[\"Fertilizer\"] == False, \"Growth Duration\"]"
   ]
  },
  {
   "cell_type": "code",
   "execution_count": 86,
   "id": "28d01471-2960-497e-b0ec-9a05e3f6eec0",
   "metadata": {},
   "outputs": [
    {
     "data": {
      "text/plain": [
       "array([121, 101,  93, 112, 125, 163,  87,  87, 112,  97, 139,  85, 108,\n",
       "       140, 108, 163, 117, 102, 106, 116,  99, 145, 102, 143, 109,  96,\n",
       "       119, 119, 112, 127,  98,  77,  98, 101, 119, 130, 113,  97, 121,\n",
       "       121, 122, 114,  88, 108,  91, 100, 112, 112, 117, 120,  75, 129,\n",
       "       117, 102, 122, 119, 103, 114, 138,  88, 108, 134,  91, 111, 114,\n",
       "       129,  86, 116, 143, 152, 103, 100, 103, 112, 103, 122,  99, 130,\n",
       "       115, 119, 116, 105,  99,  97, 108, 127, 109,  65, 142, 119, 124,\n",
       "       101, 133, 107, 135, 108, 141, 155, 154, 123, 106, 119, 118, 114,\n",
       "       131, 114, 119, 117,  91, 109,  96, 128, 109, 129, 127, 116, 115,\n",
       "       105, 126, 127, 101, 116, 104,  97, 115, 112, 113, 115, 105, 123,\n",
       "        96,  77, 123, 110, 117, 104,  86, 142, 118, 120, 125, 112, 120,\n",
       "       116, 101,  87, 114, 137,  87, 114, 107,  91, 120, 154,  65, 102,\n",
       "       108, 117, 133, 154, 134, 116, 141,  99, 115, 138, 104, 133, 136,\n",
       "       140, 117, 110,  99, 123,  87, 135, 138, 101, 109, 128,  83, 107,\n",
       "        96, 101, 153, 114, 150, 127, 116, 120, 118, 105,  93, 126, 102,\n",
       "       160,  96, 112, 123,  93, 116, 100, 105,  97,  87, 107, 126, 113,\n",
       "        98,  91, 143,  75, 114, 128, 143, 111,  88, 127, 154,  99, 131,\n",
       "       143, 104,  97,  97, 140, 141, 138, 141, 105, 115, 144, 129,  82,\n",
       "       105, 142,  97, 126, 104, 127, 134, 154, 113, 123,  90, 119, 124,\n",
       "       121, 123, 123, 132, 154, 130, 154,  98, 126, 130,  98, 113, 120,\n",
       "       129,  87, 110,  58,  85,  85, 100, 144, 123, 129, 118, 111, 124,\n",
       "       110, 133, 115, 124, 109,  91, 133, 102, 106, 115, 103, 129, 132,\n",
       "       133, 104, 110, 122, 123, 117, 101, 123, 132, 105, 130, 105, 102,\n",
       "       126, 115, 106, 127, 150,  94, 102, 139,  99, 117, 144, 115, 130,\n",
       "       124, 104, 133, 116, 139, 107,  75, 133, 121, 133, 109,  91, 102,\n",
       "        96, 110,  97,  58, 125, 110, 132, 160,  75, 118,  77, 122, 119,\n",
       "       115, 119, 152,  81,  83,  98, 119, 138, 131, 123, 117, 156,  84,\n",
       "       109, 140, 100, 122, 104, 100, 113, 116, 115, 109, 127,  91,  98,\n",
       "       117, 103, 109, 130,  97, 112, 130,  68, 112,  91, 101, 100, 128,\n",
       "       101, 128, 104, 115,  97, 126,  96, 117, 153, 123, 145, 145, 127,\n",
       "       117, 117, 141, 115, 100, 123, 127, 111,  91, 141, 101, 102,  98,\n",
       "       133, 117, 112, 154,  96, 118, 128, 117, 105, 104, 122, 117, 113,\n",
       "       138, 127,  86, 104, 119, 109, 125, 119,  90,  91, 118, 100, 114,\n",
       "       120, 135, 126, 122, 123, 112,  99,  91, 106,  88, 104,  58, 136,\n",
       "       114,  96, 120,  99, 146, 100, 137, 120, 130, 125, 119, 117, 122,\n",
       "       123, 145, 130, 104], dtype=int64)"
      ]
     },
     "execution_count": 86,
     "metadata": {},
     "output_type": "execute_result"
    }
   ],
   "source": [
    "np.random.choice(fertilized, size = len(fertilized))"
   ]
  },
  {
   "cell_type": "code",
   "execution_count": 87,
   "id": "d44e6e35-2dbb-4ea0-b7ee-f5a842d4b343",
   "metadata": {},
   "outputs": [
    {
     "data": {
      "text/plain": [
       "array([102, 154, 121, 120, 132, 108, 122, 133, 108, 119, 125, 112, 115,\n",
       "       121, 164, 139, 119,  96, 111, 162, 118, 129, 137, 156, 149, 100,\n",
       "       113, 126, 139, 127,  95, 132, 126, 127, 139, 129, 123, 120, 140,\n",
       "       130, 144,  99,  99, 147, 147, 137, 108, 146, 136, 123, 114, 109,\n",
       "       128, 130,  89, 136, 120, 110, 105,  81, 131,  62, 147, 117, 137,\n",
       "       110, 110, 126, 143, 131, 154, 105, 126, 138, 127, 126, 130, 112,\n",
       "       121, 123, 121, 103, 111, 105, 165, 128, 138, 123, 132, 102, 118,\n",
       "       129, 136, 100, 139, 169, 149, 122, 142, 150, 138, 107, 121, 144,\n",
       "       128, 115, 112, 118, 116,  84, 138, 109, 127, 140, 129, 128, 120,\n",
       "       152, 135, 122, 134, 108, 131, 129, 125, 147, 142, 150, 110, 129,\n",
       "       108, 125, 103, 117, 128, 132, 123,  99, 125, 139, 131, 101, 110,\n",
       "       117, 112, 136, 146, 144, 125, 146, 160, 113, 129, 128, 132, 137,\n",
       "       106, 123, 136, 136, 150, 166, 112, 117, 144, 126, 110, 102, 115,\n",
       "       111, 158, 106, 118, 110, 136, 112, 128, 126, 129, 139, 118, 122,\n",
       "       117,  55, 124,  99, 129, 116, 132, 136, 130, 144, 100, 137, 136,\n",
       "       174, 112, 138,  97, 132, 120, 136, 173, 124, 139, 119,  85, 158,\n",
       "       128, 146, 140,  63, 127, 110,  63, 140, 142, 113, 123, 116, 120,\n",
       "       173, 101, 150, 138, 119, 111, 142, 100, 129,  71, 150, 117, 116,\n",
       "       115,  98, 139,  97, 135, 131, 123, 102, 133, 120, 114, 174, 122,\n",
       "       129, 111, 138,  99, 138, 126, 115, 110, 129, 132, 141, 117,  97,\n",
       "       110, 126, 112, 136, 113, 123, 135, 120, 126, 147, 102, 127, 132,\n",
       "       124,  65, 101, 111, 124, 138, 136, 133, 114, 131, 102, 133, 105,\n",
       "       129, 137, 112, 123, 119, 113, 118, 107,  93, 124, 135, 118, 116,\n",
       "       123, 140, 143, 102, 113, 132, 127, 132,  84,  62,  96, 160, 105,\n",
       "       131, 120,  93, 126,  78, 126, 157, 115, 108, 113, 101, 150, 141,\n",
       "       116, 125, 139, 141, 104, 116, 128,  97,  73, 113, 113, 128, 129,\n",
       "       122, 103, 123,  73, 143,  84, 136, 115, 110, 121, 140, 116, 141,\n",
       "       134, 110, 112, 128, 133, 145, 148, 120, 127,  93, 155, 143, 113,\n",
       "       117, 160, 140, 104, 117, 115, 124, 151, 155, 136, 110, 119, 131,\n",
       "       117, 132, 109, 127, 117, 110,  85, 152, 164, 150, 138, 126, 113,\n",
       "       130, 128,  91, 149, 117, 143, 132, 124, 125, 129, 164,  55, 109,\n",
       "       136, 128, 143, 126, 114, 117, 133, 140, 128, 109, 163, 139, 125,\n",
       "       125,  71, 124, 123, 127, 115, 128, 118, 127, 105, 109, 143, 144,\n",
       "       137, 136, 112, 145, 138, 132,  91, 126, 143, 113, 120, 136, 141,\n",
       "       139, 129, 131, 117, 114, 133, 139, 114, 156, 131, 144, 131, 126,\n",
       "       102, 120, 102,  99], dtype=int64)"
      ]
     },
     "execution_count": 87,
     "metadata": {},
     "output_type": "execute_result"
    }
   ],
   "source": [
    "np.random.choice(not_fertilized, size = len(fertilized))"
   ]
  },
  {
   "cell_type": "code",
   "execution_count": 88,
   "id": "5be964e4-a940-4e55-9a4e-aa0fd7c8e414",
   "metadata": {},
   "outputs": [],
   "source": [
    "def resample(orig_sample):\n",
    "      return np.random.choice(orig_sample, size = len(orig_sample))"
   ]
  },
  {
   "cell_type": "code",
   "execution_count": 89,
   "id": "f4fa50ca-ac9b-48e1-b4cd-86a9c697db8f",
   "metadata": {},
   "outputs": [],
   "source": [
    "def bootstrap(orig_sample, reps):\n",
    "    means = np.array([])\n",
    "    for i in range(reps):\n",
    "        new_sample = resample(orig_sample)\n",
    "        new_mean = np.mean(new_sample)\n",
    "        means = np. append(means, new_mean)\n",
    "    return means"
   ]
  },
  {
   "cell_type": "code",
   "execution_count": 90,
   "id": "2cffb7f6-caee-4277-84c5-87b2ce363b2a",
   "metadata": {},
   "outputs": [],
   "source": [
    "fertilized_means = bootstrap(fertilized, 10000)\n",
    "\n",
    "not_fertilized_means = bootstrap(not_fertilized, 10000)\n",
    "\n",
    "estimates = fertilized_means - not_fertilized_means"
   ]
  },
  {
   "cell_type": "code",
   "execution_count": 91,
   "id": "137f3401-2a3d-4f43-98a1-786e0ee0eccd",
   "metadata": {},
   "outputs": [
    {
     "data": {
      "image/png": "[encoded data removed]",
      "text/plain": [
       "<Figure size 640x480 with 1 Axes>"
      ]
     },
     "metadata": {},
     "output_type": "display_data"
    }
   ],
   "source": [
    "sns.histplot(estimates)\n",
    "plt.show()"
   ]
  },
  {
   "cell_type": "code",
   "execution_count": 92,
   "id": "ddc53f18-569c-4202-a9d2-be285a2dc84b",
   "metadata": {},
   "outputs": [
    {
     "data": {
      "text/plain": [
       "(-11.336120099943619, -7.099805673629205)"
      ]
     },
     "execution_count": 92,
     "metadata": {},
     "output_type": "execute_result"
    }
   ],
   "source": [
    "(np.percentile(estimates, 2.5), np.percentile(estimates, 97.5))"
   ]
  },
  {
   "cell_type": "code",
   "execution_count": 93,
   "id": "73e619f3-c595-41fc-9806-7f9ac7d6f5df",
   "metadata": {},
   "outputs": [],
   "source": [
    "### 9 Predicción para la ciencia de datos ###"
   ]
  },
  {
   "cell_type": "code",
   "execution_count": 94,
   "id": "b556e9df-1367-4b03-965f-63894f3e1d7f",
   "metadata": {},
   "outputs": [],
   "source": [
    "import pandas as pd\n",
    "import matplotlib.pyplot as plt\n",
    "import seaborn as sns\n",
    "from sklearn.model_selection import train_test_split\n",
    "from sklearn.neighbors import KNeighborsClassifier\n",
    "import numpy as np"
   ]
  },
  {
   "cell_type": "code",
   "execution_count": 95,
   "id": "6a7e7250-b223-40be-8149-f6d103f26540",
   "metadata": {},
   "outputs": [],
   "source": [
    "data = pd.read_csv(\"ckd.csv\")"
   ]
  },
  {
   "cell_type": "code",
   "execution_count": 96,
   "id": "83d8dd6f-e2e8-4459-8c05-8089ccf488af",
   "metadata": {},
   "outputs": [
    {
     "data": {
      "text/html": [
       "<div>\n",
       "<style scoped>\n",
       "    .dataframe tbody tr th:only-of-type {\n",
       "        vertical-align: middle;\n",
       "    }\n",
       "\n",
       "    .dataframe tbody tr th {\n",
       "        vertical-align: top;\n",
       "    }\n",
       "\n",
       "    .dataframe thead th {\n",
       "        text-align: right;\n",
       "    }\n",
       "</style>\n",
       "<table border=\"1\" class=\"dataframe\">\n",
       "  <thead>\n",
       "    <tr style=\"text-align: right;\">\n",
       "      <th></th>\n",
       "      <th>Age</th>\n",
       "      <th>Blood Pressure</th>\n",
       "      <th>Specific Gravity</th>\n",
       "      <th>Albumin</th>\n",
       "      <th>Sugar</th>\n",
       "      <th>Red Blood Cells</th>\n",
       "      <th>Pus Cell</th>\n",
       "      <th>Pus Cell clumps</th>\n",
       "      <th>Bacteria</th>\n",
       "      <th>Blood Glucose Random</th>\n",
       "      <th>...</th>\n",
       "      <th>Packed Cell Volume</th>\n",
       "      <th>White Blood Cell Count</th>\n",
       "      <th>Red Blood Cell Count</th>\n",
       "      <th>Hypertension</th>\n",
       "      <th>Diabetes Mellitus</th>\n",
       "      <th>Coronary Artery Disease</th>\n",
       "      <th>Appetite</th>\n",
       "      <th>Pedal Edema</th>\n",
       "      <th>Anemia</th>\n",
       "      <th>Class</th>\n",
       "    </tr>\n",
       "  </thead>\n",
       "  <tbody>\n",
       "    <tr>\n",
       "      <th>0</th>\n",
       "      <td>48</td>\n",
       "      <td>70</td>\n",
       "      <td>1.005</td>\n",
       "      <td>4</td>\n",
       "      <td>0</td>\n",
       "      <td>normal</td>\n",
       "      <td>abnormal</td>\n",
       "      <td>present</td>\n",
       "      <td>notpresent</td>\n",
       "      <td>117</td>\n",
       "      <td>...</td>\n",
       "      <td>32</td>\n",
       "      <td>6700</td>\n",
       "      <td>3.9</td>\n",
       "      <td>yes</td>\n",
       "      <td>no</td>\n",
       "      <td>no</td>\n",
       "      <td>poor</td>\n",
       "      <td>yes</td>\n",
       "      <td>yes</td>\n",
       "      <td>1</td>\n",
       "    </tr>\n",
       "    <tr>\n",
       "      <th>1</th>\n",
       "      <td>53</td>\n",
       "      <td>90</td>\n",
       "      <td>1.020</td>\n",
       "      <td>2</td>\n",
       "      <td>0</td>\n",
       "      <td>abnormal</td>\n",
       "      <td>abnormal</td>\n",
       "      <td>present</td>\n",
       "      <td>notpresent</td>\n",
       "      <td>70</td>\n",
       "      <td>...</td>\n",
       "      <td>29</td>\n",
       "      <td>12100</td>\n",
       "      <td>3.7</td>\n",
       "      <td>yes</td>\n",
       "      <td>yes</td>\n",
       "      <td>no</td>\n",
       "      <td>poor</td>\n",
       "      <td>no</td>\n",
       "      <td>yes</td>\n",
       "      <td>1</td>\n",
       "    </tr>\n",
       "    <tr>\n",
       "      <th>2</th>\n",
       "      <td>63</td>\n",
       "      <td>70</td>\n",
       "      <td>1.010</td>\n",
       "      <td>3</td>\n",
       "      <td>0</td>\n",
       "      <td>abnormal</td>\n",
       "      <td>abnormal</td>\n",
       "      <td>present</td>\n",
       "      <td>notpresent</td>\n",
       "      <td>380</td>\n",
       "      <td>...</td>\n",
       "      <td>32</td>\n",
       "      <td>4500</td>\n",
       "      <td>3.8</td>\n",
       "      <td>yes</td>\n",
       "      <td>yes</td>\n",
       "      <td>no</td>\n",
       "      <td>poor</td>\n",
       "      <td>yes</td>\n",
       "      <td>no</td>\n",
       "      <td>1</td>\n",
       "    </tr>\n",
       "    <tr>\n",
       "      <th>3</th>\n",
       "      <td>68</td>\n",
       "      <td>80</td>\n",
       "      <td>1.010</td>\n",
       "      <td>3</td>\n",
       "      <td>2</td>\n",
       "      <td>normal</td>\n",
       "      <td>abnormal</td>\n",
       "      <td>present</td>\n",
       "      <td>present</td>\n",
       "      <td>157</td>\n",
       "      <td>...</td>\n",
       "      <td>16</td>\n",
       "      <td>11000</td>\n",
       "      <td>2.6</td>\n",
       "      <td>yes</td>\n",
       "      <td>yes</td>\n",
       "      <td>yes</td>\n",
       "      <td>poor</td>\n",
       "      <td>yes</td>\n",
       "      <td>no</td>\n",
       "      <td>1</td>\n",
       "    </tr>\n",
       "    <tr>\n",
       "      <th>4</th>\n",
       "      <td>61</td>\n",
       "      <td>80</td>\n",
       "      <td>1.015</td>\n",
       "      <td>2</td>\n",
       "      <td>0</td>\n",
       "      <td>abnormal</td>\n",
       "      <td>abnormal</td>\n",
       "      <td>notpresent</td>\n",
       "      <td>notpresent</td>\n",
       "      <td>173</td>\n",
       "      <td>...</td>\n",
       "      <td>24</td>\n",
       "      <td>9200</td>\n",
       "      <td>3.2</td>\n",
       "      <td>yes</td>\n",
       "      <td>yes</td>\n",
       "      <td>yes</td>\n",
       "      <td>poor</td>\n",
       "      <td>yes</td>\n",
       "      <td>yes</td>\n",
       "      <td>1</td>\n",
       "    </tr>\n",
       "  </tbody>\n",
       "</table>\n",
       "<p>5 rows × 25 columns</p>\n",
       "</div>"
      ],
      "text/plain": [
       "   Age  Blood Pressure  Specific Gravity  Albumin  Sugar Red Blood Cells  \\\n",
       "0   48              70             1.005        4      0          normal   \n",
       "1   53              90             1.020        2      0        abnormal   \n",
       "2   63              70             1.010        3      0        abnormal   \n",
       "3   68              80             1.010        3      2          normal   \n",
       "4   61              80             1.015        2      0        abnormal   \n",
       "\n",
       "   Pus Cell Pus Cell clumps    Bacteria  Blood Glucose Random  ...  \\\n",
       "0  abnormal         present  notpresent                   117  ...   \n",
       "1  abnormal         present  notpresent                    70  ...   \n",
       "2  abnormal         present  notpresent                   380  ...   \n",
       "3  abnormal         present     present                   157  ...   \n",
       "4  abnormal      notpresent  notpresent                   173  ...   \n",
       "\n",
       "   Packed Cell Volume  White Blood Cell Count  Red Blood Cell Count  \\\n",
       "0                  32                    6700                   3.9   \n",
       "1                  29                   12100                   3.7   \n",
       "2                  32                    4500                   3.8   \n",
       "3                  16                   11000                   2.6   \n",
       "4                  24                    9200                   3.2   \n",
       "\n",
       "   Hypertension  Diabetes Mellitus  Coronary Artery Disease  Appetite  \\\n",
       "0           yes                 no                       no      poor   \n",
       "1           yes                yes                       no      poor   \n",
       "2           yes                yes                       no      poor   \n",
       "3           yes                yes                      yes      poor   \n",
       "4           yes                yes                      yes      poor   \n",
       "\n",
       "   Pedal Edema Anemia Class  \n",
       "0          yes    yes     1  \n",
       "1           no    yes     1  \n",
       "2          yes     no     1  \n",
       "3          yes     no     1  \n",
       "4          yes    yes     1  \n",
       "\n",
       "[5 rows x 25 columns]"
      ]
     },
     "execution_count": 96,
     "metadata": {},
     "output_type": "execute_result"
    }
   ],
   "source": [
    "data.head()"
   ]
  },
  {
   "cell_type": "code",
   "execution_count": 97,
   "id": "760c581c-d56a-4a34-974d-c5472e6127f1",
   "metadata": {},
   "outputs": [],
   "source": [
    "data = data.rename(columns={\"Blood Glucose Random\":\"Glucose\"})"
   ]
  },
  {
   "cell_type": "code",
   "execution_count": 98,
   "id": "203a2a54-6863-4834-845b-661ddb7932bc",
   "metadata": {},
   "outputs": [
    {
     "data": {
      "text/html": [
       "<div>\n",
       "<style scoped>\n",
       "    .dataframe tbody tr th:only-of-type {\n",
       "        vertical-align: middle;\n",
       "    }\n",
       "\n",
       "    .dataframe tbody tr th {\n",
       "        vertical-align: top;\n",
       "    }\n",
       "\n",
       "    .dataframe thead th {\n",
       "        text-align: right;\n",
       "    }\n",
       "</style>\n",
       "<table border=\"1\" class=\"dataframe\">\n",
       "  <thead>\n",
       "    <tr style=\"text-align: right;\">\n",
       "      <th></th>\n",
       "      <th>Age</th>\n",
       "      <th>Blood Pressure</th>\n",
       "      <th>Specific Gravity</th>\n",
       "      <th>Albumin</th>\n",
       "      <th>Sugar</th>\n",
       "      <th>Red Blood Cells</th>\n",
       "      <th>Pus Cell</th>\n",
       "      <th>Pus Cell clumps</th>\n",
       "      <th>Bacteria</th>\n",
       "      <th>Glucose</th>\n",
       "      <th>...</th>\n",
       "      <th>Packed Cell Volume</th>\n",
       "      <th>White Blood Cell Count</th>\n",
       "      <th>Red Blood Cell Count</th>\n",
       "      <th>Hypertension</th>\n",
       "      <th>Diabetes Mellitus</th>\n",
       "      <th>Coronary Artery Disease</th>\n",
       "      <th>Appetite</th>\n",
       "      <th>Pedal Edema</th>\n",
       "      <th>Anemia</th>\n",
       "      <th>Class</th>\n",
       "    </tr>\n",
       "  </thead>\n",
       "  <tbody>\n",
       "    <tr>\n",
       "      <th>0</th>\n",
       "      <td>48</td>\n",
       "      <td>70</td>\n",
       "      <td>1.005</td>\n",
       "      <td>4</td>\n",
       "      <td>0</td>\n",
       "      <td>normal</td>\n",
       "      <td>abnormal</td>\n",
       "      <td>present</td>\n",
       "      <td>notpresent</td>\n",
       "      <td>117</td>\n",
       "      <td>...</td>\n",
       "      <td>32</td>\n",
       "      <td>6700</td>\n",
       "      <td>3.9</td>\n",
       "      <td>yes</td>\n",
       "      <td>no</td>\n",
       "      <td>no</td>\n",
       "      <td>poor</td>\n",
       "      <td>yes</td>\n",
       "      <td>yes</td>\n",
       "      <td>1</td>\n",
       "    </tr>\n",
       "    <tr>\n",
       "      <th>1</th>\n",
       "      <td>53</td>\n",
       "      <td>90</td>\n",
       "      <td>1.020</td>\n",
       "      <td>2</td>\n",
       "      <td>0</td>\n",
       "      <td>abnormal</td>\n",
       "      <td>abnormal</td>\n",
       "      <td>present</td>\n",
       "      <td>notpresent</td>\n",
       "      <td>70</td>\n",
       "      <td>...</td>\n",
       "      <td>29</td>\n",
       "      <td>12100</td>\n",
       "      <td>3.7</td>\n",
       "      <td>yes</td>\n",
       "      <td>yes</td>\n",
       "      <td>no</td>\n",
       "      <td>poor</td>\n",
       "      <td>no</td>\n",
       "      <td>yes</td>\n",
       "      <td>1</td>\n",
       "    </tr>\n",
       "    <tr>\n",
       "      <th>2</th>\n",
       "      <td>63</td>\n",
       "      <td>70</td>\n",
       "      <td>1.010</td>\n",
       "      <td>3</td>\n",
       "      <td>0</td>\n",
       "      <td>abnormal</td>\n",
       "      <td>abnormal</td>\n",
       "      <td>present</td>\n",
       "      <td>notpresent</td>\n",
       "      <td>380</td>\n",
       "      <td>...</td>\n",
       "      <td>32</td>\n",
       "      <td>4500</td>\n",
       "      <td>3.8</td>\n",
       "      <td>yes</td>\n",
       "      <td>yes</td>\n",
       "      <td>no</td>\n",
       "      <td>poor</td>\n",
       "      <td>yes</td>\n",
       "      <td>no</td>\n",
       "      <td>1</td>\n",
       "    </tr>\n",
       "    <tr>\n",
       "      <th>3</th>\n",
       "      <td>68</td>\n",
       "      <td>80</td>\n",
       "      <td>1.010</td>\n",
       "      <td>3</td>\n",
       "      <td>2</td>\n",
       "      <td>normal</td>\n",
       "      <td>abnormal</td>\n",
       "      <td>present</td>\n",
       "      <td>present</td>\n",
       "      <td>157</td>\n",
       "      <td>...</td>\n",
       "      <td>16</td>\n",
       "      <td>11000</td>\n",
       "      <td>2.6</td>\n",
       "      <td>yes</td>\n",
       "      <td>yes</td>\n",
       "      <td>yes</td>\n",
       "      <td>poor</td>\n",
       "      <td>yes</td>\n",
       "      <td>no</td>\n",
       "      <td>1</td>\n",
       "    </tr>\n",
       "    <tr>\n",
       "      <th>4</th>\n",
       "      <td>61</td>\n",
       "      <td>80</td>\n",
       "      <td>1.015</td>\n",
       "      <td>2</td>\n",
       "      <td>0</td>\n",
       "      <td>abnormal</td>\n",
       "      <td>abnormal</td>\n",
       "      <td>notpresent</td>\n",
       "      <td>notpresent</td>\n",
       "      <td>173</td>\n",
       "      <td>...</td>\n",
       "      <td>24</td>\n",
       "      <td>9200</td>\n",
       "      <td>3.2</td>\n",
       "      <td>yes</td>\n",
       "      <td>yes</td>\n",
       "      <td>yes</td>\n",
       "      <td>poor</td>\n",
       "      <td>yes</td>\n",
       "      <td>yes</td>\n",
       "      <td>1</td>\n",
       "    </tr>\n",
       "  </tbody>\n",
       "</table>\n",
       "<p>5 rows × 25 columns</p>\n",
       "</div>"
      ],
      "text/plain": [
       "   Age  Blood Pressure  Specific Gravity  Albumin  Sugar Red Blood Cells  \\\n",
       "0   48              70             1.005        4      0          normal   \n",
       "1   53              90             1.020        2      0        abnormal   \n",
       "2   63              70             1.010        3      0        abnormal   \n",
       "3   68              80             1.010        3      2          normal   \n",
       "4   61              80             1.015        2      0        abnormal   \n",
       "\n",
       "   Pus Cell Pus Cell clumps    Bacteria  Glucose  ...  Packed Cell Volume  \\\n",
       "0  abnormal         present  notpresent      117  ...                  32   \n",
       "1  abnormal         present  notpresent       70  ...                  29   \n",
       "2  abnormal         present  notpresent      380  ...                  32   \n",
       "3  abnormal         present     present      157  ...                  16   \n",
       "4  abnormal      notpresent  notpresent      173  ...                  24   \n",
       "\n",
       "   White Blood Cell Count  Red Blood Cell Count  Hypertension  \\\n",
       "0                    6700                   3.9           yes   \n",
       "1                   12100                   3.7           yes   \n",
       "2                    4500                   3.8           yes   \n",
       "3                   11000                   2.6           yes   \n",
       "4                    9200                   3.2           yes   \n",
       "\n",
       "   Diabetes Mellitus  Coronary Artery Disease  Appetite  Pedal Edema Anemia  \\\n",
       "0                 no                       no      poor          yes    yes   \n",
       "1                yes                       no      poor           no    yes   \n",
       "2                yes                       no      poor          yes     no   \n",
       "3                yes                      yes      poor          yes     no   \n",
       "4                yes                      yes      poor          yes    yes   \n",
       "\n",
       "  Class  \n",
       "0     1  \n",
       "1     1  \n",
       "2     1  \n",
       "3     1  \n",
       "4     1  \n",
       "\n",
       "[5 rows x 25 columns]"
      ]
     },
     "execution_count": 98,
     "metadata": {},
     "output_type": "execute_result"
    }
   ],
   "source": [
    "data.head()"
   ]
  },
  {
   "cell_type": "code",
   "execution_count": 99,
   "id": "8935dd50-80a7-4292-89ea-6d0b8b75389c",
   "metadata": {},
   "outputs": [
    {
     "data": {
      "text/plain": [
       "(158, 25)"
      ]
     },
     "execution_count": 99,
     "metadata": {},
     "output_type": "execute_result"
    }
   ],
   "source": [
    "data.shape"
   ]
  },
  {
   "cell_type": "code",
   "execution_count": 100,
   "id": "54dfcd37-6ec3-4380-8bde-29d05c2fa852",
   "metadata": {},
   "outputs": [
    {
     "name": "stdout",
     "output_type": "stream",
     "text": [
      "<class 'pandas.core.frame.DataFrame'>\n",
      "RangeIndex: 158 entries, 0 to 157\n",
      "Data columns (total 25 columns):\n",
      " #   Column                   Non-Null Count  Dtype  \n",
      "---  ------                   --------------  -----  \n",
      " 0   Age                      158 non-null    int64  \n",
      " 1   Blood Pressure           158 non-null    int64  \n",
      " 2   Specific Gravity         158 non-null    float64\n",
      " 3   Albumin                  158 non-null    int64  \n",
      " 4   Sugar                    158 non-null    int64  \n",
      " 5   Red Blood Cells          158 non-null    object \n",
      " 6   Pus Cell                 158 non-null    object \n",
      " 7   Pus Cell clumps          158 non-null    object \n",
      " 8   Bacteria                 158 non-null    object \n",
      " 9   Glucose                  158 non-null    int64  \n",
      " 10  Blood Urea               158 non-null    int64  \n",
      " 11  Serum Creatinine         158 non-null    float64\n",
      " 12  Sodium                   158 non-null    int64  \n",
      " 13  Potassium                158 non-null    float64\n",
      " 14  Hemoglobin               158 non-null    float64\n",
      " 15  Packed Cell Volume       158 non-null    int64  \n",
      " 16  White Blood Cell Count   158 non-null    int64  \n",
      " 17  Red Blood Cell Count     158 non-null    float64\n",
      " 18  Hypertension             158 non-null    object \n",
      " 19  Diabetes Mellitus        158 non-null    object \n",
      " 20  Coronary Artery Disease  158 non-null    object \n",
      " 21  Appetite                 158 non-null    object \n",
      " 22  Pedal Edema              158 non-null    object \n",
      " 23  Anemia                   158 non-null    object \n",
      " 24  Class                    158 non-null    int64  \n",
      "dtypes: float64(5), int64(10), object(10)\n",
      "memory usage: 31.0+ KB\n"
     ]
    }
   ],
   "source": [
    "data.info()"
   ]
  },
  {
   "cell_type": "code",
   "execution_count": 101,
   "id": "10899ffa-4996-48ba-b794-c99e3fb455ed",
   "metadata": {},
   "outputs": [
    {
     "data": {
      "text/plain": [
       "Class\n",
       "0    0.727848\n",
       "1    0.272152\n",
       "Name: proportion, dtype: float64"
      ]
     },
     "execution_count": 101,
     "metadata": {},
     "output_type": "execute_result"
    }
   ],
   "source": [
    "data[\"Class\"].value_counts(normalize=True)"
   ]
  },
  {
   "cell_type": "code",
   "execution_count": 102,
   "id": "32868fae-79d6-4102-94a0-de44f30afb70",
   "metadata": {},
   "outputs": [
    {
     "data": {
      "image/png": "[encoded data removed]",
      "text/plain": [
       "<Figure size 640x480 with 1 Axes>"
      ]
     },
     "metadata": {},
     "output_type": "display_data"
    }
   ],
   "source": [
    "sns.scatterplot(x=\"Hemoglobin\", y=\"Glucose\", data=data, hue=\"Class\")\n",
    "plt.show()"
   ]
  },
  {
   "cell_type": "code",
   "execution_count": 103,
   "id": "790e34a9-a57e-435d-8f33-a77c1726049c",
   "metadata": {},
   "outputs": [
    {
     "data": {
      "image/png": "[encoded data removed]",
      "text/plain": [
       "<Figure size 640x480 with 1 Axes>"
      ]
     },
     "metadata": {},
     "output_type": "display_data"
    }
   ],
   "source": [
    "sns.scatterplot(x=\"White Blood Cell Count\", y=\"Glucose\", data=data, hue=\"Class\")\n",
    "plt.show()"
   ]
  },
  {
   "cell_type": "code",
   "execution_count": 104,
   "id": "aa3b9cc0-f31f-4593-add1-4d452b54cb41",
   "metadata": {},
   "outputs": [
    {
     "data": {
      "text/plain": [
       "0    1\n",
       "1    1\n",
       "2    1\n",
       "3    1\n",
       "4    1\n",
       "Name: Class, dtype: int64"
      ]
     },
     "execution_count": 104,
     "metadata": {},
     "output_type": "execute_result"
    }
   ],
   "source": [
    "y = data[\"Class\"]\n",
    "y.head()"
   ]
  },
  {
   "cell_type": "code",
   "execution_count": 105,
   "id": "577d9a93-f8c2-4786-b452-7711b86e70a8",
   "metadata": {},
   "outputs": [
    {
     "name": "stdout",
     "output_type": "stream",
     "text": [
      "<class 'pandas.core.frame.DataFrame'>\n",
      "RangeIndex: 158 entries, 0 to 157\n",
      "Data columns (total 24 columns):\n",
      " #   Column                   Non-Null Count  Dtype  \n",
      "---  ------                   --------------  -----  \n",
      " 0   Age                      158 non-null    int64  \n",
      " 1   Blood Pressure           158 non-null    int64  \n",
      " 2   Specific Gravity         158 non-null    float64\n",
      " 3   Albumin                  158 non-null    int64  \n",
      " 4   Sugar                    158 non-null    int64  \n",
      " 5   Red Blood Cells          158 non-null    object \n",
      " 6   Pus Cell                 158 non-null    object \n",
      " 7   Pus Cell clumps          158 non-null    object \n",
      " 8   Bacteria                 158 non-null    object \n",
      " 9   Glucose                  158 non-null    int64  \n",
      " 10  Blood Urea               158 non-null    int64  \n",
      " 11  Serum Creatinine         158 non-null    float64\n",
      " 12  Sodium                   158 non-null    int64  \n",
      " 13  Potassium                158 non-null    float64\n",
      " 14  Hemoglobin               158 non-null    float64\n",
      " 15  Packed Cell Volume       158 non-null    int64  \n",
      " 16  White Blood Cell Count   158 non-null    int64  \n",
      " 17  Red Blood Cell Count     158 non-null    float64\n",
      " 18  Hypertension             158 non-null    object \n",
      " 19  Diabetes Mellitus        158 non-null    object \n",
      " 20  Coronary Artery Disease  158 non-null    object \n",
      " 21  Appetite                 158 non-null    object \n",
      " 22  Pedal Edema              158 non-null    object \n",
      " 23  Anemia                   158 non-null    object \n",
      "dtypes: float64(5), int64(9), object(10)\n",
      "memory usage: 29.8+ KB\n"
     ]
    }
   ],
   "source": [
    "X = data.drop(columns=\"Class\")\n",
    "X.head()\n",
    "X.info()"
   ]
  },
  {
   "cell_type": "code",
   "execution_count": 106,
   "id": "ad6fe68e-1f7b-47a6-98f6-a1a41036c467",
   "metadata": {},
   "outputs": [
    {
     "data": {
      "text/html": [
       "<div>\n",
       "<style scoped>\n",
       "    .dataframe tbody tr th:only-of-type {\n",
       "        vertical-align: middle;\n",
       "    }\n",
       "\n",
       "    .dataframe tbody tr th {\n",
       "        vertical-align: top;\n",
       "    }\n",
       "\n",
       "    .dataframe thead th {\n",
       "        text-align: right;\n",
       "    }\n",
       "</style>\n",
       "<table border=\"1\" class=\"dataframe\">\n",
       "  <thead>\n",
       "    <tr style=\"text-align: right;\">\n",
       "      <th></th>\n",
       "      <th>Age</th>\n",
       "      <th>Blood Pressure</th>\n",
       "      <th>Specific Gravity</th>\n",
       "      <th>Albumin</th>\n",
       "      <th>Sugar</th>\n",
       "      <th>Glucose</th>\n",
       "      <th>Blood Urea</th>\n",
       "      <th>Serum Creatinine</th>\n",
       "      <th>Sodium</th>\n",
       "      <th>Potassium</th>\n",
       "      <th>Hemoglobin</th>\n",
       "      <th>Packed Cell Volume</th>\n",
       "      <th>White Blood Cell Count</th>\n",
       "      <th>Red Blood Cell Count</th>\n",
       "    </tr>\n",
       "  </thead>\n",
       "  <tbody>\n",
       "    <tr>\n",
       "      <th>0</th>\n",
       "      <td>48</td>\n",
       "      <td>70</td>\n",
       "      <td>1.005</td>\n",
       "      <td>4</td>\n",
       "      <td>0</td>\n",
       "      <td>117</td>\n",
       "      <td>56</td>\n",
       "      <td>3.8</td>\n",
       "      <td>111</td>\n",
       "      <td>2.5</td>\n",
       "      <td>11.2</td>\n",
       "      <td>32</td>\n",
       "      <td>6700</td>\n",
       "      <td>3.9</td>\n",
       "    </tr>\n",
       "    <tr>\n",
       "      <th>1</th>\n",
       "      <td>53</td>\n",
       "      <td>90</td>\n",
       "      <td>1.020</td>\n",
       "      <td>2</td>\n",
       "      <td>0</td>\n",
       "      <td>70</td>\n",
       "      <td>107</td>\n",
       "      <td>7.2</td>\n",
       "      <td>114</td>\n",
       "      <td>3.7</td>\n",
       "      <td>9.5</td>\n",
       "      <td>29</td>\n",
       "      <td>12100</td>\n",
       "      <td>3.7</td>\n",
       "    </tr>\n",
       "    <tr>\n",
       "      <th>2</th>\n",
       "      <td>63</td>\n",
       "      <td>70</td>\n",
       "      <td>1.010</td>\n",
       "      <td>3</td>\n",
       "      <td>0</td>\n",
       "      <td>380</td>\n",
       "      <td>60</td>\n",
       "      <td>2.7</td>\n",
       "      <td>131</td>\n",
       "      <td>4.2</td>\n",
       "      <td>10.8</td>\n",
       "      <td>32</td>\n",
       "      <td>4500</td>\n",
       "      <td>3.8</td>\n",
       "    </tr>\n",
       "    <tr>\n",
       "      <th>3</th>\n",
       "      <td>68</td>\n",
       "      <td>80</td>\n",
       "      <td>1.010</td>\n",
       "      <td>3</td>\n",
       "      <td>2</td>\n",
       "      <td>157</td>\n",
       "      <td>90</td>\n",
       "      <td>4.1</td>\n",
       "      <td>130</td>\n",
       "      <td>6.4</td>\n",
       "      <td>5.6</td>\n",
       "      <td>16</td>\n",
       "      <td>11000</td>\n",
       "      <td>2.6</td>\n",
       "    </tr>\n",
       "    <tr>\n",
       "      <th>4</th>\n",
       "      <td>61</td>\n",
       "      <td>80</td>\n",
       "      <td>1.015</td>\n",
       "      <td>2</td>\n",
       "      <td>0</td>\n",
       "      <td>173</td>\n",
       "      <td>148</td>\n",
       "      <td>3.9</td>\n",
       "      <td>135</td>\n",
       "      <td>5.2</td>\n",
       "      <td>7.7</td>\n",
       "      <td>24</td>\n",
       "      <td>9200</td>\n",
       "      <td>3.2</td>\n",
       "    </tr>\n",
       "  </tbody>\n",
       "</table>\n",
       "</div>"
      ],
      "text/plain": [
       "   Age  Blood Pressure  Specific Gravity  Albumin  Sugar  Glucose  Blood Urea  \\\n",
       "0   48              70             1.005        4      0      117          56   \n",
       "1   53              90             1.020        2      0       70         107   \n",
       "2   63              70             1.010        3      0      380          60   \n",
       "3   68              80             1.010        3      2      157          90   \n",
       "4   61              80             1.015        2      0      173         148   \n",
       "\n",
       "   Serum Creatinine  Sodium  Potassium  Hemoglobin  Packed Cell Volume  \\\n",
       "0               3.8     111        2.5        11.2                  32   \n",
       "1               7.2     114        3.7         9.5                  29   \n",
       "2               2.7     131        4.2        10.8                  32   \n",
       "3               4.1     130        6.4         5.6                  16   \n",
       "4               3.9     135        5.2         7.7                  24   \n",
       "\n",
       "   White Blood Cell Count  Red Blood Cell Count  \n",
       "0                    6700                   3.9  \n",
       "1                   12100                   3.7  \n",
       "2                    4500                   3.8  \n",
       "3                   11000                   2.6  \n",
       "4                    9200                   3.2  "
      ]
     },
     "execution_count": 106,
     "metadata": {},
     "output_type": "execute_result"
    }
   ],
   "source": [
    "X = X[[\"Age\", \"Blood Pressure\", \"Specific Gravity\", \"Albumin\", \"Sugar\", \"Glucose\", \"Blood Urea\", \"Serum Creatinine\", \"Sodium\", \"Potassium\", \"Hemoglobin\",\n",
    "      \"Packed Cell Volume\", \"White Blood Cell Count\", \"Red Blood Cell Count\"]]\n",
    "X.head()"
   ]
  },
  {
   "cell_type": "code",
   "execution_count": 107,
   "id": "56045661-e6bb-465e-9f9d-929b229866b4",
   "metadata": {},
   "outputs": [],
   "source": [
    "X_train, X_test, y_train, y_test = train_test_split(X, y, test_size = 0.25, random_state=0)"
   ]
  },
  {
   "cell_type": "code",
   "execution_count": 108,
   "id": "c8e0677e-f2d4-4452-bb8a-bc6307311062",
   "metadata": {},
   "outputs": [
    {
     "data": {
      "text/html": [
       "<div>\n",
       "<style scoped>\n",
       "    .dataframe tbody tr th:only-of-type {\n",
       "        vertical-align: middle;\n",
       "    }\n",
       "\n",
       "    .dataframe tbody tr th {\n",
       "        vertical-align: top;\n",
       "    }\n",
       "\n",
       "    .dataframe thead th {\n",
       "        text-align: right;\n",
       "    }\n",
       "</style>\n",
       "<table border=\"1\" class=\"dataframe\">\n",
       "  <thead>\n",
       "    <tr style=\"text-align: right;\">\n",
       "      <th></th>\n",
       "      <th>Age</th>\n",
       "      <th>Blood Pressure</th>\n",
       "      <th>Specific Gravity</th>\n",
       "      <th>Albumin</th>\n",
       "      <th>Sugar</th>\n",
       "      <th>Glucose</th>\n",
       "      <th>Blood Urea</th>\n",
       "      <th>Serum Creatinine</th>\n",
       "      <th>Sodium</th>\n",
       "      <th>Potassium</th>\n",
       "      <th>Hemoglobin</th>\n",
       "      <th>Packed Cell Volume</th>\n",
       "      <th>White Blood Cell Count</th>\n",
       "      <th>Red Blood Cell Count</th>\n",
       "    </tr>\n",
       "  </thead>\n",
       "  <tbody>\n",
       "    <tr>\n",
       "      <th>27</th>\n",
       "      <td>21</td>\n",
       "      <td>90</td>\n",
       "      <td>1.010</td>\n",
       "      <td>4</td>\n",
       "      <td>0</td>\n",
       "      <td>107</td>\n",
       "      <td>40</td>\n",
       "      <td>1.7</td>\n",
       "      <td>125</td>\n",
       "      <td>3.5</td>\n",
       "      <td>8.3</td>\n",
       "      <td>23</td>\n",
       "      <td>12400</td>\n",
       "      <td>3.9</td>\n",
       "    </tr>\n",
       "    <tr>\n",
       "      <th>111</th>\n",
       "      <td>43</td>\n",
       "      <td>60</td>\n",
       "      <td>1.025</td>\n",
       "      <td>0</td>\n",
       "      <td>0</td>\n",
       "      <td>108</td>\n",
       "      <td>25</td>\n",
       "      <td>1.0</td>\n",
       "      <td>144</td>\n",
       "      <td>5.0</td>\n",
       "      <td>17.8</td>\n",
       "      <td>43</td>\n",
       "      <td>7200</td>\n",
       "      <td>5.5</td>\n",
       "    </tr>\n",
       "    <tr>\n",
       "      <th>110</th>\n",
       "      <td>22</td>\n",
       "      <td>60</td>\n",
       "      <td>1.025</td>\n",
       "      <td>0</td>\n",
       "      <td>0</td>\n",
       "      <td>97</td>\n",
       "      <td>18</td>\n",
       "      <td>1.2</td>\n",
       "      <td>138</td>\n",
       "      <td>4.3</td>\n",
       "      <td>13.5</td>\n",
       "      <td>42</td>\n",
       "      <td>7900</td>\n",
       "      <td>6.4</td>\n",
       "    </tr>\n",
       "    <tr>\n",
       "      <th>85</th>\n",
       "      <td>43</td>\n",
       "      <td>80</td>\n",
       "      <td>1.025</td>\n",
       "      <td>0</td>\n",
       "      <td>0</td>\n",
       "      <td>81</td>\n",
       "      <td>46</td>\n",
       "      <td>0.6</td>\n",
       "      <td>135</td>\n",
       "      <td>4.9</td>\n",
       "      <td>13.9</td>\n",
       "      <td>48</td>\n",
       "      <td>6900</td>\n",
       "      <td>4.9</td>\n",
       "    </tr>\n",
       "    <tr>\n",
       "      <th>18</th>\n",
       "      <td>52</td>\n",
       "      <td>90</td>\n",
       "      <td>1.015</td>\n",
       "      <td>4</td>\n",
       "      <td>3</td>\n",
       "      <td>224</td>\n",
       "      <td>166</td>\n",
       "      <td>5.6</td>\n",
       "      <td>133</td>\n",
       "      <td>47.0</td>\n",
       "      <td>8.1</td>\n",
       "      <td>23</td>\n",
       "      <td>5000</td>\n",
       "      <td>2.9</td>\n",
       "    </tr>\n",
       "  </tbody>\n",
       "</table>\n",
       "</div>"
      ],
      "text/plain": [
       "     Age  Blood Pressure  Specific Gravity  Albumin  Sugar  Glucose  \\\n",
       "27    21              90             1.010        4      0      107   \n",
       "111   43              60             1.025        0      0      108   \n",
       "110   22              60             1.025        0      0       97   \n",
       "85    43              80             1.025        0      0       81   \n",
       "18    52              90             1.015        4      3      224   \n",
       "\n",
       "     Blood Urea  Serum Creatinine  Sodium  Potassium  Hemoglobin  \\\n",
       "27           40               1.7     125        3.5         8.3   \n",
       "111          25               1.0     144        5.0        17.8   \n",
       "110          18               1.2     138        4.3        13.5   \n",
       "85           46               0.6     135        4.9        13.9   \n",
       "18          166               5.6     133       47.0         8.1   \n",
       "\n",
       "     Packed Cell Volume  White Blood Cell Count  Red Blood Cell Count  \n",
       "27                   23                   12400                   3.9  \n",
       "111                  43                    7200                   5.5  \n",
       "110                  42                    7900                   6.4  \n",
       "85                   48                    6900                   4.9  \n",
       "18                   23                    5000                   2.9  "
      ]
     },
     "execution_count": 108,
     "metadata": {},
     "output_type": "execute_result"
    }
   ],
   "source": [
    "X_train.head()"
   ]
  },
  {
   "cell_type": "code",
   "execution_count": 109,
   "id": "320c6687-9082-44b0-89ff-a861a1b21627",
   "metadata": {},
   "outputs": [
    {
     "data": {
      "text/html": [
       "<div>\n",
       "<style scoped>\n",
       "    .dataframe tbody tr th:only-of-type {\n",
       "        vertical-align: middle;\n",
       "    }\n",
       "\n",
       "    .dataframe tbody tr th {\n",
       "        vertical-align: top;\n",
       "    }\n",
       "\n",
       "    .dataframe thead th {\n",
       "        text-align: right;\n",
       "    }\n",
       "</style>\n",
       "<table border=\"1\" class=\"dataframe\">\n",
       "  <thead>\n",
       "    <tr style=\"text-align: right;\">\n",
       "      <th></th>\n",
       "      <th>Age</th>\n",
       "      <th>Blood Pressure</th>\n",
       "      <th>Specific Gravity</th>\n",
       "      <th>Albumin</th>\n",
       "      <th>Sugar</th>\n",
       "      <th>Glucose</th>\n",
       "      <th>Blood Urea</th>\n",
       "      <th>Serum Creatinine</th>\n",
       "      <th>Sodium</th>\n",
       "      <th>Potassium</th>\n",
       "      <th>Hemoglobin</th>\n",
       "      <th>Packed Cell Volume</th>\n",
       "      <th>White Blood Cell Count</th>\n",
       "      <th>Red Blood Cell Count</th>\n",
       "    </tr>\n",
       "  </thead>\n",
       "  <tbody>\n",
       "    <tr>\n",
       "      <th>7</th>\n",
       "      <td>73</td>\n",
       "      <td>70</td>\n",
       "      <td>1.005</td>\n",
       "      <td>0</td>\n",
       "      <td>0</td>\n",
       "      <td>70</td>\n",
       "      <td>32</td>\n",
       "      <td>0.9</td>\n",
       "      <td>125</td>\n",
       "      <td>4.0</td>\n",
       "      <td>10.0</td>\n",
       "      <td>29</td>\n",
       "      <td>18900</td>\n",
       "      <td>3.5</td>\n",
       "    </tr>\n",
       "    <tr>\n",
       "      <th>44</th>\n",
       "      <td>23</td>\n",
       "      <td>80</td>\n",
       "      <td>1.025</td>\n",
       "      <td>0</td>\n",
       "      <td>0</td>\n",
       "      <td>70</td>\n",
       "      <td>36</td>\n",
       "      <td>1.0</td>\n",
       "      <td>150</td>\n",
       "      <td>4.6</td>\n",
       "      <td>17.0</td>\n",
       "      <td>52</td>\n",
       "      <td>9800</td>\n",
       "      <td>5.0</td>\n",
       "    </tr>\n",
       "    <tr>\n",
       "      <th>113</th>\n",
       "      <td>29</td>\n",
       "      <td>80</td>\n",
       "      <td>1.020</td>\n",
       "      <td>0</td>\n",
       "      <td>0</td>\n",
       "      <td>83</td>\n",
       "      <td>49</td>\n",
       "      <td>0.9</td>\n",
       "      <td>139</td>\n",
       "      <td>3.3</td>\n",
       "      <td>17.5</td>\n",
       "      <td>40</td>\n",
       "      <td>9900</td>\n",
       "      <td>4.7</td>\n",
       "    </tr>\n",
       "    <tr>\n",
       "      <th>120</th>\n",
       "      <td>47</td>\n",
       "      <td>60</td>\n",
       "      <td>1.020</td>\n",
       "      <td>0</td>\n",
       "      <td>0</td>\n",
       "      <td>117</td>\n",
       "      <td>22</td>\n",
       "      <td>1.2</td>\n",
       "      <td>138</td>\n",
       "      <td>3.5</td>\n",
       "      <td>13.0</td>\n",
       "      <td>45</td>\n",
       "      <td>5200</td>\n",
       "      <td>5.6</td>\n",
       "    </tr>\n",
       "    <tr>\n",
       "      <th>63</th>\n",
       "      <td>30</td>\n",
       "      <td>80</td>\n",
       "      <td>1.025</td>\n",
       "      <td>0</td>\n",
       "      <td>0</td>\n",
       "      <td>96</td>\n",
       "      <td>25</td>\n",
       "      <td>0.5</td>\n",
       "      <td>144</td>\n",
       "      <td>4.8</td>\n",
       "      <td>13.8</td>\n",
       "      <td>42</td>\n",
       "      <td>9000</td>\n",
       "      <td>4.5</td>\n",
       "    </tr>\n",
       "  </tbody>\n",
       "</table>\n",
       "</div>"
      ],
      "text/plain": [
       "     Age  Blood Pressure  Specific Gravity  Albumin  Sugar  Glucose  \\\n",
       "7     73              70             1.005        0      0       70   \n",
       "44    23              80             1.025        0      0       70   \n",
       "113   29              80             1.020        0      0       83   \n",
       "120   47              60             1.020        0      0      117   \n",
       "63    30              80             1.025        0      0       96   \n",
       "\n",
       "     Blood Urea  Serum Creatinine  Sodium  Potassium  Hemoglobin  \\\n",
       "7            32               0.9     125        4.0        10.0   \n",
       "44           36               1.0     150        4.6        17.0   \n",
       "113          49               0.9     139        3.3        17.5   \n",
       "120          22               1.2     138        3.5        13.0   \n",
       "63           25               0.5     144        4.8        13.8   \n",
       "\n",
       "     Packed Cell Volume  White Blood Cell Count  Red Blood Cell Count  \n",
       "7                    29                   18900                   3.5  \n",
       "44                   52                    9800                   5.0  \n",
       "113                  40                    9900                   4.7  \n",
       "120                  45                    5200                   5.6  \n",
       "63                   42                    9000                   4.5  "
      ]
     },
     "execution_count": 109,
     "metadata": {},
     "output_type": "execute_result"
    }
   ],
   "source": [
    "X_test.head()"
   ]
  },
  {
   "cell_type": "code",
   "execution_count": 110,
   "id": "14e7d31e-9ca7-438a-b572-bbed7afd808c",
   "metadata": {},
   "outputs": [
    {
     "data": {
      "text/plain": [
       "27     1\n",
       "111    0\n",
       "110    0\n",
       "85     0\n",
       "18     1\n",
       "Name: Class, dtype: int64"
      ]
     },
     "execution_count": 110,
     "metadata": {},
     "output_type": "execute_result"
    }
   ],
   "source": [
    "y_train.head()"
   ]
  },
  {
   "cell_type": "code",
   "execution_count": 111,
   "id": "c8ee56d5-463f-4326-84ad-eba67a008555",
   "metadata": {},
   "outputs": [
    {
     "data": {
      "text/plain": [
       "7      1\n",
       "44     0\n",
       "113    0\n",
       "120    0\n",
       "63     0\n",
       "Name: Class, dtype: int64"
      ]
     },
     "execution_count": 111,
     "metadata": {},
     "output_type": "execute_result"
    }
   ],
   "source": [
    "y_test.head()"
   ]
  },
  {
   "cell_type": "code",
   "execution_count": 112,
   "id": "aabe1e59-96c3-4afb-bdb6-2d7217d72c70",
   "metadata": {},
   "outputs": [
    {
     "data": {
      "text/plain": [
       "((118, 14), (40, 14), (118,), (40,))"
      ]
     },
     "execution_count": 112,
     "metadata": {},
     "output_type": "execute_result"
    }
   ],
   "source": [
    "X_train.shape, X_test.shape, y_train.shape, y_test.shape"
   ]
  },
  {
   "cell_type": "code",
   "execution_count": 113,
   "id": "09b03162-ed8f-46e2-84be-23d1898a39db",
   "metadata": {},
   "outputs": [],
   "source": [
    "knn = KNeighborsClassifier(n_neighbors=3)"
   ]
  },
  {
   "cell_type": "code",
   "execution_count": 114,
   "id": "f444fcad-eae8-4670-ab3c-f4a0ac3ad21c",
   "metadata": {},
   "outputs": [
    {
     "data": {
      "text/html": [
       "<style>#sk-container-id-1 {\n",
       "  /* Definition of color scheme common for light and dark mode */\n",
       "  --sklearn-color-text: black;\n",
       "  --sklearn-color-line: gray;\n",
       "  /* Definition of color scheme for unfitted estimators */\n",
       "  --sklearn-color-unfitted-level-0: #fff5e6;\n",
       "  --sklearn-color-unfitted-level-1: #f6e4d2;\n",
       "  --sklearn-color-unfitted-level-2: #ffe0b3;\n",
       "  --sklearn-color-unfitted-level-3: chocolate;\n",
       "  /* Definition of color scheme for fitted estimators */\n",
       "  --sklearn-color-fitted-level-0: #f0f8ff;\n",
       "  --sklearn-color-fitted-level-1: #d4ebff;\n",
       "  --sklearn-color-fitted-level-2: #b3dbfd;\n",
       "  --sklearn-color-fitted-level-3: cornflowerblue;\n",
       "\n",
       "  /* Specific color for light theme */\n",
       "  --sklearn-color-text-on-default-background: var(--sg-text-color, var(--theme-code-foreground, var(--jp-content-font-color1, black)));\n",
       "  --sklearn-color-background: var(--sg-background-color, var(--theme-background, var(--jp-layout-color0, white)));\n",
       "  --sklearn-color-border-box: var(--sg-text-color, var(--theme-code-foreground, var(--jp-content-font-color1, black)));\n",
       "  --sklearn-color-icon: #696969;\n",
       "\n",
       "  @media (prefers-color-scheme: dark) {\n",
       "    /* Redefinition of color scheme for dark theme */\n",
       "    --sklearn-color-text-on-default-background: var(--sg-text-color, var(--theme-code-foreground, var(--jp-content-font-color1, white)));\n",
       "    --sklearn-color-background: var(--sg-background-color, var(--theme-background, var(--jp-layout-color0, #111)));\n",
       "    --sklearn-color-border-box: var(--sg-text-color, var(--theme-code-foreground, var(--jp-content-font-color1, white)));\n",
       "    --sklearn-color-icon: #878787;\n",
       "  }\n",
       "}\n",
       "\n",
       "#sk-container-id-1 {\n",
       "  color: var(--sklearn-color-text);\n",
       "}\n",
       "\n",
       "#sk-container-id-1 pre {\n",
       "  padding: 0;\n",
       "}\n",
       "\n",
       "#sk-container-id-1 input.sk-hidden--visually {\n",
       "  border: 0;\n",
       "  clip: rect(1px 1px 1px 1px);\n",
       "  clip: rect(1px, 1px, 1px, 1px);\n",
       "  height: 1px;\n",
       "  margin: -1px;\n",
       "  overflow: hidden;\n",
       "  padding: 0;\n",
       "  position: absolute;\n",
       "  width: 1px;\n",
       "}\n",
       "\n",
       "#sk-container-id-1 div.sk-dashed-wrapped {\n",
       "  border: 1px dashed var(--sklearn-color-line);\n",
       "  margin: 0 0.4em 0.5em 0.4em;\n",
       "  box-sizing: border-box;\n",
       "  padding-bottom: 0.4em;\n",
       "  background-color: var(--sklearn-color-background);\n",
       "}\n",
       "\n",
       "#sk-container-id-1 div.sk-container {\n",
       "  /* jupyter's `normalize.less` sets `[hidden] { display: none; }`\n",
       "     but bootstrap.min.css set `[hidden] { display: none !important; }`\n",
       "     so we also need the `!important` here to be able to override the\n",
       "     default hidden behavior on the sphinx rendered scikit-learn.org.\n",
       "     See: https://github.com/scikit-learn/scikit-learn/issues/21755 */\n",
       "  display: inline-block !important;\n",
       "  position: relative;\n",
       "}\n",
       "\n",
       "#sk-container-id-1 div.sk-text-repr-fallback {\n",
       "  display: none;\n",
       "}\n",
       "\n",
       "div.sk-parallel-item,\n",
       "div.sk-serial,\n",
       "div.sk-item {\n",
       "  /* draw centered vertical line to link estimators */\n",
       "  background-image: linear-gradient(var(--sklearn-color-text-on-default-background), var(--sklearn-color-text-on-default-background));\n",
       "  background-size: 2px 100%;\n",
       "  background-repeat: no-repeat;\n",
       "  background-position: center center;\n",
       "}\n",
       "\n",
       "/* Parallel-specific style estimator block */\n",
       "\n",
       "#sk-container-id-1 div.sk-parallel-item::after {\n",
       "  content: \"\";\n",
       "  width: 100%;\n",
       "  border-bottom: 2px solid var(--sklearn-color-text-on-default-background);\n",
       "  flex-grow: 1;\n",
       "}\n",
       "\n",
       "#sk-container-id-1 div.sk-parallel {\n",
       "  display: flex;\n",
       "  align-items: stretch;\n",
       "  justify-content: center;\n",
       "  background-color: var(--sklearn-color-background);\n",
       "  position: relative;\n",
       "}\n",
       "\n",
       "#sk-container-id-1 div.sk-parallel-item {\n",
       "  display: flex;\n",
       "  flex-direction: column;\n",
       "}\n",
       "\n",
       "#sk-container-id-1 div.sk-parallel-item:first-child::after {\n",
       "  align-self: flex-end;\n",
       "  width: 50%;\n",
       "}\n",
       "\n",
       "#sk-container-id-1 div.sk-parallel-item:last-child::after {\n",
       "  align-self: flex-start;\n",
       "  width: 50%;\n",
       "}\n",
       "\n",
       "#sk-container-id-1 div.sk-parallel-item:only-child::after {\n",
       "  width: 0;\n",
       "}\n",
       "\n",
       "/* Serial-specific style estimator block */\n",
       "\n",
       "#sk-container-id-1 div.sk-serial {\n",
       "  display: flex;\n",
       "  flex-direction: column;\n",
       "  align-items: center;\n",
       "  background-color: var(--sklearn-color-background);\n",
       "  padding-right: 1em;\n",
       "  padding-left: 1em;\n",
       "}\n",
       "\n",
       "\n",
       "/* Toggleable style: style used for estimator/Pipeline/ColumnTransformer box that is\n",
       "clickable and can be expanded/collapsed.\n",
       "- Pipeline and ColumnTransformer use this feature and define the default style\n",
       "- Estimators will overwrite some part of the style using the `sk-estimator` class\n",
       "*/\n",
       "\n",
       "/* Pipeline and ColumnTransformer style (default) */\n",
       "\n",
       "#sk-container-id-1 div.sk-toggleable {\n",
       "  /* Default theme specific background. It is overwritten whether we have a\n",
       "  specific estimator or a Pipeline/ColumnTransformer */\n",
       "  background-color: var(--sklearn-color-background);\n",
       "}\n",
       "\n",
       "/* Toggleable label */\n",
       "#sk-container-id-1 label.sk-toggleable__label {\n",
       "  cursor: pointer;\n",
       "  display: block;\n",
       "  width: 100%;\n",
       "  margin-bottom: 0;\n",
       "  padding: 0.5em;\n",
       "  box-sizing: border-box;\n",
       "  text-align: center;\n",
       "}\n",
       "\n",
       "#sk-container-id-1 label.sk-toggleable__label-arrow:before {\n",
       "  /* Arrow on the left of the label */\n",
       "  content: \"▸\";\n",
       "  float: left;\n",
       "  margin-right: 0.25em;\n",
       "  color: var(--sklearn-color-icon);\n",
       "}\n",
       "\n",
       "#sk-container-id-1 label.sk-toggleable__label-arrow:hover:before {\n",
       "  color: var(--sklearn-color-text);\n",
       "}\n",
       "\n",
       "/* Toggleable content - dropdown */\n",
       "\n",
       "#sk-container-id-1 div.sk-toggleable__content {\n",
       "  max-height: 0;\n",
       "  max-width: 0;\n",
       "  overflow: hidden;\n",
       "  text-align: left;\n",
       "  /* unfitted */\n",
       "  background-color: var(--sklearn-color-unfitted-level-0);\n",
       "}\n",
       "\n",
       "#sk-container-id-1 div.sk-toggleable__content.fitted {\n",
       "  /* fitted */\n",
       "  background-color: var(--sklearn-color-fitted-level-0);\n",
       "}\n",
       "\n",
       "#sk-container-id-1 div.sk-toggleable__content pre {\n",
       "  margin: 0.2em;\n",
       "  border-radius: 0.25em;\n",
       "  color: var(--sklearn-color-text);\n",
       "  /* unfitted */\n",
       "  background-color: var(--sklearn-color-unfitted-level-0);\n",
       "}\n",
       "\n",
       "#sk-container-id-1 div.sk-toggleable__content.fitted pre {\n",
       "  /* unfitted */\n",
       "  background-color: var(--sklearn-color-fitted-level-0);\n",
       "}\n",
       "\n",
       "#sk-container-id-1 input.sk-toggleable__control:checked~div.sk-toggleable__content {\n",
       "  /* Expand drop-down */\n",
       "  max-height: 200px;\n",
       "  max-width: 100%;\n",
       "  overflow: auto;\n",
       "}\n",
       "\n",
       "#sk-container-id-1 input.sk-toggleable__control:checked~label.sk-toggleable__label-arrow:before {\n",
       "  content: \"▾\";\n",
       "}\n",
       "\n",
       "/* Pipeline/ColumnTransformer-specific style */\n",
       "\n",
       "#sk-container-id-1 div.sk-label input.sk-toggleable__control:checked~label.sk-toggleable__label {\n",
       "  color: var(--sklearn-color-text);\n",
       "  background-color: var(--sklearn-color-unfitted-level-2);\n",
       "}\n",
       "\n",
       "#sk-container-id-1 div.sk-label.fitted input.sk-toggleable__control:checked~label.sk-toggleable__label {\n",
       "  background-color: var(--sklearn-color-fitted-level-2);\n",
       "}\n",
       "\n",
       "/* Estimator-specific style */\n",
       "\n",
       "/* Colorize estimator box */\n",
       "#sk-container-id-1 div.sk-estimator input.sk-toggleable__control:checked~label.sk-toggleable__label {\n",
       "  /* unfitted */\n",
       "  background-color: var(--sklearn-color-unfitted-level-2);\n",
       "}\n",
       "\n",
       "#sk-container-id-1 div.sk-estimator.fitted input.sk-toggleable__control:checked~label.sk-toggleable__label {\n",
       "  /* fitted */\n",
       "  background-color: var(--sklearn-color-fitted-level-2);\n",
       "}\n",
       "\n",
       "#sk-container-id-1 div.sk-label label.sk-toggleable__label,\n",
       "#sk-container-id-1 div.sk-label label {\n",
       "  /* The background is the default theme color */\n",
       "  color: var(--sklearn-color-text-on-default-background);\n",
       "}\n",
       "\n",
       "/* On hover, darken the color of the background */\n",
       "#sk-container-id-1 div.sk-label:hover label.sk-toggleable__label {\n",
       "  color: var(--sklearn-color-text);\n",
       "  background-color: var(--sklearn-color-unfitted-level-2);\n",
       "}\n",
       "\n",
       "/* Label box, darken color on hover, fitted */\n",
       "#sk-container-id-1 div.sk-label.fitted:hover label.sk-toggleable__label.fitted {\n",
       "  color: var(--sklearn-color-text);\n",
       "  background-color: var(--sklearn-color-fitted-level-2);\n",
       "}\n",
       "\n",
       "/* Estimator label */\n",
       "\n",
       "#sk-container-id-1 div.sk-label label {\n",
       "  font-family: monospace;\n",
       "  font-weight: bold;\n",
       "  display: inline-block;\n",
       "  line-height: 1.2em;\n",
       "}\n",
       "\n",
       "#sk-container-id-1 div.sk-label-container {\n",
       "  text-align: center;\n",
       "}\n",
       "\n",
       "/* Estimator-specific */\n",
       "#sk-container-id-1 div.sk-estimator {\n",
       "  font-family: monospace;\n",
       "  border: 1px dotted var(--sklearn-color-border-box);\n",
       "  border-radius: 0.25em;\n",
       "  box-sizing: border-box;\n",
       "  margin-bottom: 0.5em;\n",
       "  /* unfitted */\n",
       "  background-color: var(--sklearn-color-unfitted-level-0);\n",
       "}\n",
       "\n",
       "#sk-container-id-1 div.sk-estimator.fitted {\n",
       "  /* fitted */\n",
       "  background-color: var(--sklearn-color-fitted-level-0);\n",
       "}\n",
       "\n",
       "/* on hover */\n",
       "#sk-container-id-1 div.sk-estimator:hover {\n",
       "  /* unfitted */\n",
       "  background-color: var(--sklearn-color-unfitted-level-2);\n",
       "}\n",
       "\n",
       "#sk-container-id-1 div.sk-estimator.fitted:hover {\n",
       "  /* fitted */\n",
       "  background-color: var(--sklearn-color-fitted-level-2);\n",
       "}\n",
       "\n",
       "/* Specification for estimator info (e.g. \"i\" and \"?\") */\n",
       "\n",
       "/* Common style for \"i\" and \"?\" */\n",
       "\n",
       ".sk-estimator-doc-link,\n",
       "a:link.sk-estimator-doc-link,\n",
       "a:visited.sk-estimator-doc-link {\n",
       "  float: right;\n",
       "  font-size: smaller;\n",
       "  line-height: 1em;\n",
       "  font-family: monospace;\n",
       "  background-color: var(--sklearn-color-background);\n",
       "  border-radius: 1em;\n",
       "  height: 1em;\n",
       "  width: 1em;\n",
       "  text-decoration: none !important;\n",
       "  margin-left: 1ex;\n",
       "  /* unfitted */\n",
       "  border: var(--sklearn-color-unfitted-level-1) 1pt solid;\n",
       "  color: var(--sklearn-color-unfitted-level-1);\n",
       "}\n",
       "\n",
       ".sk-estimator-doc-link.fitted,\n",
       "a:link.sk-estimator-doc-link.fitted,\n",
       "a:visited.sk-estimator-doc-link.fitted {\n",
       "  /* fitted */\n",
       "  border: var(--sklearn-color-fitted-level-1) 1pt solid;\n",
       "  color: var(--sklearn-color-fitted-level-1);\n",
       "}\n",
       "\n",
       "/* On hover */\n",
       "div.sk-estimator:hover .sk-estimator-doc-link:hover,\n",
       ".sk-estimator-doc-link:hover,\n",
       "div.sk-label-container:hover .sk-estimator-doc-link:hover,\n",
       ".sk-estimator-doc-link:hover {\n",
       "  /* unfitted */\n",
       "  background-color: var(--sklearn-color-unfitted-level-3);\n",
       "  color: var(--sklearn-color-background);\n",
       "  text-decoration: none;\n",
       "}\n",
       "\n",
       "div.sk-estimator.fitted:hover .sk-estimator-doc-link.fitted:hover,\n",
       ".sk-estimator-doc-link.fitted:hover,\n",
       "div.sk-label-container:hover .sk-estimator-doc-link.fitted:hover,\n",
       ".sk-estimator-doc-link.fitted:hover {\n",
       "  /* fitted */\n",
       "  background-color: var(--sklearn-color-fitted-level-3);\n",
       "  color: var(--sklearn-color-background);\n",
       "  text-decoration: none;\n",
       "}\n",
       "\n",
       "/* Span, style for the box shown on hovering the info icon */\n",
       ".sk-estimator-doc-link span {\n",
       "  display: none;\n",
       "  z-index: 9999;\n",
       "  position: relative;\n",
       "  font-weight: normal;\n",
       "  right: .2ex;\n",
       "  padding: .5ex;\n",
       "  margin: .5ex;\n",
       "  width: min-content;\n",
       "  min-width: 20ex;\n",
       "  max-width: 50ex;\n",
       "  color: var(--sklearn-color-text);\n",
       "  box-shadow: 2pt 2pt 4pt #999;\n",
       "  /* unfitted */\n",
       "  background: var(--sklearn-color-unfitted-level-0);\n",
       "  border: .5pt solid var(--sklearn-color-unfitted-level-3);\n",
       "}\n",
       "\n",
       ".sk-estimator-doc-link.fitted span {\n",
       "  /* fitted */\n",
       "  background: var(--sklearn-color-fitted-level-0);\n",
       "  border: var(--sklearn-color-fitted-level-3);\n",
       "}\n",
       "\n",
       ".sk-estimator-doc-link:hover span {\n",
       "  display: block;\n",
       "}\n",
       "\n",
       "/* \"?\"-specific style due to the `<a>` HTML tag */\n",
       "\n",
       "#sk-container-id-1 a.estimator_doc_link {\n",
       "  float: right;\n",
       "  font-size: 1rem;\n",
       "  line-height: 1em;\n",
       "  font-family: monospace;\n",
       "  background-color: var(--sklearn-color-background);\n",
       "  border-radius: 1rem;\n",
       "  height: 1rem;\n",
       "  width: 1rem;\n",
       "  text-decoration: none;\n",
       "  /* unfitted */\n",
       "  color: var(--sklearn-color-unfitted-level-1);\n",
       "  border: var(--sklearn-color-unfitted-level-1) 1pt solid;\n",
       "}\n",
       "\n",
       "#sk-container-id-1 a.estimator_doc_link.fitted {\n",
       "  /* fitted */\n",
       "  border: var(--sklearn-color-fitted-level-1) 1pt solid;\n",
       "  color: var(--sklearn-color-fitted-level-1);\n",
       "}\n",
       "\n",
       "/* On hover */\n",
       "#sk-container-id-1 a.estimator_doc_link:hover {\n",
       "  /* unfitted */\n",
       "  background-color: var(--sklearn-color-unfitted-level-3);\n",
       "  color: var(--sklearn-color-background);\n",
       "  text-decoration: none;\n",
       "}\n",
       "\n",
       "#sk-container-id-1 a.estimator_doc_link.fitted:hover {\n",
       "  /* fitted */\n",
       "  background-color: var(--sklearn-color-fitted-level-3);\n",
       "}\n",
       "</style><div id=\"sk-container-id-1\" class=\"sk-top-container\"><div class=\"sk-text-repr-fallback\"><pre>KNeighborsClassifier(n_neighbors=3)</pre><b>In a Jupyter environment, please rerun this cell to show the HTML representation or trust the notebook. <br />On GitHub, the HTML representation is unable to render, please try loading this page with nbviewer.org.</b></div><div class=\"sk-container\" hidden><div class=\"sk-item\"><div class=\"sk-estimator fitted sk-toggleable\"><input class=\"sk-toggleable__control sk-hidden--visually\" id=\"sk-estimator-id-1\" type=\"checkbox\" checked><label for=\"sk-estimator-id-1\" class=\"sk-toggleable__label fitted sk-toggleable__label-arrow fitted\">&nbsp;&nbsp;KNeighborsClassifier<a class=\"sk-estimator-doc-link fitted\" rel=\"noreferrer\" target=\"_blank\" href=\"https://scikit-learn.org/1.5/modules/generated/sklearn.neighbors.KNeighborsClassifier.html\">?<span>Documentation for KNeighborsClassifier</span></a><span class=\"sk-estimator-doc-link fitted\">i<span>Fitted</span></span></label><div class=\"sk-toggleable__content fitted\"><pre>KNeighborsClassifier(n_neighbors=3)</pre></div> </div></div></div></div>"
      ],
      "text/plain": [
       "KNeighborsClassifier(n_neighbors=3)"
      ]
     },
     "execution_count": 114,
     "metadata": {},
     "output_type": "execute_result"
    }
   ],
   "source": [
    "knn.fit(X_train, y_train)"
   ]
  },
  {
   "cell_type": "code",
   "execution_count": 115,
   "id": "b7dfd0cc-d866-4303-a167-46efeb37a0a7",
   "metadata": {},
   "outputs": [],
   "source": [
    "preds_train = knn.predict(X_train)"
   ]
  },
  {
   "cell_type": "code",
   "execution_count": 116,
   "id": "aff1c5c1-a8cf-45ed-ae9f-4f525e7956ea",
   "metadata": {},
   "outputs": [
    {
     "data": {
      "text/plain": [
       "0.864406779661017"
      ]
     },
     "execution_count": 116,
     "metadata": {},
     "output_type": "execute_result"
    }
   ],
   "source": [
    "knn.score(X_train, y_train)"
   ]
  },
  {
   "cell_type": "code",
   "execution_count": 117,
   "id": "ca8091eb-783a-4747-873e-9c685e16e28c",
   "metadata": {},
   "outputs": [],
   "source": [
    "preds_test = knn.predict(X_test)"
   ]
  },
  {
   "cell_type": "code",
   "execution_count": 118,
   "id": "4f9c0de5-dc34-40af-8155-46c0ca28cd27",
   "metadata": {},
   "outputs": [
    {
     "data": {
      "text/plain": [
       "array([1, 0, 0, 0, 0, 0, 0, 0, 0, 0, 0, 0, 1, 0, 0, 0, 0, 0, 0, 1, 0, 1,\n",
       "       0, 0, 0, 0, 0, 1, 0, 0, 0, 0, 0, 0, 0, 1, 0, 0, 0, 0], dtype=int64)"
      ]
     },
     "execution_count": 118,
     "metadata": {},
     "output_type": "execute_result"
    }
   ],
   "source": [
    "preds_test"
   ]
  },
  {
   "cell_type": "code",
   "execution_count": 119,
   "id": "02a17a4e-3356-4b10-8ff7-297fe0ce75aa",
   "metadata": {},
   "outputs": [
    {
     "data": {
      "text/plain": [
       "7      1\n",
       "44     0\n",
       "113    0\n",
       "120    0\n",
       "63     0\n",
       "122    0\n",
       "121    0\n",
       "139    0\n",
       "109    0\n",
       "92     0\n",
       "24     1\n",
       "141    0\n",
       "26     1\n",
       "60     0\n",
       "80     0\n",
       "97     0\n",
       "129    0\n",
       "98     0\n",
       "142    0\n",
       "56     0\n",
       "45     0\n",
       "33     1\n",
       "59     0\n",
       "8      1\n",
       "40     1\n",
       "37     1\n",
       "101    0\n",
       "19     1\n",
       "144    0\n",
       "108    0\n",
       "51     0\n",
       "54     0\n",
       "16     1\n",
       "130    0\n",
       "134    0\n",
       "22     1\n",
       "93     0\n",
       "66     0\n",
       "112    0\n",
       "94     0\n",
       "Name: Class, dtype: int64"
      ]
     },
     "execution_count": 119,
     "metadata": {},
     "output_type": "execute_result"
    }
   ],
   "source": [
    "y_test"
   ]
  },
  {
   "cell_type": "code",
   "execution_count": 120,
   "id": "9b4e9a5f-d4e7-4e4e-a3dc-79ca6f685be1",
   "metadata": {},
   "outputs": [
    {
     "data": {
      "text/plain": [
       "0.85"
      ]
     },
     "execution_count": 120,
     "metadata": {},
     "output_type": "execute_result"
    }
   ],
   "source": [
    "knn.score(X_test, y_test)"
   ]
  },
  {
   "cell_type": "code",
   "execution_count": 121,
   "id": "1920571d-9b92-47d1-84cd-83245f932d34",
   "metadata": {},
   "outputs": [],
   "source": [
    "### :S"
   ]
  },
  {
   "cell_type": "code",
   "execution_count": 122,
   "id": "f8a03957-cf0a-4b4c-a30a-0d49d666ef81",
   "metadata": {},
   "outputs": [],
   "source": [
    "import pandas as pd\n",
    "import matplotlib.pyplot as plt\n",
    "import seaborn as sns\n",
    "from statsmodels.formula.api import ols\n",
    "import statsmodels.api as sm"
   ]
  },
  {
   "cell_type": "code",
   "execution_count": 123,
   "id": "124a343e-fdfe-441b-a28f-637401b82003",
   "metadata": {},
   "outputs": [
    {
     "data": {
      "text/html": [
       "<div>\n",
       "<style scoped>\n",
       "    .dataframe tbody tr th:only-of-type {\n",
       "        vertical-align: middle;\n",
       "    }\n",
       "\n",
       "    .dataframe tbody tr th {\n",
       "        vertical-align: top;\n",
       "    }\n",
       "\n",
       "    .dataframe thead th {\n",
       "        text-align: right;\n",
       "    }\n",
       "</style>\n",
       "<table border=\"1\" class=\"dataframe\">\n",
       "  <thead>\n",
       "    <tr style=\"text-align: right;\">\n",
       "      <th></th>\n",
       "      <th>TV</th>\n",
       "      <th>Radio</th>\n",
       "      <th>Social Media</th>\n",
       "      <th>Influencer</th>\n",
       "      <th>Sales</th>\n",
       "    </tr>\n",
       "  </thead>\n",
       "  <tbody>\n",
       "    <tr>\n",
       "      <th>0</th>\n",
       "      <td>Low</td>\n",
       "      <td>3.518070</td>\n",
       "      <td>2.293790</td>\n",
       "      <td>Micro</td>\n",
       "      <td>55.261284</td>\n",
       "    </tr>\n",
       "    <tr>\n",
       "      <th>1</th>\n",
       "      <td>Low</td>\n",
       "      <td>7.756876</td>\n",
       "      <td>2.572287</td>\n",
       "      <td>Mega</td>\n",
       "      <td>67.574904</td>\n",
       "    </tr>\n",
       "    <tr>\n",
       "      <th>2</th>\n",
       "      <td>High</td>\n",
       "      <td>20.348988</td>\n",
       "      <td>1.227180</td>\n",
       "      <td>Micro</td>\n",
       "      <td>272.250108</td>\n",
       "    </tr>\n",
       "    <tr>\n",
       "      <th>3</th>\n",
       "      <td>Medium</td>\n",
       "      <td>20.108487</td>\n",
       "      <td>2.728374</td>\n",
       "      <td>Mega</td>\n",
       "      <td>195.102176</td>\n",
       "    </tr>\n",
       "    <tr>\n",
       "      <th>4</th>\n",
       "      <td>High</td>\n",
       "      <td>31.653200</td>\n",
       "      <td>7.776978</td>\n",
       "      <td>Nano</td>\n",
       "      <td>273.960377</td>\n",
       "    </tr>\n",
       "  </tbody>\n",
       "</table>\n",
       "</div>"
      ],
      "text/plain": [
       "       TV      Radio  Social Media Influencer       Sales\n",
       "0     Low   3.518070      2.293790      Micro   55.261284\n",
       "1     Low   7.756876      2.572287       Mega   67.574904\n",
       "2    High  20.348988      1.227180      Micro  272.250108\n",
       "3  Medium  20.108487      2.728374       Mega  195.102176\n",
       "4    High  31.653200      7.776978       Nano  273.960377"
      ]
     },
     "execution_count": 123,
     "metadata": {},
     "output_type": "execute_result"
    }
   ],
   "source": [
    "market = pd.read_csv(\"marketing_sales_data.csv\")\n",
    "market.head()"
   ]
  },
  {
   "cell_type": "code",
   "execution_count": 124,
   "id": "d472689c-a5d1-48ea-9e95-8043a936a04f",
   "metadata": {},
   "outputs": [
    {
     "data": {
      "text/plain": [
       "(572, 5)"
      ]
     },
     "execution_count": 124,
     "metadata": {},
     "output_type": "execute_result"
    }
   ],
   "source": [
    "market.shape"
   ]
  },
  {
   "cell_type": "code",
   "execution_count": 125,
   "id": "3d21f76a-8e2a-4dd7-8181-4c5be9ca69ac",
   "metadata": {},
   "outputs": [
    {
     "data": {
      "text/plain": [
       "TV              0\n",
       "Radio           0\n",
       "Social Media    0\n",
       "Influencer      0\n",
       "Sales           0\n",
       "dtype: int64"
      ]
     },
     "execution_count": 125,
     "metadata": {},
     "output_type": "execute_result"
    }
   ],
   "source": [
    "market.isna().sum()"
   ]
  },
  {
   "cell_type": "code",
   "execution_count": 126,
   "id": "e0a695bc-1e70-4e8e-8993-351f7ebf12bc",
   "metadata": {},
   "outputs": [
    {
     "data": {
      "image/png": "[encoded data removed]",
      "text/plain": [
       "<Figure size 750x750 with 12 Axes>"
      ]
     },
     "metadata": {},
     "output_type": "display_data"
    }
   ],
   "source": [
    "sns.pairplot(market)\n",
    "plt.show()"
   ]
  },
  {
   "cell_type": "code",
   "execution_count": 127,
   "id": "741eb303-e082-47ec-a4bc-77f4153005fe",
   "metadata": {},
   "outputs": [],
   "source": [
    "train = market.sample(frac = 0.75, random_state=0)\n",
    "test = market.drop(train.index)"
   ]
  },
  {
   "cell_type": "code",
   "execution_count": 128,
   "id": "735d4421-d45c-4fbd-8ec3-9ce0f7146a6b",
   "metadata": {},
   "outputs": [
    {
     "data": {
      "text/html": [
       "<div>\n",
       "<style scoped>\n",
       "    .dataframe tbody tr th:only-of-type {\n",
       "        vertical-align: middle;\n",
       "    }\n",
       "\n",
       "    .dataframe tbody tr th {\n",
       "        vertical-align: top;\n",
       "    }\n",
       "\n",
       "    .dataframe thead th {\n",
       "        text-align: right;\n",
       "    }\n",
       "</style>\n",
       "<table border=\"1\" class=\"dataframe\">\n",
       "  <thead>\n",
       "    <tr style=\"text-align: right;\">\n",
       "      <th></th>\n",
       "      <th>TV</th>\n",
       "      <th>Radio</th>\n",
       "      <th>Social Media</th>\n",
       "      <th>Influencer</th>\n",
       "      <th>Sales</th>\n",
       "    </tr>\n",
       "  </thead>\n",
       "  <tbody>\n",
       "    <tr>\n",
       "      <th>231</th>\n",
       "      <td>Low</td>\n",
       "      <td>13.527680</td>\n",
       "      <td>1.309440</td>\n",
       "      <td>Micro</td>\n",
       "      <td>134.697120</td>\n",
       "    </tr>\n",
       "    <tr>\n",
       "      <th>268</th>\n",
       "      <td>Medium</td>\n",
       "      <td>18.181466</td>\n",
       "      <td>2.970730</td>\n",
       "      <td>Mega</td>\n",
       "      <td>232.225684</td>\n",
       "    </tr>\n",
       "    <tr>\n",
       "      <th>315</th>\n",
       "      <td>High</td>\n",
       "      <td>20.299455</td>\n",
       "      <td>8.637936</td>\n",
       "      <td>Nano</td>\n",
       "      <td>268.565732</td>\n",
       "    </tr>\n",
       "    <tr>\n",
       "      <th>391</th>\n",
       "      <td>High</td>\n",
       "      <td>28.660045</td>\n",
       "      <td>3.637390</td>\n",
       "      <td>Macro</td>\n",
       "      <td>321.744457</td>\n",
       "    </tr>\n",
       "    <tr>\n",
       "      <th>179</th>\n",
       "      <td>Medium</td>\n",
       "      <td>14.849558</td>\n",
       "      <td>6.545392</td>\n",
       "      <td>Micro</td>\n",
       "      <td>181.661600</td>\n",
       "    </tr>\n",
       "  </tbody>\n",
       "</table>\n",
       "</div>"
      ],
      "text/plain": [
       "         TV      Radio  Social Media Influencer       Sales\n",
       "231     Low  13.527680      1.309440      Micro  134.697120\n",
       "268  Medium  18.181466      2.970730       Mega  232.225684\n",
       "315    High  20.299455      8.637936       Nano  268.565732\n",
       "391    High  28.660045      3.637390      Macro  321.744457\n",
       "179  Medium  14.849558      6.545392      Micro  181.661600"
      ]
     },
     "execution_count": 128,
     "metadata": {},
     "output_type": "execute_result"
    }
   ],
   "source": [
    "train.head()"
   ]
  },
  {
   "cell_type": "code",
   "execution_count": 129,
   "id": "47346475-e76c-4efd-a450-b37e14b7d251",
   "metadata": {},
   "outputs": [
    {
     "data": {
      "text/html": [
       "<div>\n",
       "<style scoped>\n",
       "    .dataframe tbody tr th:only-of-type {\n",
       "        vertical-align: middle;\n",
       "    }\n",
       "\n",
       "    .dataframe tbody tr th {\n",
       "        vertical-align: top;\n",
       "    }\n",
       "\n",
       "    .dataframe thead th {\n",
       "        text-align: right;\n",
       "    }\n",
       "</style>\n",
       "<table border=\"1\" class=\"dataframe\">\n",
       "  <thead>\n",
       "    <tr style=\"text-align: right;\">\n",
       "      <th></th>\n",
       "      <th>TV</th>\n",
       "      <th>Radio</th>\n",
       "      <th>Social Media</th>\n",
       "      <th>Influencer</th>\n",
       "      <th>Sales</th>\n",
       "    </tr>\n",
       "  </thead>\n",
       "  <tbody>\n",
       "    <tr>\n",
       "      <th>0</th>\n",
       "      <td>Low</td>\n",
       "      <td>3.518070</td>\n",
       "      <td>2.293790</td>\n",
       "      <td>Micro</td>\n",
       "      <td>55.261284</td>\n",
       "    </tr>\n",
       "    <tr>\n",
       "      <th>3</th>\n",
       "      <td>Medium</td>\n",
       "      <td>20.108487</td>\n",
       "      <td>2.728374</td>\n",
       "      <td>Mega</td>\n",
       "      <td>195.102176</td>\n",
       "    </tr>\n",
       "    <tr>\n",
       "      <th>9</th>\n",
       "      <td>High</td>\n",
       "      <td>26.914287</td>\n",
       "      <td>6.074165</td>\n",
       "      <td>Mega</td>\n",
       "      <td>322.466797</td>\n",
       "    </tr>\n",
       "    <tr>\n",
       "      <th>11</th>\n",
       "      <td>Low</td>\n",
       "      <td>6.233074</td>\n",
       "      <td>3.695363</td>\n",
       "      <td>Macro</td>\n",
       "      <td>45.074834</td>\n",
       "    </tr>\n",
       "    <tr>\n",
       "      <th>19</th>\n",
       "      <td>Medium</td>\n",
       "      <td>12.840594</td>\n",
       "      <td>2.482908</td>\n",
       "      <td>Nano</td>\n",
       "      <td>214.786639</td>\n",
       "    </tr>\n",
       "  </tbody>\n",
       "</table>\n",
       "</div>"
      ],
      "text/plain": [
       "        TV      Radio  Social Media Influencer       Sales\n",
       "0      Low   3.518070      2.293790      Micro   55.261284\n",
       "3   Medium  20.108487      2.728374       Mega  195.102176\n",
       "9     High  26.914287      6.074165       Mega  322.466797\n",
       "11     Low   6.233074      3.695363      Macro   45.074834\n",
       "19  Medium  12.840594      2.482908       Nano  214.786639"
      ]
     },
     "execution_count": 129,
     "metadata": {},
     "output_type": "execute_result"
    }
   ],
   "source": [
    "test.head()"
   ]
  },
  {
   "cell_type": "code",
   "execution_count": 130,
   "id": "7977e87c-3ec8-4978-89ea-af6afa980eb0",
   "metadata": {},
   "outputs": [],
   "source": [
    "train_subset = train[[\"Radio\", \"Sales\"]]\n",
    "test_subset = test[[\"Radio\", \"Sales\"]]"
   ]
  },
  {
   "cell_type": "code",
   "execution_count": 131,
   "id": "5686700c-7409-4a7e-a6a4-c0e9893ffb69",
   "metadata": {},
   "outputs": [
    {
     "data": {
      "text/html": [
       "<div>\n",
       "<style scoped>\n",
       "    .dataframe tbody tr th:only-of-type {\n",
       "        vertical-align: middle;\n",
       "    }\n",
       "\n",
       "    .dataframe tbody tr th {\n",
       "        vertical-align: top;\n",
       "    }\n",
       "\n",
       "    .dataframe thead th {\n",
       "        text-align: right;\n",
       "    }\n",
       "</style>\n",
       "<table border=\"1\" class=\"dataframe\">\n",
       "  <thead>\n",
       "    <tr style=\"text-align: right;\">\n",
       "      <th></th>\n",
       "      <th>Radio</th>\n",
       "      <th>Sales</th>\n",
       "    </tr>\n",
       "  </thead>\n",
       "  <tbody>\n",
       "    <tr>\n",
       "      <th>231</th>\n",
       "      <td>13.527680</td>\n",
       "      <td>134.697120</td>\n",
       "    </tr>\n",
       "    <tr>\n",
       "      <th>268</th>\n",
       "      <td>18.181466</td>\n",
       "      <td>232.225684</td>\n",
       "    </tr>\n",
       "    <tr>\n",
       "      <th>315</th>\n",
       "      <td>20.299455</td>\n",
       "      <td>268.565732</td>\n",
       "    </tr>\n",
       "    <tr>\n",
       "      <th>391</th>\n",
       "      <td>28.660045</td>\n",
       "      <td>321.744457</td>\n",
       "    </tr>\n",
       "    <tr>\n",
       "      <th>179</th>\n",
       "      <td>14.849558</td>\n",
       "      <td>181.661600</td>\n",
       "    </tr>\n",
       "  </tbody>\n",
       "</table>\n",
       "</div>"
      ],
      "text/plain": [
       "         Radio       Sales\n",
       "231  13.527680  134.697120\n",
       "268  18.181466  232.225684\n",
       "315  20.299455  268.565732\n",
       "391  28.660045  321.744457\n",
       "179  14.849558  181.661600"
      ]
     },
     "execution_count": 131,
     "metadata": {},
     "output_type": "execute_result"
    }
   ],
   "source": [
    "train_subset.head()"
   ]
  },
  {
   "cell_type": "code",
   "execution_count": 132,
   "id": "f7eadd16-fac2-4924-9813-4cc7f2b47c89",
   "metadata": {},
   "outputs": [
    {
     "data": {
      "text/html": [
       "<div>\n",
       "<style scoped>\n",
       "    .dataframe tbody tr th:only-of-type {\n",
       "        vertical-align: middle;\n",
       "    }\n",
       "\n",
       "    .dataframe tbody tr th {\n",
       "        vertical-align: top;\n",
       "    }\n",
       "\n",
       "    .dataframe thead th {\n",
       "        text-align: right;\n",
       "    }\n",
       "</style>\n",
       "<table border=\"1\" class=\"dataframe\">\n",
       "  <thead>\n",
       "    <tr style=\"text-align: right;\">\n",
       "      <th></th>\n",
       "      <th>Radio</th>\n",
       "      <th>Sales</th>\n",
       "    </tr>\n",
       "  </thead>\n",
       "  <tbody>\n",
       "    <tr>\n",
       "      <th>0</th>\n",
       "      <td>3.518070</td>\n",
       "      <td>55.261284</td>\n",
       "    </tr>\n",
       "    <tr>\n",
       "      <th>3</th>\n",
       "      <td>20.108487</td>\n",
       "      <td>195.102176</td>\n",
       "    </tr>\n",
       "    <tr>\n",
       "      <th>9</th>\n",
       "      <td>26.914287</td>\n",
       "      <td>322.466797</td>\n",
       "    </tr>\n",
       "    <tr>\n",
       "      <th>11</th>\n",
       "      <td>6.233074</td>\n",
       "      <td>45.074834</td>\n",
       "    </tr>\n",
       "    <tr>\n",
       "      <th>19</th>\n",
       "      <td>12.840594</td>\n",
       "      <td>214.786639</td>\n",
       "    </tr>\n",
       "  </tbody>\n",
       "</table>\n",
       "</div>"
      ],
      "text/plain": [
       "        Radio       Sales\n",
       "0    3.518070   55.261284\n",
       "3   20.108487  195.102176\n",
       "9   26.914287  322.466797\n",
       "11   6.233074   45.074834\n",
       "19  12.840594  214.786639"
      ]
     },
     "execution_count": 132,
     "metadata": {},
     "output_type": "execute_result"
    }
   ],
   "source": [
    "test_subset.head()"
   ]
  },
  {
   "cell_type": "code",
   "execution_count": 133,
   "id": "05c56105-0fba-4edb-92c2-f312183534e1",
   "metadata": {},
   "outputs": [],
   "source": [
    "ols_market = ols(formula = \"Sales ~ Radio\", data = train_subset)"
   ]
  },
  {
   "cell_type": "code",
   "execution_count": 135,
   "id": "3acbd088-3444-4ab8-a4df-a1778ac60f45",
   "metadata": {},
   "outputs": [],
   "source": [
    "model = ols_market.fit()"
   ]
  },
  {
   "cell_type": "code",
   "execution_count": 136,
   "id": "45d24850-9416-4942-b2fc-1fb267c0a9a3",
   "metadata": {},
   "outputs": [
    {
     "data": {
      "text/html": [
       "<table class=\"simpletable\">\n",
       "<caption>OLS Regression Results</caption>\n",
       "<tr>\n",
       "  <th>Dep. Variable:</th>          <td>Sales</td>      <th>  R-squared:         </th> <td>   0.743</td> \n",
       "</tr>\n",
       "<tr>\n",
       "  <th>Model:</th>                   <td>OLS</td>       <th>  Adj. R-squared:    </th> <td>   0.743</td> \n",
       "</tr>\n",
       "<tr>\n",
       "  <th>Method:</th>             <td>Least Squares</td>  <th>  F-statistic:       </th> <td>   1237.</td> \n",
       "</tr>\n",
       "<tr>\n",
       "  <th>Date:</th>             <td>Fri, 30 May 2025</td> <th>  Prob (F-statistic):</th> <td>3.40e-128</td>\n",
       "</tr>\n",
       "<tr>\n",
       "  <th>Time:</th>                 <td>13:42:17</td>     <th>  Log-Likelihood:    </th> <td> -2251.0</td> \n",
       "</tr>\n",
       "<tr>\n",
       "  <th>No. Observations:</th>      <td>   429</td>      <th>  AIC:               </th> <td>   4506.</td> \n",
       "</tr>\n",
       "<tr>\n",
       "  <th>Df Residuals:</th>          <td>   427</td>      <th>  BIC:               </th> <td>   4514.</td> \n",
       "</tr>\n",
       "<tr>\n",
       "  <th>Df Model:</th>              <td>     1</td>      <th>                     </th>     <td> </td>    \n",
       "</tr>\n",
       "<tr>\n",
       "  <th>Covariance Type:</th>      <td>nonrobust</td>    <th>                     </th>     <td> </td>    \n",
       "</tr>\n",
       "</table>\n",
       "<table class=\"simpletable\">\n",
       "<tr>\n",
       "      <td></td>         <th>coef</th>     <th>std err</th>      <th>t</th>      <th>P>|t|</th>  <th>[0.025</th>    <th>0.975]</th>  \n",
       "</tr>\n",
       "<tr>\n",
       "  <th>Intercept</th> <td>   42.8594</td> <td>    4.745</td> <td>    9.033</td> <td> 0.000</td> <td>   33.533</td> <td>   52.186</td>\n",
       "</tr>\n",
       "<tr>\n",
       "  <th>Radio</th>     <td>    8.4170</td> <td>    0.239</td> <td>   35.171</td> <td> 0.000</td> <td>    7.947</td> <td>    8.887</td>\n",
       "</tr>\n",
       "</table>\n",
       "<table class=\"simpletable\">\n",
       "<tr>\n",
       "  <th>Omnibus:</th>       <td> 0.197</td> <th>  Durbin-Watson:     </th> <td>   2.153</td>\n",
       "</tr>\n",
       "<tr>\n",
       "  <th>Prob(Omnibus):</th> <td> 0.906</td> <th>  Jarque-Bera (JB):  </th> <td>   0.088</td>\n",
       "</tr>\n",
       "<tr>\n",
       "  <th>Skew:</th>          <td> 0.022</td> <th>  Prob(JB):          </th> <td>   0.957</td>\n",
       "</tr>\n",
       "<tr>\n",
       "  <th>Kurtosis:</th>      <td> 3.055</td> <th>  Cond. No.          </th> <td>    42.4</td>\n",
       "</tr>\n",
       "</table><br/><br/>Notes:<br/>[1] Standard Errors assume that the covariance matrix of the errors is correctly specified."
      ],
      "text/latex": [
       "\\begin{center}\n",
       "\\begin{tabular}{lclc}\n",
       "\\toprule\n",
       "\\textbf{Dep. Variable:}    &      Sales       & \\textbf{  R-squared:         } &     0.743   \\\\\n",
       "\\textbf{Model:}            &       OLS        & \\textbf{  Adj. R-squared:    } &     0.743   \\\\\n",
       "\\textbf{Method:}           &  Least Squares   & \\textbf{  F-statistic:       } &     1237.   \\\\\n",
       "\\textbf{Date:}             & Fri, 30 May 2025 & \\textbf{  Prob (F-statistic):} & 3.40e-128   \\\\\n",
       "\\textbf{Time:}             &     13:42:17     & \\textbf{  Log-Likelihood:    } &   -2251.0   \\\\\n",
       "\\textbf{No. Observations:} &         429      & \\textbf{  AIC:               } &     4506.   \\\\\n",
       "\\textbf{Df Residuals:}     &         427      & \\textbf{  BIC:               } &     4514.   \\\\\n",
       "\\textbf{Df Model:}         &           1      & \\textbf{                     } &             \\\\\n",
       "\\textbf{Covariance Type:}  &    nonrobust     & \\textbf{                     } &             \\\\\n",
       "\\bottomrule\n",
       "\\end{tabular}\n",
       "\\begin{tabular}{lcccccc}\n",
       "                   & \\textbf{coef} & \\textbf{std err} & \\textbf{t} & \\textbf{P$> |$t$|$} & \\textbf{[0.025} & \\textbf{0.975]}  \\\\\n",
       "\\midrule\n",
       "\\textbf{Intercept} &      42.8594  &        4.745     &     9.033  &         0.000        &       33.533    &       52.186     \\\\\n",
       "\\textbf{Radio}     &       8.4170  &        0.239     &    35.171  &         0.000        &        7.947    &        8.887     \\\\\n",
       "\\bottomrule\n",
       "\\end{tabular}\n",
       "\\begin{tabular}{lclc}\n",
       "\\textbf{Omnibus:}       &  0.197 & \\textbf{  Durbin-Watson:     } &    2.153  \\\\\n",
       "\\textbf{Prob(Omnibus):} &  0.906 & \\textbf{  Jarque-Bera (JB):  } &    0.088  \\\\\n",
       "\\textbf{Skew:}          &  0.022 & \\textbf{  Prob(JB):          } &    0.957  \\\\\n",
       "\\textbf{Kurtosis:}      &  3.055 & \\textbf{  Cond. No.          } &     42.4  \\\\\n",
       "\\bottomrule\n",
       "\\end{tabular}\n",
       "%\\caption{OLS Regression Results}\n",
       "\\end{center}\n",
       "\n",
       "Notes: \\newline\n",
       " [1] Standard Errors assume that the covariance matrix of the errors is correctly specified."
      ],
      "text/plain": [
       "<class 'statsmodels.iolib.summary.Summary'>\n",
       "\"\"\"\n",
       "                            OLS Regression Results                            \n",
       "==============================================================================\n",
       "Dep. Variable:                  Sales   R-squared:                       0.743\n",
       "Model:                            OLS   Adj. R-squared:                  0.743\n",
       "Method:                 Least Squares   F-statistic:                     1237.\n",
       "Date:                Fri, 30 May 2025   Prob (F-statistic):          3.40e-128\n",
       "Time:                        13:42:17   Log-Likelihood:                -2251.0\n",
       "No. Observations:                 429   AIC:                             4506.\n",
       "Df Residuals:                     427   BIC:                             4514.\n",
       "Df Model:                           1                                         \n",
       "Covariance Type:            nonrobust                                         \n",
       "==============================================================================\n",
       "                 coef    std err          t      P>|t|      [0.025      0.975]\n",
       "------------------------------------------------------------------------------\n",
       "Intercept     42.8594      4.745      9.033      0.000      33.533      52.186\n",
       "Radio          8.4170      0.239     35.171      0.000       7.947       8.887\n",
       "==============================================================================\n",
       "Omnibus:                        0.197   Durbin-Watson:                   2.153\n",
       "Prob(Omnibus):                  0.906   Jarque-Bera (JB):                0.088\n",
       "Skew:                           0.022   Prob(JB):                        0.957\n",
       "Kurtosis:                       3.055   Cond. No.                         42.4\n",
       "==============================================================================\n",
       "\n",
       "Notes:\n",
       "[1] Standard Errors assume that the covariance matrix of the errors is correctly specified.\n",
       "\"\"\""
      ]
     },
     "execution_count": 136,
     "metadata": {},
     "output_type": "execute_result"
    }
   ],
   "source": [
    "model.summary()"
   ]
  },
  {
   "cell_type": "code",
   "execution_count": 137,
   "id": "45f3b107-3daa-45b1-983d-e3872069a4f7",
   "metadata": {},
   "outputs": [
    {
     "data": {
      "image/png": "[encoded data removed]",
      "text/plain": [
       "<Figure size 640x480 with 1 Axes>"
      ]
     },
     "metadata": {},
     "output_type": "display_data"
    }
   ],
   "source": [
    "sns.regplot(x = \"Radio\", y = \"Sales\", data = train_subset)\n",
    "plt.show()"
   ]
  },
  {
   "cell_type": "code",
   "execution_count": 138,
   "id": "03b4d1c4-a5ce-48c4-ad13-b4cbd7a861a6",
   "metadata": {},
   "outputs": [
    {
     "data": {
      "text/plain": [
       "231   -22.024867\n",
       "268    36.332763\n",
       "315    54.845684\n",
       "391    37.653283\n",
       "179    13.813358\n",
       "         ...    \n",
       "323   -20.478144\n",
       "516   -22.510326\n",
       "248    66.404221\n",
       "410    31.676262\n",
       "555    -8.268191\n",
       "Length: 429, dtype: float64"
      ]
     },
     "execution_count": 138,
     "metadata": {},
     "output_type": "execute_result"
    }
   ],
   "source": [
    "residuals = model.resid\n",
    "residuals"
   ]
  },
  {
   "cell_type": "code",
   "execution_count": 139,
   "id": "d258b2c9-ea83-4555-91fd-fabc7c5dae06",
   "metadata": {},
   "outputs": [
    {
     "data": {
      "image/png": "[encoded data removed]",
      "text/plain": [
       "<Figure size 640x480 with 1 Axes>"
      ]
     },
     "metadata": {},
     "output_type": "display_data"
    }
   ],
   "source": [
    "sns.histplot(residuals)\n",
    "plt.xlabel(\"Residual\")\n",
    "plt.show()"
   ]
  },
  {
   "cell_type": "code",
   "execution_count": 140,
   "id": "74d53709-94db-4bb4-ac17-d7079ee3cbed",
   "metadata": {},
   "outputs": [
    {
     "data": {
      "image/png": "[encoded data removed]",
      "text/plain": [
       "<Figure size 640x480 with 1 Axes>"
      ]
     },
     "metadata": {},
     "output_type": "display_data"
    }
   ],
   "source": [
    "sm.qqplot(residuals, line='s')\n",
    "plt.show()"
   ]
  },
  {
   "cell_type": "code",
   "execution_count": 141,
   "id": "37d2b46c-b31b-4646-90e0-d4029b722847",
   "metadata": {},
   "outputs": [
    {
     "data": {
      "text/plain": [
       "231    156.721987\n",
       "268    195.892921\n",
       "315    213.720048\n",
       "391    284.091174\n",
       "179    167.848243\n",
       "          ...    \n",
       "323    293.680315\n",
       "516    350.102828\n",
       "248    285.125298\n",
       "410    298.967452\n",
       "555     54.901523\n",
       "Length: 429, dtype: float64"
      ]
     },
     "execution_count": 141,
     "metadata": {},
     "output_type": "execute_result"
    }
   ],
   "source": [
    "preds_train = model.predict(train_subset[\"Radio\"])\n",
    "preds_train"
   ]
  },
  {
   "cell_type": "code",
   "execution_count": 142,
   "id": "af4009ee-8bd0-498f-a92d-1b3c7e9006c0",
   "metadata": {},
   "outputs": [
    {
     "data": {
      "image/png": "[encoded data removed]",
      "text/plain": [
       "<Figure size 640x480 with 1 Axes>"
      ]
     },
     "metadata": {},
     "output_type": "display_data"
    }
   ],
   "source": [
    "sns.scatterplot(x = preds_train, y = residuals)\n",
    "plt.axhline(0)\n",
    "plt.xlabel(\"Prediction\")\n",
    "plt.ylabel(\"Residual\")\n",
    "plt.show()"
   ]
  },
  {
   "cell_type": "code",
   "execution_count": 143,
   "id": "50d7097a-7b3d-4e27-b1a7-65330468c014",
   "metadata": {},
   "outputs": [
    {
     "data": {
      "text/plain": [
       "0       72.471055\n",
       "3      212.112667\n",
       "9      269.397116\n",
       "11      95.323255\n",
       "19     150.938780\n",
       "          ...    \n",
       "544     85.965212\n",
       "551    128.534124\n",
       "554    202.556233\n",
       "559    158.868176\n",
       "571    154.142659\n",
       "Length: 143, dtype: float64"
      ]
     },
     "execution_count": 143,
     "metadata": {},
     "output_type": "execute_result"
    }
   ],
   "source": [
    "preds_test = model.predict(test_subset[\"Radio\"])\n",
    "preds_test"
   ]
  },
  {
   "cell_type": "code",
   "execution_count": null,
   "id": "f3449523-eaaa-4911-8e32-6a3c4fe9441b",
   "metadata": {},
   "outputs": [],
   "source": [
    "# https://www.kaggle.com/"
   ]
  },
  {
   "cell_type": "code",
   "execution_count": null,
   "id": "4c40b7c4-f588-4655-b63e-44a0eb307bea",
   "metadata": {},
   "outputs": [],
   "source": []
  }
 ],
 "metadata": {
  "kernelspec": {
   "display_name": "base",
   "language": "python",
   "name": "python3"
  },
  "language_info": {
   "codemirror_mode": {
    "name": "ipython",
    "version": 3
   },
   "file_extension": ".py",
   "mimetype": "text/x-python",
   "name": "python",
   "nbconvert_exporter": "python",
   "pygments_lexer": "ipython3",
   "version": "3.12.7"
  }
 },
 "nbformat": 4,
 "nbformat_minor": 5
}
