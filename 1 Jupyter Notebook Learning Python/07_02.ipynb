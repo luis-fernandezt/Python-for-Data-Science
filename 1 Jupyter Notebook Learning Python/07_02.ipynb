{
 "cells": [
  {
   "cell_type": "code",
   "execution_count": null,
   "id": "3b94f44e",
   "metadata": {},
   "outputs": [],
   "source": [
    "# import necessary Python libraries\n",
    "\n",
    "import pandas as pd\n",
    "import matplotlib.pyplot as plt\n",
    "import seaborn as sns"
   ]
  },
  {
   "cell_type": "code",
   "execution_count": null,
   "id": "0b19fd15",
   "metadata": {},
   "outputs": [],
   "source": [
    "# load the data from the csv file into a dataframe \n",
    "\n",
    "listings = pd.read_csv(\"Airbnb_NYC_2019.csv\")"
   ]
  },
  {
   "cell_type": "code",
   "execution_count": null,
   "id": "6771b500",
   "metadata": {},
   "outputs": [],
   "source": [
    "# display the dataframe\n",
    "\n",
    "listings"
   ]
  },
  {
   "cell_type": "code",
   "execution_count": null,
   "id": "e8477524",
   "metadata": {},
   "outputs": [],
   "source": [
    "# create a count plot that displays the count of Airbnb listings in each neighbourhood group of New York City\n",
    "# display the plot on the screen\n",
    "\n",
    "sns.countplot(x = \"neighbourhood_group\", data = listings)\n",
    "plt.show()"
   ]
  },
  {
   "cell_type": "code",
   "execution_count": 1,
   "id": "211522b2",
   "metadata": {},
   "outputs": [
    {
     "ename": "NameError",
     "evalue": "name 'sn' is not defined",
     "output_type": "error",
     "traceback": [
      "\u001b[1;31m---------------------------------------------------------------------------\u001b[0m",
      "\u001b[1;31mNameError\u001b[0m                                 Traceback (most recent call last)",
      "Cell \u001b[1;32mIn[1], line 4\u001b[0m\n\u001b[0;32m      1\u001b[0m \u001b[38;5;66;03m# create a bar plot that displays the average price of Airbnb listings in each neighborhood group of New York City\u001b[39;00m\n\u001b[0;32m      2\u001b[0m \u001b[38;5;66;03m# display the plot on the screen\u001b[39;00m\n\u001b[1;32m----> 4\u001b[0m sn\u001b[38;5;241m.\u001b[39mbarplot(x \u001b[38;5;241m=\u001b[39m \u001b[38;5;124m\"\u001b[39m\u001b[38;5;124mneighbourhood_group\u001b[39m\u001b[38;5;124m\"\u001b[39m, y \u001b[38;5;241m=\u001b[39m \u001b[38;5;124m\"\u001b[39m\u001b[38;5;124mprice\u001b[39m\u001b[38;5;124m\"\u001b[39m, data \u001b[38;5;241m=\u001b[39m listings)\n\u001b[0;32m      5\u001b[0m plt\u001b[38;5;241m.\u001b[39mshow()\n",
      "\u001b[1;31mNameError\u001b[0m: name 'sn' is not defined"
     ]
    }
   ],
   "source": [
    "# create a bar plot that displays the average price of Airbnb listings in each neighborhood group of New York City\n",
    "# display the plot on the screen\n",
    "\n",
    "sn.barplot(x = \"neighbourhood_group\", y = \"price\", data = listings)\n",
    "plt.show()"
   ]
  },
  {
   "cell_type": "code",
   "execution_count": null,
   "id": "1780614c",
   "metadata": {},
   "outputs": [],
   "source": [
    "# create a bar plot that displays the average price of Airbnb listings in each neighborhood group of New York City\n",
    "# display the plot on the screen\n",
    "\n",
    "sns.barplot(x = \"neighbourhood_group\", y = \"price\", data = listings, ci = False)\n",
    "plt.show()"
   ]
  },
  {
   "cell_type": "code",
   "execution_count": null,
   "id": "ad7ab17e",
   "metadata": {},
   "outputs": [],
   "source": []
  }
 ],
 "metadata": {
  "kernelspec": {
   "display_name": "Python [conda env:base] *",
   "language": "python",
   "name": "conda-base-py"
  },
  "language_info": {
   "codemirror_mode": {
    "name": "ipython",
    "version": 3
   },
   "file_extension": ".py",
   "mimetype": "text/x-python",
   "name": "python",
   "nbconvert_exporter": "python",
   "pygments_lexer": "ipython3",
   "version": "3.12.7"
  }
 },
 "nbformat": 4,
 "nbformat_minor": 5
}
